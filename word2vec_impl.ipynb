{
 "cells": [
  {
   "cell_type": "code",
   "execution_count": 8,
   "id": "6e8dab67-fa94-4a69-a945-d5441e48eadb",
   "metadata": {},
   "outputs": [],
   "source": [
    "# import nltk\n",
    "# nltk.download('product_reviews_1')"
   ]
  },
  {
   "cell_type": "code",
   "execution_count": 12,
   "id": "c30822f1-1bef-4771-b795-2f03ecf93c6c",
   "metadata": {},
   "outputs": [],
   "source": [
    "import re\n",
    "\n",
    "import nltk\n",
    "from nltk.corpus import product_reviews_1 as corpus\n",
    "\n",
    "import numpy as np"
   ]
  },
  {
   "cell_type": "markdown",
   "id": "e50999be-6c14-4e09-9776-4b845328b704",
   "metadata": {},
   "source": [
    "# Loading data"
   ]
  },
  {
   "cell_type": "code",
   "execution_count": 13,
   "id": "860a69f2-b57d-4059-bce1-2dc80e268a4c",
   "metadata": {},
   "outputs": [
    {
     "data": {
      "text/plain": [
       "['repost', 'from', 'january', '13', ',', '2004', ...]"
      ]
     },
     "execution_count": 13,
     "metadata": {},
     "output_type": "execute_result"
    }
   ],
   "source": [
    "corpus.words()"
   ]
  },
  {
   "cell_type": "code",
   "execution_count": null,
   "id": "84be4888-53d6-4d7f-9d8d-478784ba3f4e",
   "metadata": {},
   "outputs": [],
   "source": []
  }
 ],
 "metadata": {
  "kernelspec": {
   "display_name": "Python 3 (ipykernel)",
   "language": "python",
   "name": "python3"
  },
  "language_info": {
   "codemirror_mode": {
    "name": "ipython",
    "version": 3
   },
   "file_extension": ".py",
   "mimetype": "text/x-python",
   "name": "python",
   "nbconvert_exporter": "python",
   "pygments_lexer": "ipython3",
   "version": "3.9.1"
  }
 },
 "nbformat": 4,
 "nbformat_minor": 5
}

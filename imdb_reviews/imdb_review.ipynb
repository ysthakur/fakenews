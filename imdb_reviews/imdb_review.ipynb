{
 "cells": [
  {
   "cell_type": "code",
   "execution_count": null,
   "id": "0004dd40-6cb4-492e-9f34-f5851df41560",
   "metadata": {},
   "outputs": [],
   "source": [
    "# Data obtained from https://ai.stanford.edu/~amaas/data/sentiment/"
   ]
  },
  {
   "cell_type": "markdown",
   "id": "549da3e9-0e8d-408b-a901-32da15b86384",
   "metadata": {
    "tags": []
   },
   "source": [
    "# Setup"
   ]
  },
  {
   "cell_type": "code",
   "execution_count": 80,
   "id": "a49aca39-8909-4489-a653-0dea0434ecc3",
   "metadata": {},
   "outputs": [],
   "source": [
    "import os\n",
    "import math\n",
    "import re\n",
    "import random\n",
    "import json\n",
    "\n",
    "import gensim\n",
    "from gensim.models import Word2Vec\n",
    "\n",
    "import pandas as pd\n",
    "\n",
    "import nltk\n",
    "from nltk.stem import WordNetLemmatizer\n",
    "\n",
    "from sklearn.decomposition import PCA, KernelPCA\n",
    "\n",
    "import matplotlib.pyplot as plt\n",
    "%matplotlib inline\n",
    "\n",
    "import numpy as np"
   ]
  },
  {
   "cell_type": "code",
   "execution_count": 2,
   "id": "e412e942-3619-4f5a-8db0-88b907bb8780",
   "metadata": {},
   "outputs": [],
   "source": [
    "# nltk.download('punkt')\n",
    "# nltk.download('stopwords')"
   ]
  },
  {
   "cell_type": "markdown",
   "id": "0f956836-eadf-471c-9c9a-a2dbcb835589",
   "metadata": {
    "tags": []
   },
   "source": [
    "# Loading data"
   ]
  },
  {
   "cell_type": "code",
   "execution_count": 50,
   "id": "707b4719-ee93-4e21-a538-0bbb137f0989",
   "metadata": {},
   "outputs": [],
   "source": [
    "def load_train_or_test(dir):\n",
    "    \"\"\"\n",
    "    Return the negative and positive train or test data\n",
    "    \"\"\"\n",
    "    def load_neg_or_pos(sub):\n",
    "        res = []\n",
    "        for file_name in os.listdir(sub):\n",
    "            with open(sub + file_name, encoding='utf8') as file:\n",
    "                underscore_ind = file_name.index('_')\n",
    "                period_ind = file_name.index('.')\n",
    "                id = int(file_name[:underscore_ind])\n",
    "                rating = int(file_name[underscore_ind + 1:period_ind])\n",
    "                text = next(file)\n",
    "                res.append([id, rating, text])\n",
    "        return res\n",
    "    res = load_neg_or_pos(dir + '/neg/')[:6000] + load_neg_or_pos(dir + '/pos/')[:6000]\n",
    "    return pd.DataFrame(res, columns=['Id', 'Rating', 'Text'])\n",
    "        "
   ]
  },
  {
   "cell_type": "code",
   "execution_count": 51,
   "id": "99ad6523-af3e-4583-a5f9-2d60f643e504",
   "metadata": {},
   "outputs": [],
   "source": [
    "train_df, test_df = load_train_or_test('./train'), load_train_or_test('./test')"
   ]
  },
  {
   "cell_type": "code",
   "execution_count": 52,
   "id": "1ca76f19-4069-432c-9107-aaadcf73a3f7",
   "metadata": {},
   "outputs": [
    {
     "data": {
      "text/html": [
       "<div>\n",
       "<style scoped>\n",
       "    .dataframe tbody tr th:only-of-type {\n",
       "        vertical-align: middle;\n",
       "    }\n",
       "\n",
       "    .dataframe tbody tr th {\n",
       "        vertical-align: top;\n",
       "    }\n",
       "\n",
       "    .dataframe thead th {\n",
       "        text-align: right;\n",
       "    }\n",
       "</style>\n",
       "<table border=\"1\" class=\"dataframe\">\n",
       "  <thead>\n",
       "    <tr style=\"text-align: right;\">\n",
       "      <th></th>\n",
       "      <th>Id</th>\n",
       "      <th>Rating</th>\n",
       "      <th>Text</th>\n",
       "    </tr>\n",
       "  </thead>\n",
       "  <tbody>\n",
       "    <tr>\n",
       "      <th>0</th>\n",
       "      <td>0</td>\n",
       "      <td>3</td>\n",
       "      <td>Story of a man who has unnatural feelings for ...</td>\n",
       "    </tr>\n",
       "    <tr>\n",
       "      <th>1</th>\n",
       "      <td>10000</td>\n",
       "      <td>4</td>\n",
       "      <td>Airport '77 starts as a brand new luxury 747 p...</td>\n",
       "    </tr>\n",
       "    <tr>\n",
       "      <th>2</th>\n",
       "      <td>10001</td>\n",
       "      <td>4</td>\n",
       "      <td>This film lacked something I couldn't put my f...</td>\n",
       "    </tr>\n",
       "    <tr>\n",
       "      <th>3</th>\n",
       "      <td>10002</td>\n",
       "      <td>1</td>\n",
       "      <td>Sorry everyone,,, I know this is supposed to b...</td>\n",
       "    </tr>\n",
       "    <tr>\n",
       "      <th>4</th>\n",
       "      <td>10003</td>\n",
       "      <td>1</td>\n",
       "      <td>When I was little my parents took me along to ...</td>\n",
       "    </tr>\n",
       "    <tr>\n",
       "      <th>...</th>\n",
       "      <td>...</td>\n",
       "      <td>...</td>\n",
       "      <td>...</td>\n",
       "    </tr>\n",
       "    <tr>\n",
       "      <th>11995</th>\n",
       "      <td>4146</td>\n",
       "      <td>10</td>\n",
       "      <td>Anyone who lived through the ages of Revenge o...</td>\n",
       "    </tr>\n",
       "    <tr>\n",
       "      <th>11996</th>\n",
       "      <td>4147</td>\n",
       "      <td>8</td>\n",
       "      <td>I don't think this movie is for everyone. But ...</td>\n",
       "    </tr>\n",
       "    <tr>\n",
       "      <th>11997</th>\n",
       "      <td>4148</td>\n",
       "      <td>7</td>\n",
       "      <td>Let's set one thing straight: this movie does ...</td>\n",
       "    </tr>\n",
       "    <tr>\n",
       "      <th>11998</th>\n",
       "      <td>4149</td>\n",
       "      <td>10</td>\n",
       "      <td>Reading some of the comments on the message bo...</td>\n",
       "    </tr>\n",
       "    <tr>\n",
       "      <th>11999</th>\n",
       "      <td>414</td>\n",
       "      <td>10</td>\n",
       "      <td>Cecil B. deMille really knew how to create a c...</td>\n",
       "    </tr>\n",
       "  </tbody>\n",
       "</table>\n",
       "<p>12000 rows × 3 columns</p>\n",
       "</div>"
      ],
      "text/plain": [
       "          Id  Rating                                               Text\n",
       "0          0       3  Story of a man who has unnatural feelings for ...\n",
       "1      10000       4  Airport '77 starts as a brand new luxury 747 p...\n",
       "2      10001       4  This film lacked something I couldn't put my f...\n",
       "3      10002       1  Sorry everyone,,, I know this is supposed to b...\n",
       "4      10003       1  When I was little my parents took me along to ...\n",
       "...      ...     ...                                                ...\n",
       "11995   4146      10  Anyone who lived through the ages of Revenge o...\n",
       "11996   4147       8  I don't think this movie is for everyone. But ...\n",
       "11997   4148       7  Let's set one thing straight: this movie does ...\n",
       "11998   4149      10  Reading some of the comments on the message bo...\n",
       "11999    414      10  Cecil B. deMille really knew how to create a c...\n",
       "\n",
       "[12000 rows x 3 columns]"
      ]
     },
     "execution_count": 52,
     "metadata": {},
     "output_type": "execute_result"
    }
   ],
   "source": [
    "train_df"
   ]
  },
  {
   "cell_type": "markdown",
   "id": "546ae792-ee7f-42dd-b3f9-93fc5366e262",
   "metadata": {
    "tags": []
   },
   "source": [
    "# Creating Word2Vec model"
   ]
  },
  {
   "cell_type": "code",
   "execution_count": 53,
   "id": "cb888e22-57d0-4912-b19a-317bdca3285f",
   "metadata": {},
   "outputs": [],
   "source": [
    "en_stop = set(nltk.corpus.stopwords.words('english'))\n",
    "stemmer = WordNetLemmatizer()\n",
    "\n",
    "def tokenize(text):\n",
    "    text = text.lower()\n",
    "    # Remove non-word characters\n",
    "    text = re.sub(r'[^a-z]', ' ', text)\n",
    "    # Remove single characters\n",
    "    text = re.sub(r'\\b[a-z]\\b', ' ', text)\n",
    "    text = re.sub(r'\\s+', ' ', text)\n",
    "\n",
    "    # Lemmatization\n",
    "    tokens = text.split()\n",
    "    tokens = [stemmer.lemmatize(word) for word in tokens]\n",
    "    tokens = [word for word in tokens if len(word) >= 4 and word not in en_stop]\n",
    "    \n",
    "    return tokens"
   ]
  },
  {
   "cell_type": "code",
   "execution_count": 54,
   "id": "0eb4ae5b-1325-447e-8f23-75106109f4df",
   "metadata": {},
   "outputs": [],
   "source": [
    "train_df['Tokens'] = train_df['Text'].apply(tokenize)"
   ]
  },
  {
   "cell_type": "code",
   "execution_count": 55,
   "id": "ef7f3a22-71f8-46f3-a895-cd300d9485ae",
   "metadata": {},
   "outputs": [
    {
     "data": {
      "text/html": [
       "<div>\n",
       "<style scoped>\n",
       "    .dataframe tbody tr th:only-of-type {\n",
       "        vertical-align: middle;\n",
       "    }\n",
       "\n",
       "    .dataframe tbody tr th {\n",
       "        vertical-align: top;\n",
       "    }\n",
       "\n",
       "    .dataframe thead th {\n",
       "        text-align: right;\n",
       "    }\n",
       "</style>\n",
       "<table border=\"1\" class=\"dataframe\">\n",
       "  <thead>\n",
       "    <tr style=\"text-align: right;\">\n",
       "      <th></th>\n",
       "      <th>Rating</th>\n",
       "      <th>Tokens</th>\n",
       "    </tr>\n",
       "  </thead>\n",
       "  <tbody>\n",
       "    <tr>\n",
       "      <th>0</th>\n",
       "      <td>3</td>\n",
       "      <td>[story, unnatural, feeling, start, opening, sc...</td>\n",
       "    </tr>\n",
       "    <tr>\n",
       "      <th>1</th>\n",
       "      <td>4</td>\n",
       "      <td>[airport, start, brand, luxury, plane, loaded,...</td>\n",
       "    </tr>\n",
       "    <tr>\n",
       "      <th>2</th>\n",
       "      <td>4</td>\n",
       "      <td>[film, lacked, something, finger, first, chari...</td>\n",
       "    </tr>\n",
       "    <tr>\n",
       "      <th>3</th>\n",
       "      <td>1</td>\n",
       "      <td>[sorry, everyone, know, supposed, film, handed...</td>\n",
       "    </tr>\n",
       "    <tr>\n",
       "      <th>4</th>\n",
       "      <td>1</td>\n",
       "      <td>[little, parent, took, along, theater, interio...</td>\n",
       "    </tr>\n",
       "    <tr>\n",
       "      <th>...</th>\n",
       "      <td>...</td>\n",
       "      <td>...</td>\n",
       "    </tr>\n",
       "    <tr>\n",
       "      <th>11995</th>\n",
       "      <td>10</td>\n",
       "      <td>[anyone, lived, revenge, nerd, girlpower, appr...</td>\n",
       "    </tr>\n",
       "    <tr>\n",
       "      <th>11996</th>\n",
       "      <td>8</td>\n",
       "      <td>[think, movie, everyone, weekend, seattle, tho...</td>\n",
       "    </tr>\n",
       "    <tr>\n",
       "      <th>11997</th>\n",
       "      <td>7</td>\n",
       "      <td>[thing, straight, movie, seek, redefine, genre...</td>\n",
       "    </tr>\n",
       "    <tr>\n",
       "      <th>11998</th>\n",
       "      <td>10</td>\n",
       "      <td>[reading, comment, message, board, expecting, ...</td>\n",
       "    </tr>\n",
       "    <tr>\n",
       "      <th>11999</th>\n",
       "      <td>10</td>\n",
       "      <td>[cecil, demille, really, knew, create, classic...</td>\n",
       "    </tr>\n",
       "  </tbody>\n",
       "</table>\n",
       "<p>12000 rows × 2 columns</p>\n",
       "</div>"
      ],
      "text/plain": [
       "       Rating                                             Tokens\n",
       "0           3  [story, unnatural, feeling, start, opening, sc...\n",
       "1           4  [airport, start, brand, luxury, plane, loaded,...\n",
       "2           4  [film, lacked, something, finger, first, chari...\n",
       "3           1  [sorry, everyone, know, supposed, film, handed...\n",
       "4           1  [little, parent, took, along, theater, interio...\n",
       "...       ...                                                ...\n",
       "11995      10  [anyone, lived, revenge, nerd, girlpower, appr...\n",
       "11996       8  [think, movie, everyone, weekend, seattle, tho...\n",
       "11997       7  [thing, straight, movie, seek, redefine, genre...\n",
       "11998      10  [reading, comment, message, board, expecting, ...\n",
       "11999      10  [cecil, demille, really, knew, create, classic...\n",
       "\n",
       "[12000 rows x 2 columns]"
      ]
     },
     "execution_count": 55,
     "metadata": {},
     "output_type": "execute_result"
    }
   ],
   "source": [
    "train_df[['Rating', 'Tokens']]"
   ]
  },
  {
   "cell_type": "code",
   "execution_count": 26,
   "id": "a5f7b133-88ca-4210-8fbb-65978835c92a",
   "metadata": {},
   "outputs": [],
   "source": [
    "model_file = 'imdb_review_w2v.model'"
   ]
  },
  {
   "cell_type": "code",
   "execution_count": 56,
   "id": "04f7d5ca-c486-4717-85f6-2b01ff1f6194",
   "metadata": {},
   "outputs": [],
   "source": [
    "# model = Word2Vec(sentences=train_df['Tokens'])\n",
    "# model.save(model_file)"
   ]
  },
  {
   "cell_type": "code",
   "execution_count": null,
   "id": "730ce442-aaf3-43bf-8cd7-f4c0305b1ff6",
   "metadata": {},
   "outputs": [],
   "source": [
    "model = Word2Vec.load(model_file)"
   ]
  },
  {
   "cell_type": "code",
   "execution_count": 66,
   "id": "faba1fcc-93ea-4cbc-a8e8-10870abbed4f",
   "metadata": {},
   "outputs": [],
   "source": [
    "vocab = set(model.wv.key_to_index.keys())\n",
    "vocab_ord = np.array(list(model.wv.key_to_index.keys()))"
   ]
  },
  {
   "cell_type": "code",
   "execution_count": 74,
   "id": "2b44d932-6f19-4f0d-a88e-8492faa5b499",
   "metadata": {},
   "outputs": [],
   "source": [
    "def get_vector(word):\n",
    "    \"\"\"Get the vector for a word\"\"\"\n",
    "    try:\n",
    "        return model.wv[word]\n",
    "    except:\n",
    "        print(word)\n",
    "        raise"
   ]
  },
  {
   "cell_type": "code",
   "execution_count": 72,
   "id": "eb4f8455-c272-4111-bc23-aaac08480716",
   "metadata": {},
   "outputs": [],
   "source": [
    "# Keep only tokens that showed up the required number of times\n",
    "train_df['Tokens'] = train_df['Tokens'].apply(lambda tokens: list(filter(lambda token: token in vocab, tokens)))\n",
    "# The vectors corresponding to each reviews' words\n",
    "train_df['Vectors'] = train_df['Tokens'].apply(get_vector)"
   ]
  },
  {
   "cell_type": "markdown",
   "id": "0d74fbe2-a691-4f5e-94d3-2b8ddea8d223",
   "metadata": {},
   "source": [
    "# Training"
   ]
  },
  {
   "cell_type": "code",
   "execution_count": 78,
   "id": "ef757789-b73f-4f94-89a5-02f4897553c3",
   "metadata": {},
   "outputs": [],
   "source": []
  },
  {
   "cell_type": "code",
   "execution_count": null,
   "id": "0a124f7e-750e-44d3-82b6-3b21d37d2eaa",
   "metadata": {},
   "outputs": [],
   "source": []
  }
 ],
 "metadata": {
  "kernelspec": {
   "display_name": "Python 3 (ipykernel)",
   "language": "python",
   "name": "python3"
  },
  "language_info": {
   "codemirror_mode": {
    "name": "ipython",
    "version": 3
   },
   "file_extension": ".py",
   "mimetype": "text/x-python",
   "name": "python",
   "nbconvert_exporter": "python",
   "pygments_lexer": "ipython3",
   "version": "3.9.1"
  }
 },
 "nbformat": 4,
 "nbformat_minor": 5
}

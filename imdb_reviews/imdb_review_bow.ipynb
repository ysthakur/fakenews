{
 "cells": [
  {
   "cell_type": "code",
   "execution_count": 113,
   "id": "5b6e65bb-7a3a-4215-9a6d-6d05d2f750d8",
   "metadata": {},
   "outputs": [],
   "source": [
    "import os\n",
    "import math\n",
    "import re\n",
    "import json\n",
    "\n",
    "import random\n",
    "\n",
    "import gensim\n",
    "from gensim.models import Word2Vec\n",
    "\n",
    "import pandas as pd\n",
    "\n",
    "import nltk\n",
    "from nltk.stem import WordNetLemmatizer\n",
    "\n",
    "from sklearn.datasets import make_classification\n",
    "# from sklearn.decomposition import PCA, KernelPCA\n",
    "from sklearn.feature_extraction.text import CountVectorizer, TfidfVectorizer\n",
    "from sklearn.linear_model import LogisticRegression\n",
    "from sklearn.metrics import confusion_matrix, classification_report\n",
    "from sklearn.model_selection import train_test_split\n",
    "from sklearn.pipeline import Pipeline\n",
    "from sklearn.preprocessing import StandardScaler\n",
    "from sklearn.svm import SVC\n",
    "\n",
    "import matplotlib.pyplot as plt\n",
    "\n",
    "import numpy as np"
   ]
  },
  {
   "cell_type": "code",
   "execution_count": 2,
   "id": "ecfe15dc",
   "metadata": {},
   "outputs": [],
   "source": [
    "%matplotlib inline\n",
    "random.seed(1)\n",
    "np.random.seed(1)"
   ]
  },
  {
   "cell_type": "code",
   "execution_count": 9,
   "id": "0e54af23-12df-47e8-b5e4-ccf1a3b12a38",
   "metadata": {},
   "outputs": [],
   "source": [
    "# w2v_model_file = 'imdb_review_w2v.model' # change each time\n",
    "train_csv = 'train_df.csv'\n",
    "test_csv = 'test_df.csv'\n",
    "df_csv = 'df.csv'\n",
    "\n",
    "neg_bound = 4\n",
    "pos_bound = 7\n",
    "\n",
    "train_size = 0.80\n",
    "\n",
    "min_occ = 5 # The minimum number of occurrences for a word to be considered"
   ]
  },
  {
   "cell_type": "code",
   "execution_count": 4,
   "id": "fba3b705-8678-47db-b1f4-422cadff51cd",
   "metadata": {},
   "outputs": [],
   "source": [
    "def get_vector(word):\n",
    "    \"\"\"Get the vector for a word\"\"\"\n",
    "    try:\n",
    "        return model.wv[word]\n",
    "    except:\n",
    "        print(word)\n",
    "        raise\n",
    "        \n",
    "def filter_tokens(tokens):\n",
    "    return [token for token in tokens if token in vocab]"
   ]
  },
  {
   "cell_type": "code",
   "execution_count": 5,
   "id": "a40aa70d-76bf-4788-9356-c8f2a1df7c03",
   "metadata": {},
   "outputs": [],
   "source": [
    "en_stop = set(nltk.corpus.stopwords.words('english'))\n",
    "stemmer = WordNetLemmatizer()\n",
    "\n",
    "def tokenize(text):\n",
    "    text = text.lower()\n",
    "    # Remove non-word characters\n",
    "    text = re.sub(r'[^a-z]', ' ', text)\n",
    "    # Remove single letters\n",
    "    text = re.sub(r'\\b[a-z]{0,3}\\b', ' ', text)\n",
    "    # Merge multiple spaces\n",
    "    text = re.sub(r'\\s+', ' ', text)\n",
    "    \n",
    "    # Lemmatization\n",
    "    tokens = text.split()\n",
    "    tokens = [stemmer.lemmatize(word) for word in tokens]\n",
    "    tokens = [word for word in tokens if word not in en_stop]\n",
    "    \n",
    "    return tokens"
   ]
  },
  {
   "cell_type": "markdown",
   "id": "ccd27bbb",
   "metadata": {},
   "source": [
    "# Run once"
   ]
  },
  {
   "cell_type": "code",
   "execution_count": 49,
   "id": "c7595b71-d97b-4a82-854f-ceae46ad7f2a",
   "metadata": {},
   "outputs": [],
   "source": [
    "def load_train_or_test(dir):\n",
    "    \"\"\"\n",
    "    Return the negative and positive train or test data\n",
    "    \"\"\"\n",
    "    def load_neg_or_pos(sub):\n",
    "        res = []\n",
    "        for file_name in os.listdir(sub):\n",
    "            with open(sub + file_name, encoding='utf8') as file:\n",
    "                underscore_ind = file_name.index('_')\n",
    "                period_ind = file_name.index('.')\n",
    "                id = int(file_name[:underscore_ind])\n",
    "                rating = int(file_name[underscore_ind + 1:period_ind])\n",
    "                text = next(file)\n",
    "                res.append([rating, text])\n",
    "        return res\n",
    "    # Only choose more polar ratings\n",
    "    neg = [[rating, text] for rating, text in load_neg_or_pos(dir + '/neg/') if rating <= neg_bound]\n",
    "    pos = [[rating, text] for rating, text in load_neg_or_pos(dir + '/pos/') if rating >= pos_bound]\n",
    "    random.shuffle(neg)\n",
    "    random.shuffle(pos)\n",
    "    both = neg[:8000] + pos[:8000]\n",
    "    random.shuffle(both)\n",
    "    return pd.DataFrame(both, columns=['Rating', 'Text'])"
   ]
  },
  {
   "cell_type": "code",
   "execution_count": 50,
   "id": "ab31fc82-cf15-49a8-a3a2-ddcf787f3cc8",
   "metadata": {},
   "outputs": [],
   "source": [
    "df = load_train_or_test('./train') #.append(load_train_or_test('./test'))"
   ]
  },
  {
   "cell_type": "code",
   "execution_count": 51,
   "id": "9a53694d",
   "metadata": {},
   "outputs": [
    {
     "data": {
      "text/html": [
       "<div>\n",
       "<style scoped>\n",
       "    .dataframe tbody tr th:only-of-type {\n",
       "        vertical-align: middle;\n",
       "    }\n",
       "\n",
       "    .dataframe tbody tr th {\n",
       "        vertical-align: top;\n",
       "    }\n",
       "\n",
       "    .dataframe thead th {\n",
       "        text-align: right;\n",
       "    }\n",
       "</style>\n",
       "<table border=\"1\" class=\"dataframe\">\n",
       "  <thead>\n",
       "    <tr style=\"text-align: right;\">\n",
       "      <th></th>\n",
       "      <th>Rating</th>\n",
       "      <th>Text</th>\n",
       "    </tr>\n",
       "  </thead>\n",
       "  <tbody>\n",
       "    <tr>\n",
       "      <th>0</th>\n",
       "      <td>1</td>\n",
       "      <td>Now i have never ever seen a bad movie in all ...</td>\n",
       "    </tr>\n",
       "    <tr>\n",
       "      <th>1</th>\n",
       "      <td>10</td>\n",
       "      <td>Clint Eastwood returns as Dirty Harry Calahan ...</td>\n",
       "    </tr>\n",
       "    <tr>\n",
       "      <th>2</th>\n",
       "      <td>9</td>\n",
       "      <td>RKO studios decided to borrow both William Pow...</td>\n",
       "    </tr>\n",
       "    <tr>\n",
       "      <th>3</th>\n",
       "      <td>1</td>\n",
       "      <td>The subject notwithstanding, this is an amateu...</td>\n",
       "    </tr>\n",
       "    <tr>\n",
       "      <th>4</th>\n",
       "      <td>2</td>\n",
       "      <td>I watched this movie purely for the setting. I...</td>\n",
       "    </tr>\n",
       "    <tr>\n",
       "      <th>...</th>\n",
       "      <td>...</td>\n",
       "      <td>...</td>\n",
       "    </tr>\n",
       "    <tr>\n",
       "      <th>15995</th>\n",
       "      <td>9</td>\n",
       "      <td>A riotous farce set in the world of glamorous ...</td>\n",
       "    </tr>\n",
       "    <tr>\n",
       "      <th>15996</th>\n",
       "      <td>8</td>\n",
       "      <td>Having first achieved fame with Drunken Master...</td>\n",
       "    </tr>\n",
       "    <tr>\n",
       "      <th>15997</th>\n",
       "      <td>1</td>\n",
       "      <td>...but a lousy film. As Maltin says this was C...</td>\n",
       "    </tr>\n",
       "    <tr>\n",
       "      <th>15998</th>\n",
       "      <td>2</td>\n",
       "      <td>just watched it, me and my better half could n...</td>\n",
       "    </tr>\n",
       "    <tr>\n",
       "      <th>15999</th>\n",
       "      <td>7</td>\n",
       "      <td>*May contain spoilers* *May contain spoilers*&lt;...</td>\n",
       "    </tr>\n",
       "  </tbody>\n",
       "</table>\n",
       "<p>16000 rows × 2 columns</p>\n",
       "</div>"
      ],
      "text/plain": [
       "       Rating                                               Text\n",
       "0           1  Now i have never ever seen a bad movie in all ...\n",
       "1          10  Clint Eastwood returns as Dirty Harry Calahan ...\n",
       "2           9  RKO studios decided to borrow both William Pow...\n",
       "3           1  The subject notwithstanding, this is an amateu...\n",
       "4           2  I watched this movie purely for the setting. I...\n",
       "...       ...                                                ...\n",
       "15995       9  A riotous farce set in the world of glamorous ...\n",
       "15996       8  Having first achieved fame with Drunken Master...\n",
       "15997       1  ...but a lousy film. As Maltin says this was C...\n",
       "15998       2  just watched it, me and my better half could n...\n",
       "15999       7  *May contain spoilers* *May contain spoilers*<...\n",
       "\n",
       "[16000 rows x 2 columns]"
      ]
     },
     "execution_count": 51,
     "metadata": {},
     "output_type": "execute_result"
    }
   ],
   "source": [
    "df"
   ]
  },
  {
   "cell_type": "code",
   "execution_count": 52,
   "id": "0a80634a",
   "metadata": {},
   "outputs": [
    {
     "data": {
      "text/plain": [
       "(8000, 8000)"
      ]
     },
     "execution_count": 52,
     "metadata": {},
     "output_type": "execute_result"
    }
   ],
   "source": [
    "len(df[df['Rating'] <= neg_bound]), len(df[df['Rating'] >= pos_bound])"
   ]
  },
  {
   "cell_type": "code",
   "execution_count": 53,
   "id": "fe27c472",
   "metadata": {},
   "outputs": [],
   "source": [
    "df['Tokens'] = df['Text'].apply(tokenize)\n",
    "# Clean up the text too\n",
    "df['Text'] = df['Tokens'].apply(\" \".join)"
   ]
  },
  {
   "cell_type": "code",
   "execution_count": 54,
   "id": "7fa98e33-e3b9-4b96-b405-83a6d7dcbd42",
   "metadata": {},
   "outputs": [],
   "source": [
    "# # Train and save model\n",
    "# model = Word2Vec(sentences=train_df['Tokens'])\n",
    "# model.save(w2v_model_file)"
   ]
  },
  {
   "cell_type": "code",
   "execution_count": 55,
   "id": "4d445870",
   "metadata": {},
   "outputs": [],
   "source": [
    "# vocab = set(model.wv.key_to_index.keys())\n",
    "# vocab_ord = np.array(list(model.wv.key_to_index.keys()))"
   ]
  },
  {
   "cell_type": "code",
   "execution_count": 56,
   "id": "ab274690-2bae-4dba-8339-7e700c626e36",
   "metadata": {},
   "outputs": [],
   "source": [
    "# # Keep only tokens that showed up the required number of times\n",
    "# train_df['Tokens'] = train_df['Tokens'].apply(filter_tokens)\n",
    "\n",
    "# test_df['Tokens'] = test_df['Text'].apply(lambda text: filter_tokens(tokenize(text)))\n",
    "# # Process test text too\n",
    "# test_df['Text'] = test_df['Tokens'].apply(\" \".join)"
   ]
  },
  {
   "cell_type": "code",
   "execution_count": 57,
   "id": "7e7bff15",
   "metadata": {},
   "outputs": [],
   "source": [
    "# # The vectors corresponding to each reviews' words\n",
    "# df['Vectors'] = df['Tokens'].apply(get_vector)"
   ]
  },
  {
   "cell_type": "code",
   "execution_count": 58,
   "id": "a95475f5",
   "metadata": {},
   "outputs": [],
   "source": [
    "# Save processed data\n",
    "df.to_csv(df_csv)"
   ]
  },
  {
   "cell_type": "markdown",
   "id": "816c63f1",
   "metadata": {},
   "source": [
    "# Load stuff done already"
   ]
  },
  {
   "cell_type": "code",
   "execution_count": 6,
   "id": "3ae87b0b-22bc-48c6-a1be-82d12345457a",
   "metadata": {},
   "outputs": [],
   "source": [
    "# model = Word2Vec.load(w2v_model_file)"
   ]
  },
  {
   "cell_type": "code",
   "execution_count": 6,
   "id": "02492993",
   "metadata": {},
   "outputs": [],
   "source": [
    "df = pd.read_csv(df_csv)"
   ]
  },
  {
   "cell_type": "markdown",
   "id": "f7b70547-0a53-4091-8a2e-9adb64d85a42",
   "metadata": {},
   "source": [
    "# Common stuff"
   ]
  },
  {
   "cell_type": "code",
   "execution_count": 10,
   "id": "408dfb54-25c0-4ddf-a1bd-0979f7a3cd56",
   "metadata": {},
   "outputs": [],
   "source": [
    "# vocab = set(model.wv.key_to_index.keys())\n",
    "# vocab_ord = np.array(list(model.wv.key_to_index.keys()))"
   ]
  },
  {
   "cell_type": "code",
   "execution_count": 7,
   "id": "ec2d2b83-cb8c-42bf-9877-4dc5e5e6a2ff",
   "metadata": {},
   "outputs": [],
   "source": [
    "y_bi = df['Rating'] > 5\n",
    "y_train_bi, y_test_bi = train_test_split(y_bi, train_size=train_size, random_state=1)\n",
    "\n",
    "y_bin2 = df['Rating'] // 2\n",
    "y_train_bin2, y_test_bin2 = train_test_split(y_bin2, train_size=train_size, random_state=1)"
   ]
  },
  {
   "cell_type": "code",
   "execution_count": 57,
   "id": "dae55314-785f-4a22-b019-828b2c2d0e97",
   "metadata": {},
   "outputs": [],
   "source": [
    "def test_classifier(predicted, big_table=True):\n",
    "    cm = confusion_matrix(predicted, y_test_bi)\n",
    "    print(f\"TP: {cm[0][0]}, FN: {cm[0][1]}\\nFP: {cm[1][0]}, TN: {cm[1][1]}\")\n",
    "    if big_table:\n",
    "        print(classification_report(predicted, y_test_bi))"
   ]
  },
  {
   "cell_type": "markdown",
   "id": "c4cb9072",
   "metadata": {},
   "source": [
    "# Logistic Regression + Bag of Words"
   ]
  },
  {
   "cell_type": "code",
   "execution_count": 32,
   "id": "3f4a46df-3bb7-4c34-af14-4479d1eb575b",
   "metadata": {},
   "outputs": [],
   "source": [
    "def try_bow(**kwargs):\n",
    "    cnt_vectorizer = CountVectorizer(stop_words=en_stop, **kwargs) # en_stop because the default has problems\n",
    "    X_bow = cnt_vectorizer.fit_transform(df['Text'])\n",
    "    X_train_bow, X_test_bow = train_test_split(X_bow, train_size=train_size, random_state=1)\n",
    "\n",
    "    # Scale data\n",
    "    scaler_bow = StandardScaler(with_mean=False).fit(X_train_bow)\n",
    "    X_train_bow_scaled = scaler_bow.transform(X_train_bow)\n",
    "    X_test_bow_scaled = scaler_bow.transform(X_test_bow)\n",
    "    print(X_train_bow_scaled.shape, len(cnt_vectorizer.vocabulary_.keys()))\n",
    "    \n",
    "    lr_bow = LogisticRegression()\n",
    "    lr_bow.fit(X_train_bow_scaled, y_train_bi)\n",
    "    \n",
    "    test_classifier(lr_bow.predict(X_test_bow_scaled))"
   ]
  },
  {
   "cell_type": "code",
   "execution_count": 33,
   "id": "2408e0fc-febf-493c-b9c1-34071d65127f",
   "metadata": {},
   "outputs": [
    {
     "name": "stdout",
     "output_type": "stream",
     "text": [
      "(12800, 18626) 18626\n",
      "TP: 1284, FN: 264\n",
      "FP: 269, TN: 1383\n",
      "              precision    recall  f1-score   support\n",
      "\n",
      "       False       0.83      0.83      0.83      1548\n",
      "        True       0.84      0.84      0.84      1652\n",
      "\n",
      "    accuracy                           0.83      3200\n",
      "   macro avg       0.83      0.83      0.83      3200\n",
      "weighted avg       0.83      0.83      0.83      3200\n",
      "\n"
     ]
    }
   ],
   "source": [
    "try_bow(min_df=5, ngram_range=(1, 1)) # Just unigrams"
   ]
  },
  {
   "cell_type": "code",
   "execution_count": 34,
   "id": "1072c298-f3ce-4087-a40e-493530dc786e",
   "metadata": {},
   "outputs": [
    {
     "name": "stdout",
     "output_type": "stream",
     "text": [
      "(12800, 52772) 52772\n",
      "TP: 1308, FN: 219\n",
      "FP: 245, TN: 1428\n",
      "              precision    recall  f1-score   support\n",
      "\n",
      "       False       0.84      0.86      0.85      1527\n",
      "        True       0.87      0.85      0.86      1673\n",
      "\n",
      "    accuracy                           0.85      3200\n",
      "   macro avg       0.85      0.86      0.85      3200\n",
      "weighted avg       0.86      0.85      0.86      3200\n",
      "\n"
     ]
    }
   ],
   "source": [
    "try_bow(min_df=5, ngram_range=(1, 2)) # Unigrams and bigrams"
   ]
  },
  {
   "cell_type": "code",
   "execution_count": 35,
   "id": "3bd5af37-5983-433a-b714-b00b1dbd8fa4",
   "metadata": {},
   "outputs": [
    {
     "name": "stdout",
     "output_type": "stream",
     "text": [
      "(12800, 34146) 34146\n",
      "TP: 1176, FN: 318\n",
      "FP: 377, TN: 1329\n",
      "              precision    recall  f1-score   support\n",
      "\n",
      "       False       0.76      0.79      0.77      1494\n",
      "        True       0.81      0.78      0.79      1706\n",
      "\n",
      "    accuracy                           0.78      3200\n",
      "   macro avg       0.78      0.78      0.78      3200\n",
      "weighted avg       0.78      0.78      0.78      3200\n",
      "\n"
     ]
    }
   ],
   "source": [
    "try_bow(min_df=5, ngram_range=(2, 2)) # Just bigrams"
   ]
  },
  {
   "cell_type": "code",
   "execution_count": 36,
   "id": "27d89c95-8810-4ffb-98cd-b7d6b96d4341",
   "metadata": {},
   "outputs": [
    {
     "name": "stdout",
     "output_type": "stream",
     "text": [
      "(12800, 55247) 55247\n",
      "TP: 1313, FN: 218\n",
      "FP: 240, TN: 1429\n",
      "              precision    recall  f1-score   support\n",
      "\n",
      "       False       0.85      0.86      0.85      1531\n",
      "        True       0.87      0.86      0.86      1669\n",
      "\n",
      "    accuracy                           0.86      3200\n",
      "   macro avg       0.86      0.86      0.86      3200\n",
      "weighted avg       0.86      0.86      0.86      3200\n",
      "\n"
     ]
    }
   ],
   "source": [
    "try_bow(min_df=5, ngram_range=(1, 3)) # Unigrams, bigrams, and trigrams"
   ]
  },
  {
   "cell_type": "markdown",
   "id": "dfb06521-27c6-4752-b371-2b83b1ea49fe",
   "metadata": {},
   "source": [
    "# Logistic Regression + TFIDF"
   ]
  },
  {
   "cell_type": "code",
   "execution_count": 28,
   "id": "d72a3ee9-3459-42f7-8e15-5f1c59e7ad23",
   "metadata": {},
   "outputs": [],
   "source": [
    "def make_tfidf(**kwargs):\n",
    "    # en_stop because the default apparently has problems\n",
    "    tfidf_vectorizer = TfidfVectorizer(stop_words=en_stop, min_df=min_occ, **kwargs)\n",
    "    X_tfidf = tfidf_vectorizer.fit_transform(df['Text'])\n",
    "    X_train_tfidf, X_test_tfidf = train_test_split(X_tfidf, train_size=train_size, random_state=1)\n",
    "    \n",
    "    print(X_train_tfidf.shape, len(tfidf_vectorizer.vocabulary_.keys()))\n",
    "    \n",
    "    return X_train_tfidf, X_test_tfidf\n",
    "\n",
    "def try_tfidf(X_train_tfidf, X_test_tfidf):    \n",
    "    lr_tfidf = LogisticRegression()\n",
    "    lr_tfidf.fit(X_train_tfidf, y_train_bi)\n",
    "    \n",
    "    test_classifier(lr_tfidf.predict(X_test_tfidf))"
   ]
  },
  {
   "cell_type": "code",
   "execution_count": 14,
   "id": "e0bb2ad3-7d79-472c-9a80-64a33431baf5",
   "metadata": {},
   "outputs": [
    {
     "name": "stdout",
     "output_type": "stream",
     "text": [
      "(12800, 18626) 18626\n",
      "(12800, 52772) 52772\n",
      "(12800, 34146) 34146\n"
     ]
    }
   ],
   "source": [
    "X_train_tfidf_1, X_test_tfidf_1 = make_tfidf(ngram_range=(1, 1))\n",
    "X_train_tfidf_1_2, X_test_tfidf_1_2 = make_tfidf(ngram_range=(1, 2))\n",
    "X_train_tfidf_2, X_test_tfidf_2 = make_tfidf(ngram_range=(2, 2))"
   ]
  },
  {
   "cell_type": "code",
   "execution_count": 29,
   "id": "9d87f23a-21ae-4805-ad27-e58cb459ad60",
   "metadata": {},
   "outputs": [
    {
     "name": "stdout",
     "output_type": "stream",
     "text": [
      "TP: 1366, FN: 196\n",
      "FP: 187, TN: 1451\n",
      "              precision    recall  f1-score   support\n",
      "\n",
      "       False       0.88      0.87      0.88      1562\n",
      "        True       0.88      0.89      0.88      1638\n",
      "\n",
      "    accuracy                           0.88      3200\n",
      "   macro avg       0.88      0.88      0.88      3200\n",
      "weighted avg       0.88      0.88      0.88      3200\n",
      "\n"
     ]
    }
   ],
   "source": [
    "try_tfidf(X_train_tfidf_1, X_test_tfidf_1)"
   ]
  },
  {
   "cell_type": "code",
   "execution_count": 30,
   "id": "fb1c63e4-7843-4a89-883d-9993d5703ef7",
   "metadata": {},
   "outputs": [
    {
     "name": "stdout",
     "output_type": "stream",
     "text": [
      "TP: 1357, FN: 194\n",
      "FP: 196, TN: 1453\n",
      "              precision    recall  f1-score   support\n",
      "\n",
      "       False       0.87      0.87      0.87      1551\n",
      "        True       0.88      0.88      0.88      1649\n",
      "\n",
      "    accuracy                           0.88      3200\n",
      "   macro avg       0.88      0.88      0.88      3200\n",
      "weighted avg       0.88      0.88      0.88      3200\n",
      "\n"
     ]
    }
   ],
   "source": [
    "try_tfidf(X_train_tfidf_1_2, X_test_tfidf_1_2)"
   ]
  },
  {
   "cell_type": "code",
   "execution_count": 31,
   "id": "8411dfc5-bbf8-49c7-befb-6f619fff25cb",
   "metadata": {},
   "outputs": [
    {
     "name": "stdout",
     "output_type": "stream",
     "text": [
      "TP: 1243, FN: 243\n",
      "FP: 310, TN: 1404\n",
      "              precision    recall  f1-score   support\n",
      "\n",
      "       False       0.80      0.84      0.82      1486\n",
      "        True       0.85      0.82      0.84      1714\n",
      "\n",
      "    accuracy                           0.83      3200\n",
      "   macro avg       0.83      0.83      0.83      3200\n",
      "weighted avg       0.83      0.83      0.83      3200\n",
      "\n"
     ]
    }
   ],
   "source": [
    "try_tfidf(X_train_tfidf_2, X_test_tfidf_2)"
   ]
  },
  {
   "cell_type": "code",
   "execution_count": 116,
   "id": "53add2ff-ee1b-4fc1-9caf-60a1820a4460",
   "metadata": {},
   "outputs": [],
   "source": [
    "def try_classifier(classifier, X_train=X_train_tfidf_1, X_test=X_test_tfidf_1, big_table=True):\n",
    "    classifier.fit(X_train, y_train_bi)\n",
    "    \n",
    "    print(classifier.score(X_test, y_test_bi))\n",
    "    test_classifier(classifier.predict(X_test), big_table=big_table)"
   ]
  },
  {
   "cell_type": "markdown",
   "id": "58e1047c-5dc6-4d2f-9b80-b64d69945e76",
   "metadata": {},
   "source": [
    "# Random forests + tf-idf"
   ]
  },
  {
   "cell_type": "code",
   "execution_count": 119,
   "id": "096ea0d9-3fbd-4548-9be8-7936f17576bb",
   "metadata": {},
   "outputs": [],
   "source": [
    "from sklearn.ensemble import RandomForestClassifier"
   ]
  },
  {
   "cell_type": "code",
   "execution_count": 120,
   "id": "8c9f16b0-7e17-41ab-8c85-608cd915f5a4",
   "metadata": {},
   "outputs": [
    {
     "name": "stdout",
     "output_type": "stream",
     "text": [
      "0.7725\n",
      "TP: 1251, FN: 426\n",
      "FP: 302, TN: 1221\n",
      "              precision    recall  f1-score   support\n",
      "\n",
      "       False       0.81      0.75      0.77      1677\n",
      "        True       0.74      0.80      0.77      1523\n",
      "\n",
      "    accuracy                           0.77      3200\n",
      "   macro avg       0.77      0.77      0.77      3200\n",
      "weighted avg       0.77      0.77      0.77      3200\n",
      "\n"
     ]
    }
   ],
   "source": [
    "try_classifier(RandomForestClassifier(max_depth=2, random_state=1))"
   ]
  },
  {
   "cell_type": "code",
   "execution_count": 121,
   "id": "ec4b411a-d7d6-4bb5-85e6-f5b55ffb76e4",
   "metadata": {},
   "outputs": [
    {
     "name": "stdout",
     "output_type": "stream",
     "text": [
      "0.7865625\n",
      "TP: 1244, FN: 374\n",
      "FP: 309, TN: 1273\n",
      "              precision    recall  f1-score   support\n",
      "\n",
      "       False       0.80      0.77      0.78      1618\n",
      "        True       0.77      0.80      0.79      1582\n",
      "\n",
      "    accuracy                           0.79      3200\n",
      "   macro avg       0.79      0.79      0.79      3200\n",
      "weighted avg       0.79      0.79      0.79      3200\n",
      "\n"
     ]
    }
   ],
   "source": [
    "try_classifier(RandomForestClassifier(max_depth=3, random_state=1))"
   ]
  },
  {
   "cell_type": "code",
   "execution_count": 122,
   "id": "40dcfe9a-0ec0-458c-abb4-b335b7a4ec66",
   "metadata": {},
   "outputs": [
    {
     "name": "stdout",
     "output_type": "stream",
     "text": [
      "0.8071875\n",
      "TP: 1219, FN: 283\n",
      "FP: 334, TN: 1364\n",
      "              precision    recall  f1-score   support\n",
      "\n",
      "       False       0.78      0.81      0.80      1502\n",
      "        True       0.83      0.80      0.82      1698\n",
      "\n",
      "    accuracy                           0.81      3200\n",
      "   macro avg       0.81      0.81      0.81      3200\n",
      "weighted avg       0.81      0.81      0.81      3200\n",
      "\n"
     ]
    }
   ],
   "source": [
    "try_classifier(RandomForestClassifier(max_depth=5, random_state=1))"
   ]
  },
  {
   "cell_type": "code",
   "execution_count": 123,
   "id": "edd3d151-e5d0-4259-84be-c42730934736",
   "metadata": {},
   "outputs": [
    {
     "name": "stdout",
     "output_type": "stream",
     "text": [
      "0.804375\n",
      "TP: 1208, FN: 281\n",
      "FP: 345, TN: 1366\n",
      "              precision    recall  f1-score   support\n",
      "\n",
      "       False       0.78      0.81      0.79      1489\n",
      "        True       0.83      0.80      0.81      1711\n",
      "\n",
      "    accuracy                           0.80      3200\n",
      "   macro avg       0.80      0.80      0.80      3200\n",
      "weighted avg       0.81      0.80      0.80      3200\n",
      "\n"
     ]
    }
   ],
   "source": [
    "try_classifier(RandomForestClassifier(max_depth=5, min_samples_leaf=5, random_state=1))"
   ]
  },
  {
   "cell_type": "code",
   "execution_count": 124,
   "id": "c9bcdef5-2a2b-46e5-ba17-46265897b1f3",
   "metadata": {},
   "outputs": [
    {
     "name": "stdout",
     "output_type": "stream",
     "text": [
      "0.8234375\n",
      "TP: 1241, FN: 253\n",
      "FP: 312, TN: 1394\n",
      "              precision    recall  f1-score   support\n",
      "\n",
      "       False       0.80      0.83      0.81      1494\n",
      "        True       0.85      0.82      0.83      1706\n",
      "\n",
      "    accuracy                           0.82      3200\n",
      "   macro avg       0.82      0.82      0.82      3200\n",
      "weighted avg       0.82      0.82      0.82      3200\n",
      "\n"
     ]
    }
   ],
   "source": [
    "try_classifier(RandomForestClassifier(max_depth=7, min_samples_leaf=5, n_estimators=200, random_state=1))"
   ]
  },
  {
   "cell_type": "code",
   "execution_count": 125,
   "id": "f44994f0-9ca3-4f7a-b7f8-6ed50d7cde00",
   "metadata": {},
   "outputs": [
    {
     "name": "stdout",
     "output_type": "stream",
     "text": [
      "0.8303125\n",
      "TP: 1238, FN: 228\n",
      "FP: 315, TN: 1419\n",
      "              precision    recall  f1-score   support\n",
      "\n",
      "       False       0.80      0.84      0.82      1466\n",
      "        True       0.86      0.82      0.84      1734\n",
      "\n",
      "    accuracy                           0.83      3200\n",
      "   macro avg       0.83      0.83      0.83      3200\n",
      "weighted avg       0.83      0.83      0.83      3200\n",
      "\n"
     ]
    }
   ],
   "source": [
    "try_classifier(RandomForestClassifier(max_depth=9, min_samples_leaf=5, n_estimators=200, random_state=1))"
   ]
  },
  {
   "cell_type": "code",
   "execution_count": 126,
   "id": "31580933-0885-4609-9fe3-203a38f6feb3",
   "metadata": {},
   "outputs": [
    {
     "name": "stdout",
     "output_type": "stream",
     "text": [
      "0.84125\n",
      "TP: 1259, FN: 214\n",
      "FP: 294, TN: 1433\n",
      "              precision    recall  f1-score   support\n",
      "\n",
      "       False       0.81      0.85      0.83      1473\n",
      "        True       0.87      0.83      0.85      1727\n",
      "\n",
      "    accuracy                           0.84      3200\n",
      "   macro avg       0.84      0.84      0.84      3200\n",
      "weighted avg       0.84      0.84      0.84      3200\n",
      "\n"
     ]
    }
   ],
   "source": [
    "try_classifier(RandomForestClassifier(max_depth=15, min_samples_leaf=5, n_estimators=300, random_state=1))"
   ]
  },
  {
   "cell_type": "code",
   "execution_count": 127,
   "id": "fbd46799-0d5e-4294-aea6-cb9b3396d067",
   "metadata": {},
   "outputs": [
    {
     "name": "stdout",
     "output_type": "stream",
     "text": [
      "0.8440625\n",
      "TP: 1274, FN: 220\n",
      "FP: 279, TN: 1427\n",
      "              precision    recall  f1-score   support\n",
      "\n",
      "       False       0.82      0.85      0.84      1494\n",
      "        True       0.87      0.84      0.85      1706\n",
      "\n",
      "    accuracy                           0.84      3200\n",
      "   macro avg       0.84      0.84      0.84      3200\n",
      "weighted avg       0.84      0.84      0.84      3200\n",
      "\n"
     ]
    }
   ],
   "source": [
    "try_classifier(RandomForestClassifier(max_depth=15, min_samples_leaf=10, n_estimators=300, random_state=2))"
   ]
  },
  {
   "cell_type": "code",
   "execution_count": 128,
   "id": "bbb5bcfc-952b-483e-9e44-d0d8ee1a2d0b",
   "metadata": {},
   "outputs": [
    {
     "name": "stdout",
     "output_type": "stream",
     "text": [
      "0.8428125\n",
      "TP: 1275, FN: 225\n",
      "FP: 278, TN: 1422\n",
      "              precision    recall  f1-score   support\n",
      "\n",
      "       False       0.82      0.85      0.84      1500\n",
      "        True       0.86      0.84      0.85      1700\n",
      "\n",
      "    accuracy                           0.84      3200\n",
      "   macro avg       0.84      0.84      0.84      3200\n",
      "weighted avg       0.84      0.84      0.84      3200\n",
      "\n"
     ]
    }
   ],
   "source": [
    "try_classifier(RandomForestClassifier(max_depth=15, min_samples_leaf=15, n_estimators=300, random_state=2))"
   ]
  },
  {
   "cell_type": "code",
   "execution_count": 142,
   "id": "5b57736a-b53a-4b91-aa0c-a04b469aeb46",
   "metadata": {},
   "outputs": [
    {
     "name": "stdout",
     "output_type": "stream",
     "text": [
      "0.845\n",
      "TP: 1281, FN: 224\n",
      "FP: 272, TN: 1423\n"
     ]
    }
   ],
   "source": [
    "try_classifier(RandomForestClassifier(max_depth=16, n_estimators=400, random_state=2), big_table=False)"
   ]
  },
  {
   "cell_type": "code",
   "execution_count": 143,
   "id": "40a00cab-c057-4ad8-b051-875b036a15f6",
   "metadata": {},
   "outputs": [
    {
     "name": "stdout",
     "output_type": "stream",
     "text": [
      "0.8496875\n",
      "TP: 1299, FN: 227\n",
      "FP: 254, TN: 1420\n"
     ]
    }
   ],
   "source": [
    "try_classifier(RandomForestClassifier(max_depth=20, n_estimators=600, random_state=1), big_table=False)"
   ]
  },
  {
   "cell_type": "code",
   "execution_count": 141,
   "id": "a0639a77-05f1-4e48-a436-6b69ff4f8bc8",
   "metadata": {},
   "outputs": [
    {
     "name": "stdout",
     "output_type": "stream",
     "text": [
      "0.8471875\n",
      "TP: 1288, FN: 224\n",
      "FP: 265, TN: 1423\n"
     ]
    }
   ],
   "source": [
    "try_classifier(RandomForestClassifier(max_depth=20, n_estimators=800, random_state=1), big_table=False)"
   ]
  },
  {
   "cell_type": "markdown",
   "id": "d40b148b-8235-48b2-9e6e-1fa02f46f342",
   "metadata": {},
   "source": [
    "# SVM + tf-idf"
   ]
  },
  {
   "cell_type": "code",
   "execution_count": 85,
   "id": "12770183-9994-4f9d-8aa6-296ef119e2c8",
   "metadata": {},
   "outputs": [],
   "source": [
    "def try_svm(svm, X_train=X_train_tfidf_1, X_test=X_test_tfidf_1):\n",
    "    svm.fit(X_train, y_train_bi)\n",
    "    \n",
    "    test_classifier(svm.predict(X_test))"
   ]
  },
  {
   "cell_type": "code",
   "execution_count": 86,
   "id": "9f46061c-1f57-4979-ad58-c23f020835ef",
   "metadata": {},
   "outputs": [
    {
     "name": "stdout",
     "output_type": "stream",
     "text": [
      "TP: 1370, FN: 209\n",
      "FP: 183, TN: 1438\n",
      "              precision    recall  f1-score   support\n",
      "\n",
      "       False       0.88      0.87      0.87      1579\n",
      "        True       0.87      0.89      0.88      1621\n",
      "\n",
      "    accuracy                           0.88      3200\n",
      "   macro avg       0.88      0.88      0.88      3200\n",
      "weighted avg       0.88      0.88      0.88      3200\n",
      "\n"
     ]
    }
   ],
   "source": [
    "try_svm(SVC(kernel='linear', random_state=1))"
   ]
  },
  {
   "cell_type": "code",
   "execution_count": 87,
   "id": "23d219c0-4357-4ce9-ac25-44bc465046f0",
   "metadata": {},
   "outputs": [
    {
     "name": "stdout",
     "output_type": "stream",
     "text": [
      "TP: 1368, FN: 189\n",
      "FP: 185, TN: 1458\n",
      "              precision    recall  f1-score   support\n",
      "\n",
      "       False       0.88      0.88      0.88      1557\n",
      "        True       0.89      0.89      0.89      1643\n",
      "\n",
      "    accuracy                           0.88      3200\n",
      "   macro avg       0.88      0.88      0.88      3200\n",
      "weighted avg       0.88      0.88      0.88      3200\n",
      "\n"
     ]
    }
   ],
   "source": [
    "try_svm(SVC(kernel='rbf', random_state=1))"
   ]
  },
  {
   "cell_type": "code",
   "execution_count": 111,
   "id": "b8d85e78-643a-48ed-95b2-552c03bc349b",
   "metadata": {},
   "outputs": [
    {
     "name": "stdout",
     "output_type": "stream",
     "text": [
      "TP: 1348, FN: 188\n",
      "FP: 205, TN: 1459\n",
      "              precision    recall  f1-score   support\n",
      "\n",
      "       False       0.87      0.88      0.87      1536\n",
      "        True       0.89      0.88      0.88      1664\n",
      "\n",
      "    accuracy                           0.88      3200\n",
      "   macro avg       0.88      0.88      0.88      3200\n",
      "weighted avg       0.88      0.88      0.88      3200\n",
      "\n"
     ]
    }
   ],
   "source": [
    "try_svm(SVC(kernel='poly', degree=2, random_state=1))"
   ]
  },
  {
   "cell_type": "code",
   "execution_count": 110,
   "id": "13394743-ffa2-4ff7-81ba-bf7cdedca439",
   "metadata": {},
   "outputs": [],
   "source": [
    "# try_svm(SVC(kernel='poly', degree=3, max_iter=10, random_state=1))"
   ]
  },
  {
   "cell_type": "code",
   "execution_count": 112,
   "id": "1ce56aec-dd04-43cd-b2e9-338ed652537b",
   "metadata": {},
   "outputs": [
    {
     "name": "stdout",
     "output_type": "stream",
     "text": [
      "TP: 1371, FN: 211\n",
      "FP: 182, TN: 1436\n",
      "              precision    recall  f1-score   support\n",
      "\n",
      "       False       0.88      0.87      0.87      1582\n",
      "        True       0.87      0.89      0.88      1618\n",
      "\n",
      "    accuracy                           0.88      3200\n",
      "   macro avg       0.88      0.88      0.88      3200\n",
      "weighted avg       0.88      0.88      0.88      3200\n",
      "\n"
     ]
    }
   ],
   "source": [
    "try_svm(SVC(kernel='sigmoid', random_state=1))"
   ]
  },
  {
   "cell_type": "code",
   "execution_count": 105,
   "id": "579b65ea-da69-45d6-acdd-d312c6c935ea",
   "metadata": {},
   "outputs": [
    {
     "name": "stderr",
     "output_type": "stream",
     "text": [
      "c:\\users\\yasht\\fakenews\\venv\\lib\\site-packages\\sklearn\\svm\\_base.py:255: ConvergenceWarning: Solver terminated early (max_iter=1000).  Consider pre-processing your data with StandardScaler or MinMaxScaler.\n",
      "  warnings.warn('Solver terminated early (max_iter=%i).'\n"
     ]
    },
    {
     "name": "stdout",
     "output_type": "stream",
     "text": [
      "TP: 1272, FN: 277\n",
      "FP: 281, TN: 1370\n",
      "              precision    recall  f1-score   support\n",
      "\n",
      "       False       0.82      0.82      0.82      1549\n",
      "        True       0.83      0.83      0.83      1651\n",
      "\n",
      "    accuracy                           0.83      3200\n",
      "   macro avg       0.83      0.83      0.83      3200\n",
      "weighted avg       0.83      0.83      0.83      3200\n",
      "\n"
     ]
    }
   ],
   "source": [
    "try_svm(SVC(kernel='linear', max_iter=1000, random_state=1))"
   ]
  },
  {
   "cell_type": "code",
   "execution_count": 106,
   "id": "6d699104-b447-494f-93d1-7e61dd972fc0",
   "metadata": {},
   "outputs": [
    {
     "name": "stderr",
     "output_type": "stream",
     "text": [
      "c:\\users\\yasht\\fakenews\\venv\\lib\\site-packages\\sklearn\\svm\\_base.py:255: ConvergenceWarning: Solver terminated early (max_iter=1000).  Consider pre-processing your data with StandardScaler or MinMaxScaler.\n",
      "  warnings.warn('Solver terminated early (max_iter=%i).'\n"
     ]
    },
    {
     "name": "stdout",
     "output_type": "stream",
     "text": [
      "TP: 1301, FN: 318\n",
      "FP: 252, TN: 1329\n",
      "              precision    recall  f1-score   support\n",
      "\n",
      "       False       0.84      0.80      0.82      1619\n",
      "        True       0.81      0.84      0.82      1581\n",
      "\n",
      "    accuracy                           0.82      3200\n",
      "   macro avg       0.82      0.82      0.82      3200\n",
      "weighted avg       0.82      0.82      0.82      3200\n",
      "\n"
     ]
    }
   ],
   "source": [
    "try_svm(SVC(kernel='rbf', max_iter=1000, random_state=1))"
   ]
  },
  {
   "cell_type": "code",
   "execution_count": 107,
   "id": "bfca8944-2f9f-45d7-8d69-a660f1830fd1",
   "metadata": {},
   "outputs": [
    {
     "name": "stderr",
     "output_type": "stream",
     "text": [
      "c:\\users\\yasht\\fakenews\\venv\\lib\\site-packages\\sklearn\\svm\\_base.py:255: ConvergenceWarning: Solver terminated early (max_iter=1000).  Consider pre-processing your data with StandardScaler or MinMaxScaler.\n",
      "  warnings.warn('Solver terminated early (max_iter=%i).'\n"
     ]
    },
    {
     "name": "stdout",
     "output_type": "stream",
     "text": [
      "TP: 1302, FN: 334\n",
      "FP: 251, TN: 1313\n",
      "              precision    recall  f1-score   support\n",
      "\n",
      "       False       0.84      0.80      0.82      1636\n",
      "        True       0.80      0.84      0.82      1564\n",
      "\n",
      "    accuracy                           0.82      3200\n",
      "   macro avg       0.82      0.82      0.82      3200\n",
      "weighted avg       0.82      0.82      0.82      3200\n",
      "\n"
     ]
    }
   ],
   "source": [
    "try_svm(SVC(kernel='poly', degree=2, max_iter=1000, random_state=1))"
   ]
  },
  {
   "cell_type": "code",
   "execution_count": 108,
   "id": "5468816d-6185-418b-b9e5-c77babf36f5d",
   "metadata": {},
   "outputs": [
    {
     "name": "stderr",
     "output_type": "stream",
     "text": [
      "c:\\users\\yasht\\fakenews\\venv\\lib\\site-packages\\sklearn\\svm\\_base.py:255: ConvergenceWarning: Solver terminated early (max_iter=1000).  Consider pre-processing your data with StandardScaler or MinMaxScaler.\n",
      "  warnings.warn('Solver terminated early (max_iter=%i).'\n"
     ]
    },
    {
     "name": "stdout",
     "output_type": "stream",
     "text": [
      "TP: 928, FN: 162\n",
      "FP: 625, TN: 1485\n",
      "              precision    recall  f1-score   support\n",
      "\n",
      "       False       0.60      0.85      0.70      1090\n",
      "        True       0.90      0.70      0.79      2110\n",
      "\n",
      "    accuracy                           0.75      3200\n",
      "   macro avg       0.75      0.78      0.75      3200\n",
      "weighted avg       0.80      0.75      0.76      3200\n",
      "\n"
     ]
    }
   ],
   "source": [
    "try_svm(SVC(kernel='poly', degree=3, max_iter=1000, random_state=1))"
   ]
  },
  {
   "cell_type": "code",
   "execution_count": 109,
   "id": "b28b19d1-cf49-4d7b-8450-4efb6213b8a2",
   "metadata": {},
   "outputs": [
    {
     "name": "stderr",
     "output_type": "stream",
     "text": [
      "c:\\users\\yasht\\fakenews\\venv\\lib\\site-packages\\sklearn\\svm\\_base.py:255: ConvergenceWarning: Solver terminated early (max_iter=1000).  Consider pre-processing your data with StandardScaler or MinMaxScaler.\n",
      "  warnings.warn('Solver terminated early (max_iter=%i).'\n"
     ]
    },
    {
     "name": "stdout",
     "output_type": "stream",
     "text": [
      "TP: 1264, FN: 267\n",
      "FP: 289, TN: 1380\n",
      "              precision    recall  f1-score   support\n",
      "\n",
      "       False       0.81      0.83      0.82      1531\n",
      "        True       0.84      0.83      0.83      1669\n",
      "\n",
      "    accuracy                           0.83      3200\n",
      "   macro avg       0.83      0.83      0.83      3200\n",
      "weighted avg       0.83      0.83      0.83      3200\n",
      "\n"
     ]
    }
   ],
   "source": [
    "try_svm(SVC(kernel='sigmoid', max_iter=1000, random_state=1))"
   ]
  },
  {
   "cell_type": "markdown",
   "id": "08a40a66-05ac-4598-b66a-82fd51bf4f1e",
   "metadata": {},
   "source": [
    "# Extra Trees + tf-idf"
   ]
  },
  {
   "cell_type": "code",
   "execution_count": 130,
   "id": "93ccbd7f-53ce-4506-9467-cdf8bb2e85bb",
   "metadata": {},
   "outputs": [],
   "source": [
    "from sklearn.ensemble import ExtraTreesClassifier"
   ]
  },
  {
   "cell_type": "code",
   "execution_count": 131,
   "id": "89aa9ffd-38d3-4cd3-ae31-a7eb7b4414a5",
   "metadata": {},
   "outputs": [
    {
     "name": "stdout",
     "output_type": "stream",
     "text": [
      "0.78125\n",
      "TP: 1355, FN: 502\n",
      "FP: 198, TN: 1145\n",
      "              precision    recall  f1-score   support\n",
      "\n",
      "       False       0.87      0.73      0.79      1857\n",
      "        True       0.70      0.85      0.77      1343\n",
      "\n",
      "    accuracy                           0.78      3200\n",
      "   macro avg       0.78      0.79      0.78      3200\n",
      "weighted avg       0.80      0.78      0.78      3200\n",
      "\n"
     ]
    }
   ],
   "source": [
    "try_classifier(ExtraTreesClassifier(max_depth=5, n_estimators=100, random_state=1))"
   ]
  },
  {
   "cell_type": "code",
   "execution_count": 132,
   "id": "c221ef02-37fd-40fe-9e7d-037167bb7058",
   "metadata": {},
   "outputs": [
    {
     "name": "stdout",
     "output_type": "stream",
     "text": [
      "0.825\n",
      "TP: 1301, FN: 308\n",
      "FP: 252, TN: 1339\n",
      "              precision    recall  f1-score   support\n",
      "\n",
      "       False       0.84      0.81      0.82      1609\n",
      "        True       0.81      0.84      0.83      1591\n",
      "\n",
      "    accuracy                           0.82      3200\n",
      "   macro avg       0.83      0.83      0.82      3200\n",
      "weighted avg       0.83      0.82      0.82      3200\n",
      "\n"
     ]
    }
   ],
   "source": [
    "try_classifier(ExtraTreesClassifier(max_depth=10, n_estimators=100, random_state=1))"
   ]
  },
  {
   "cell_type": "code",
   "execution_count": 133,
   "id": "0c2daf97-bc6c-4f43-a6c2-56244ecfc0af",
   "metadata": {},
   "outputs": [
    {
     "name": "stdout",
     "output_type": "stream",
     "text": [
      "0.829375\n",
      "TP: 1284, FN: 277\n",
      "FP: 269, TN: 1370\n",
      "              precision    recall  f1-score   support\n",
      "\n",
      "       False       0.83      0.82      0.82      1561\n",
      "        True       0.83      0.84      0.83      1639\n",
      "\n",
      "    accuracy                           0.83      3200\n",
      "   macro avg       0.83      0.83      0.83      3200\n",
      "weighted avg       0.83      0.83      0.83      3200\n",
      "\n"
     ]
    }
   ],
   "source": [
    "try_classifier(ExtraTreesClassifier(max_depth=15, n_estimators=100, random_state=1))"
   ]
  },
  {
   "cell_type": "code",
   "execution_count": 134,
   "id": "e0a036ac-a3e8-4ea5-8c28-34f83ec53119",
   "metadata": {},
   "outputs": [
    {
     "name": "stdout",
     "output_type": "stream",
     "text": [
      "0.805625\n",
      "TP: 1394, FN: 463\n",
      "FP: 159, TN: 1184\n",
      "              precision    recall  f1-score   support\n",
      "\n",
      "       False       0.90      0.75      0.82      1857\n",
      "        True       0.72      0.88      0.79      1343\n",
      "\n",
      "    accuracy                           0.81      3200\n",
      "   macro avg       0.81      0.82      0.80      3200\n",
      "weighted avg       0.82      0.81      0.81      3200\n",
      "\n"
     ]
    }
   ],
   "source": [
    "try_classifier(ExtraTreesClassifier(max_depth=5, n_estimators=200, random_state=1))"
   ]
  },
  {
   "cell_type": "code",
   "execution_count": 135,
   "id": "59d052d8-0478-413c-9464-2878ab213fb7",
   "metadata": {},
   "outputs": [
    {
     "name": "stdout",
     "output_type": "stream",
     "text": [
      "0.8178125\n",
      "TP: 1409, FN: 439\n",
      "FP: 144, TN: 1208\n",
      "              precision    recall  f1-score   support\n",
      "\n",
      "       False       0.91      0.76      0.83      1848\n",
      "        True       0.73      0.89      0.81      1352\n",
      "\n",
      "    accuracy                           0.82      3200\n",
      "   macro avg       0.82      0.83      0.82      3200\n",
      "weighted avg       0.83      0.82      0.82      3200\n",
      "\n"
     ]
    }
   ],
   "source": [
    "try_classifier(ExtraTreesClassifier(max_depth=5, n_estimators=500, random_state=1))"
   ]
  },
  {
   "cell_type": "code",
   "execution_count": 137,
   "id": "03677dd7-e0d7-46a7-b0f5-f0bdd399cc43",
   "metadata": {},
   "outputs": [
    {
     "name": "stdout",
     "output_type": "stream",
     "text": [
      "0.8375\n",
      "TP: 1339, FN: 306\n",
      "FP: 214, TN: 1341\n",
      "              precision    recall  f1-score   support\n",
      "\n",
      "       False       0.86      0.81      0.84      1645\n",
      "        True       0.81      0.86      0.84      1555\n",
      "\n",
      "    accuracy                           0.84      3200\n",
      "   macro avg       0.84      0.84      0.84      3200\n",
      "weighted avg       0.84      0.84      0.84      3200\n",
      "\n"
     ]
    }
   ],
   "source": [
    "try_classifier(ExtraTreesClassifier(max_depth=10, n_estimators=200, random_state=1))"
   ]
  },
  {
   "cell_type": "code",
   "execution_count": 138,
   "id": "61045b7c-8f87-4d17-8fdf-8eba7729feae",
   "metadata": {},
   "outputs": [
    {
     "name": "stdout",
     "output_type": "stream",
     "text": [
      "0.8521875\n",
      "TP: 1333, FN: 253\n",
      "FP: 220, TN: 1394\n",
      "              precision    recall  f1-score   support\n",
      "\n",
      "       False       0.86      0.84      0.85      1586\n",
      "        True       0.85      0.86      0.85      1614\n",
      "\n",
      "    accuracy                           0.85      3200\n",
      "   macro avg       0.85      0.85      0.85      3200\n",
      "weighted avg       0.85      0.85      0.85      3200\n",
      "\n"
     ]
    }
   ],
   "source": [
    "try_classifier(ExtraTreesClassifier(max_depth=15, n_estimators=400, random_state=1))"
   ]
  },
  {
   "cell_type": "code",
   "execution_count": 139,
   "id": "92883c5a-ad3a-4c1e-957d-d33820c28c1c",
   "metadata": {},
   "outputs": [
    {
     "name": "stdout",
     "output_type": "stream",
     "text": [
      "0.8559375\n",
      "TP: 1339, FN: 247\n",
      "FP: 214, TN: 1400\n",
      "              precision    recall  f1-score   support\n",
      "\n",
      "       False       0.86      0.84      0.85      1586\n",
      "        True       0.85      0.87      0.86      1614\n",
      "\n",
      "    accuracy                           0.86      3200\n",
      "   macro avg       0.86      0.86      0.86      3200\n",
      "weighted avg       0.86      0.86      0.86      3200\n",
      "\n"
     ]
    }
   ],
   "source": [
    "try_classifier(ExtraTreesClassifier(max_depth=15, n_estimators=500, random_state=1))"
   ]
  },
  {
   "cell_type": "code",
   "execution_count": 140,
   "id": "3ce3b95f-a744-45d6-8c63-f8ad04476fa7",
   "metadata": {},
   "outputs": [
    {
     "name": "stdout",
     "output_type": "stream",
     "text": [
      "0.861875\n",
      "TP: 1335, FN: 224\n",
      "FP: 218, TN: 1423\n",
      "              precision    recall  f1-score   support\n",
      "\n",
      "       False       0.86      0.86      0.86      1559\n",
      "        True       0.86      0.87      0.87      1641\n",
      "\n",
      "    accuracy                           0.86      3200\n",
      "   macro avg       0.86      0.86      0.86      3200\n",
      "weighted avg       0.86      0.86      0.86      3200\n",
      "\n"
     ]
    }
   ],
   "source": [
    "try_classifier(ExtraTreesClassifier(max_depth=20, n_estimators=800, random_state=1))"
   ]
  },
  {
   "cell_type": "code",
   "execution_count": null,
   "id": "b929e878-cc82-404e-902f-267b37721c3c",
   "metadata": {},
   "outputs": [],
   "source": []
  }
 ],
 "metadata": {
  "kernelspec": {
   "display_name": "Python 3 (ipykernel)",
   "language": "python",
   "name": "python3"
  },
  "language_info": {
   "codemirror_mode": {
    "name": "ipython",
    "version": 3
   },
   "file_extension": ".py",
   "mimetype": "text/x-python",
   "name": "python",
   "nbconvert_exporter": "python",
   "pygments_lexer": "ipython3",
   "version": "3.9.1"
  }
 },
 "nbformat": 4,
 "nbformat_minor": 5
}

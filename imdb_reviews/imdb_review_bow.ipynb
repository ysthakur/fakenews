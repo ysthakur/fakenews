{
 "cells": [
  {
   "cell_type": "code",
   "execution_count": 154,
   "id": "5b6e65bb-7a3a-4215-9a6d-6d05d2f750d8",
   "metadata": {},
   "outputs": [],
   "source": [
    "import os\n",
    "import math\n",
    "import re\n",
    "import json\n",
    "\n",
    "import random\n",
    "\n",
    "import gensim\n",
    "from gensim.models import Word2Vec\n",
    "from gensim.models.doc2vec import Doc2Vec, TaggedDocument\n",
    "\n",
    "import pandas as pd\n",
    "\n",
    "import nltk\n",
    "from nltk.stem import WordNetLemmatizer\n",
    "\n",
    "# from sklearn.decomposition import PCA, KernelPCA\n",
    "from sklearn.feature_extraction.text import CountVectorizer, TfidfVectorizer\n",
    "from sklearn.linear_model import LogisticRegression\n",
    "from sklearn.metrics import confusion_matrix, classification_report\n",
    "from sklearn.metrics.pairwise import cosine_similarity\n",
    "from sklearn.model_selection import train_test_split\n",
    "from sklearn.pipeline import Pipeline\n",
    "from sklearn.preprocessing import StandardScaler\n",
    "from sklearn.svm import SVC\n",
    "\n",
    "import matplotlib.pyplot as plt\n",
    "\n",
    "import numpy as np"
   ]
  },
  {
   "cell_type": "code",
   "execution_count": 98,
   "id": "ecfe15dc",
   "metadata": {},
   "outputs": [],
   "source": [
    "%matplotlib inline\n",
    "random.seed(1)\n",
    "np.random.seed(1)"
   ]
  },
  {
   "cell_type": "code",
   "execution_count": 137,
   "id": "0e54af23-12df-47e8-b5e4-ccf1a3b12a38",
   "metadata": {},
   "outputs": [],
   "source": [
    "w2v_model_file = 'imdb_review_w2v.model' # change each time\n",
    "d2vdm_model_file = 'imdb_review_d2vdm.model' # change each time\n",
    "d2vdbow_model_file = 'imdb_review_d2vdbow.model' # change each time\n",
    "train_csv = 'train_df.csv'\n",
    "test_csv = 'test_df.csv'\n",
    "df_csv = 'df.csv'\n",
    "df_pkl = 'df.pkl'\n",
    "\n",
    "neg_bound = 4\n",
    "pos_bound = 7\n",
    "\n",
    "train_size = 0.80\n",
    "\n",
    "num_reviews = 10000\n",
    "\n",
    "min_occ = 5 # The minimum number of occurrences for a word to be considered"
   ]
  },
  {
   "cell_type": "code",
   "execution_count": 138,
   "id": "cfd4bf11-d786-4e6e-81c0-7963f901d248",
   "metadata": {},
   "outputs": [],
   "source": [
    "def my_train_test_split(*args):\n",
    "    return train_test_split(*args, train_size=train_size, random_state=1)"
   ]
  },
  {
   "cell_type": "code",
   "execution_count": 139,
   "id": "fba3b705-8678-47db-b1f4-422cadff51cd",
   "metadata": {},
   "outputs": [],
   "source": [
    "def get_w2v_vector(word):\n",
    "    \"\"\"Get the vector for a word\"\"\"\n",
    "    try:\n",
    "        return model.wv[word]\n",
    "    except:\n",
    "        print(word)\n",
    "        raise\n",
    "        \n",
    "def filter_tokens(tokens, vocab=None):\n",
    "    if vocab is None:\n",
    "        vocab = w2v_vocab\n",
    "    return [token for token in tokens if token in vocab]"
   ]
  },
  {
   "cell_type": "code",
   "execution_count": 140,
   "id": "a40aa70d-76bf-4788-9356-c8f2a1df7c03",
   "metadata": {},
   "outputs": [],
   "source": [
    "en_stop = set(nltk.corpus.stopwords.words('english'))\n",
    "stemmer = WordNetLemmatizer()\n",
    "\n",
    "def tokenize(text):\n",
    "    text = text.lower()\n",
    "    # Remove non-word characters\n",
    "    text = re.sub(r'[^a-z]', ' ', text)\n",
    "    # Remove single letters\n",
    "    text = re.sub(r'\\b[a-z]{0,3}\\b', ' ', text)\n",
    "    # Merge multiple spaces\n",
    "    text = re.sub(r'\\s+', ' ', text)\n",
    "    \n",
    "    # Lemmatization\n",
    "    tokens = text.split()\n",
    "    tokens = [stemmer.lemmatize(word) for word in tokens]\n",
    "    tokens = [word for word in tokens if word not in en_stop]\n",
    "    \n",
    "    return tokens"
   ]
  },
  {
   "cell_type": "markdown",
   "id": "ccd27bbb",
   "metadata": {},
   "source": [
    "# Run once"
   ]
  },
  {
   "cell_type": "code",
   "execution_count": 231,
   "id": "c7595b71-d97b-4a82-854f-ceae46ad7f2a",
   "metadata": {},
   "outputs": [],
   "source": [
    "half_reviews = num_reviews // 2\n",
    "assert half_reviews == num_reviews / 2\n",
    "\n",
    "def load_train_or_test(dir):\n",
    "    random.seed(3)\n",
    "    \"\"\"\n",
    "    Return the negative and positive train or test data\n",
    "    \"\"\"\n",
    "    def load_neg_or_pos(sub, is_pos):\n",
    "        res = []\n",
    "        for file_name in os.listdir(sub):\n",
    "            with open(sub + file_name, encoding='utf8') as file:\n",
    "                underscore_ind = file_name.index('_')\n",
    "                period_ind = file_name.index('.')\n",
    "                id = int(file_name[:underscore_ind])\n",
    "                rating = int(file_name[underscore_ind + 1:period_ind])\n",
    "                text = next(file)\n",
    "                res.append([id, rating, text])\n",
    "        return res\n",
    "    # Only choose more polar ratings\n",
    "    neg = [[id, rating, text] for id, rating, text in load_neg_or_pos(dir + '/neg/', False) if rating <= neg_bound]\n",
    "    pos = [[id, rating, text] for id, rating, text in load_neg_or_pos(dir + '/pos/', True) if rating >= pos_bound]\n",
    "    random.shuffle(neg)\n",
    "    random.shuffle(pos)\n",
    "    both = neg[:half_reviews] + pos[:half_reviews]\n",
    "    random.shuffle(both)\n",
    "    return pd.DataFrame(both, columns=['Id', 'Rating', 'Text'])"
   ]
  },
  {
   "cell_type": "code",
   "execution_count": 235,
   "id": "ab31fc82-cf15-49a8-a3a2-ddcf787f3cc8",
   "metadata": {},
   "outputs": [],
   "source": [
    "df = load_train_or_test('./train') #.append(load_train_or_test('./test'))"
   ]
  },
  {
   "cell_type": "code",
   "execution_count": 236,
   "id": "9a53694d",
   "metadata": {},
   "outputs": [
    {
     "data": {
      "text/html": [
       "<div>\n",
       "<style scoped>\n",
       "    .dataframe tbody tr th:only-of-type {\n",
       "        vertical-align: middle;\n",
       "    }\n",
       "\n",
       "    .dataframe tbody tr th {\n",
       "        vertical-align: top;\n",
       "    }\n",
       "\n",
       "    .dataframe thead th {\n",
       "        text-align: right;\n",
       "    }\n",
       "</style>\n",
       "<table border=\"1\" class=\"dataframe\">\n",
       "  <thead>\n",
       "    <tr style=\"text-align: right;\">\n",
       "      <th></th>\n",
       "      <th>Id</th>\n",
       "      <th>Rating</th>\n",
       "      <th>Text</th>\n",
       "    </tr>\n",
       "  </thead>\n",
       "  <tbody>\n",
       "    <tr>\n",
       "      <th>0</th>\n",
       "      <td>8960</td>\n",
       "      <td>10</td>\n",
       "      <td>this may not be War &amp; Peace, but the two Acade...</td>\n",
       "    </tr>\n",
       "    <tr>\n",
       "      <th>1</th>\n",
       "      <td>1230</td>\n",
       "      <td>10</td>\n",
       "      <td>after seeing this film for the 3rd time now i ...</td>\n",
       "    </tr>\n",
       "    <tr>\n",
       "      <th>2</th>\n",
       "      <td>2732</td>\n",
       "      <td>1</td>\n",
       "      <td>When 'My Deja Vu, My Deja Vu' aired last seaso...</td>\n",
       "    </tr>\n",
       "    <tr>\n",
       "      <th>3</th>\n",
       "      <td>455</td>\n",
       "      <td>10</td>\n",
       "      <td>\"Magic\" isn't too strong a word for the spell ...</td>\n",
       "    </tr>\n",
       "    <tr>\n",
       "      <th>4</th>\n",
       "      <td>944</td>\n",
       "      <td>10</td>\n",
       "      <td>You could stage a version of Charles Dickens' ...</td>\n",
       "    </tr>\n",
       "    <tr>\n",
       "      <th>...</th>\n",
       "      <td>...</td>\n",
       "      <td>...</td>\n",
       "      <td>...</td>\n",
       "    </tr>\n",
       "    <tr>\n",
       "      <th>9995</th>\n",
       "      <td>2952</td>\n",
       "      <td>8</td>\n",
       "      <td>Judy Davis shows us here why she is one of Aus...</td>\n",
       "    </tr>\n",
       "    <tr>\n",
       "      <th>9996</th>\n",
       "      <td>2427</td>\n",
       "      <td>2</td>\n",
       "      <td>Don't get me wrong, I love action and revenge ...</td>\n",
       "    </tr>\n",
       "    <tr>\n",
       "      <th>9997</th>\n",
       "      <td>2404</td>\n",
       "      <td>8</td>\n",
       "      <td>Im a huge M Lillard fan that's why I ended up ...</td>\n",
       "    </tr>\n",
       "    <tr>\n",
       "      <th>9998</th>\n",
       "      <td>9283</td>\n",
       "      <td>8</td>\n",
       "      <td>In Iran women are prohibited from attending li...</td>\n",
       "    </tr>\n",
       "    <tr>\n",
       "      <th>9999</th>\n",
       "      <td>8253</td>\n",
       "      <td>4</td>\n",
       "      <td>The movie had a cute opening, I truly believed...</td>\n",
       "    </tr>\n",
       "  </tbody>\n",
       "</table>\n",
       "<p>10000 rows × 3 columns</p>\n",
       "</div>"
      ],
      "text/plain": [
       "        Id  Rating                                               Text\n",
       "0     8960      10  this may not be War & Peace, but the two Acade...\n",
       "1     1230      10  after seeing this film for the 3rd time now i ...\n",
       "2     2732       1  When 'My Deja Vu, My Deja Vu' aired last seaso...\n",
       "3      455      10  \"Magic\" isn't too strong a word for the spell ...\n",
       "4      944      10  You could stage a version of Charles Dickens' ...\n",
       "...    ...     ...                                                ...\n",
       "9995  2952       8  Judy Davis shows us here why she is one of Aus...\n",
       "9996  2427       2  Don't get me wrong, I love action and revenge ...\n",
       "9997  2404       8  Im a huge M Lillard fan that's why I ended up ...\n",
       "9998  9283       8  In Iran women are prohibited from attending li...\n",
       "9999  8253       4  The movie had a cute opening, I truly believed...\n",
       "\n",
       "[10000 rows x 3 columns]"
      ]
     },
     "execution_count": 236,
     "metadata": {},
     "output_type": "execute_result"
    }
   ],
   "source": [
    "df"
   ]
  },
  {
   "cell_type": "code",
   "execution_count": 238,
   "id": "fe27c472",
   "metadata": {},
   "outputs": [],
   "source": [
    "df['Tokens'] = df['Text'].apply(tokenize)\n",
    "# Clean up the text too\n",
    "df['Text'] = df['Tokens'].apply(\" \".join)"
   ]
  },
  {
   "cell_type": "code",
   "execution_count": 239,
   "id": "741a2760-65b6-404e-98b9-63a1abe00252",
   "metadata": {},
   "outputs": [
    {
     "data": {
      "text/html": [
       "<div>\n",
       "<style scoped>\n",
       "    .dataframe tbody tr th:only-of-type {\n",
       "        vertical-align: middle;\n",
       "    }\n",
       "\n",
       "    .dataframe tbody tr th {\n",
       "        vertical-align: top;\n",
       "    }\n",
       "\n",
       "    .dataframe thead th {\n",
       "        text-align: right;\n",
       "    }\n",
       "</style>\n",
       "<table border=\"1\" class=\"dataframe\">\n",
       "  <thead>\n",
       "    <tr style=\"text-align: right;\">\n",
       "      <th></th>\n",
       "      <th>Id</th>\n",
       "      <th>Rating</th>\n",
       "      <th>Text</th>\n",
       "      <th>Tokens</th>\n",
       "    </tr>\n",
       "  </thead>\n",
       "  <tbody>\n",
       "    <tr>\n",
       "      <th>0</th>\n",
       "      <td>8960</td>\n",
       "      <td>10</td>\n",
       "      <td>peace academy noms forthcoming genius james wo...</td>\n",
       "      <td>[peace, academy, noms, forthcoming, genius, ja...</td>\n",
       "    </tr>\n",
       "    <tr>\n",
       "      <th>1</th>\n",
       "      <td>1230</td>\n",
       "      <td>10</td>\n",
       "      <td>seeing film time think almost adam worst film ...</td>\n",
       "      <td>[seeing, film, time, think, almost, adam, wors...</td>\n",
       "    </tr>\n",
       "    <tr>\n",
       "      <th>2</th>\n",
       "      <td>2732</td>\n",
       "      <td>1</td>\n",
       "      <td>deja deja aired last season pleased scrub thou...</td>\n",
       "      <td>[deja, deja, aired, last, season, pleased, scr...</td>\n",
       "    </tr>\n",
       "    <tr>\n",
       "      <th>3</th>\n",
       "      <td>455</td>\n",
       "      <td>10</td>\n",
       "      <td>magic strong word spell film weave find relaxi...</td>\n",
       "      <td>[magic, strong, word, spell, film, weave, find...</td>\n",
       "    </tr>\n",
       "    <tr>\n",
       "      <th>4</th>\n",
       "      <td>944</td>\n",
       "      <td>10</td>\n",
       "      <td>could stage version charles dickens christmas ...</td>\n",
       "      <td>[could, stage, version, charles, dickens, chri...</td>\n",
       "    </tr>\n",
       "    <tr>\n",
       "      <th>...</th>\n",
       "      <td>...</td>\n",
       "      <td>...</td>\n",
       "      <td>...</td>\n",
       "      <td>...</td>\n",
       "    </tr>\n",
       "    <tr>\n",
       "      <th>9995</th>\n",
       "      <td>2952</td>\n",
       "      <td>8</td>\n",
       "      <td>judy davis show australia respected loved acto...</td>\n",
       "      <td>[judy, davis, show, australia, respected, love...</td>\n",
       "    </tr>\n",
       "    <tr>\n",
       "      <th>9996</th>\n",
       "      <td>2427</td>\n",
       "      <td>2</td>\n",
       "      <td>wrong love action revenge flick seen many sinc...</td>\n",
       "      <td>[wrong, love, action, revenge, flick, seen, ma...</td>\n",
       "    </tr>\n",
       "    <tr>\n",
       "      <th>9997</th>\n",
       "      <td>2404</td>\n",
       "      <td>8</td>\n",
       "      <td>huge lillard ended watching movie honestly dou...</td>\n",
       "      <td>[huge, lillard, ended, watching, movie, honest...</td>\n",
       "    </tr>\n",
       "    <tr>\n",
       "      <th>9998</th>\n",
       "      <td>9283</td>\n",
       "      <td>8</td>\n",
       "      <td>iran woman prohibited attending live sporting ...</td>\n",
       "      <td>[iran, woman, prohibited, attending, live, spo...</td>\n",
       "    </tr>\n",
       "    <tr>\n",
       "      <th>9999</th>\n",
       "      <td>8253</td>\n",
       "      <td>4</td>\n",
       "      <td>movie cute opening truly believed best romanti...</td>\n",
       "      <td>[movie, cute, opening, truly, believed, best, ...</td>\n",
       "    </tr>\n",
       "  </tbody>\n",
       "</table>\n",
       "<p>10000 rows × 4 columns</p>\n",
       "</div>"
      ],
      "text/plain": [
       "        Id  Rating                                               Text  \\\n",
       "0     8960      10  peace academy noms forthcoming genius james wo...   \n",
       "1     1230      10  seeing film time think almost adam worst film ...   \n",
       "2     2732       1  deja deja aired last season pleased scrub thou...   \n",
       "3      455      10  magic strong word spell film weave find relaxi...   \n",
       "4      944      10  could stage version charles dickens christmas ...   \n",
       "...    ...     ...                                                ...   \n",
       "9995  2952       8  judy davis show australia respected loved acto...   \n",
       "9996  2427       2  wrong love action revenge flick seen many sinc...   \n",
       "9997  2404       8  huge lillard ended watching movie honestly dou...   \n",
       "9998  9283       8  iran woman prohibited attending live sporting ...   \n",
       "9999  8253       4  movie cute opening truly believed best romanti...   \n",
       "\n",
       "                                                 Tokens  \n",
       "0     [peace, academy, noms, forthcoming, genius, ja...  \n",
       "1     [seeing, film, time, think, almost, adam, wors...  \n",
       "2     [deja, deja, aired, last, season, pleased, scr...  \n",
       "3     [magic, strong, word, spell, film, weave, find...  \n",
       "4     [could, stage, version, charles, dickens, chri...  \n",
       "...                                                 ...  \n",
       "9995  [judy, davis, show, australia, respected, love...  \n",
       "9996  [wrong, love, action, revenge, flick, seen, ma...  \n",
       "9997  [huge, lillard, ended, watching, movie, honest...  \n",
       "9998  [iran, woman, prohibited, attending, live, spo...  \n",
       "9999  [movie, cute, opening, truly, believed, best, ...  \n",
       "\n",
       "[10000 rows x 4 columns]"
      ]
     },
     "execution_count": 239,
     "metadata": {},
     "output_type": "execute_result"
    }
   ],
   "source": [
    "df"
   ]
  },
  {
   "cell_type": "code",
   "execution_count": 240,
   "id": "a95475f5",
   "metadata": {},
   "outputs": [],
   "source": [
    "# Save processed data\n",
    "# df.to_csv(df_csv)\n",
    "df.to_pickle(df_pkl)"
   ]
  },
  {
   "cell_type": "code",
   "execution_count": 181,
   "id": "7fa98e33-e3b9-4b96-b405-83a6d7dcbd42",
   "metadata": {},
   "outputs": [],
   "source": [
    "# # Train and save model\n",
    "# model = Word2Vec(sentences=train_df['Tokens'])\n",
    "# model.save(w2v_model_file)"
   ]
  },
  {
   "cell_type": "code",
   "execution_count": 182,
   "id": "4d445870",
   "metadata": {},
   "outputs": [],
   "source": [
    "# w2v_vocab = set(model.wv.key_to_index.keys())\n",
    "# w2v_vocab_ord = np.array(list(model.wv.key_to_index.keys()))"
   ]
  },
  {
   "cell_type": "code",
   "execution_count": 183,
   "id": "ab274690-2bae-4dba-8339-7e700c626e36",
   "metadata": {},
   "outputs": [],
   "source": [
    "# # Keep only tokens that showed up the required number of times\n",
    "# train_df['Tokens'] = train_df['Tokens'].apply(filter_tokens)\n",
    "\n",
    "# test_df['Tokens'] = test_df['Text'].apply(lambda text: filter_tokens(tokenize(text)))\n",
    "# # Process test text too\n",
    "# test_df['Text'] = test_df['Tokens'].apply(\" \".join)"
   ]
  },
  {
   "cell_type": "code",
   "execution_count": 184,
   "id": "7e7bff15",
   "metadata": {},
   "outputs": [],
   "source": [
    "# # The vectors corresponding to each reviews' words\n",
    "# df['Vectors'] = df['Tokens'].apply(get_vector)"
   ]
  },
  {
   "cell_type": "code",
   "execution_count": 241,
   "id": "61c9109d-6813-4d39-91ff-4244017239d6",
   "metadata": {},
   "outputs": [
    {
     "name": "stdout",
     "output_type": "stream",
     "text": [
      "Starting epoch 0 | Finished epoch 0, loss = 0.0\n",
      "Starting epoch 1 | Finished epoch 1, loss = 0.0\n",
      "Starting epoch 2 | Finished epoch 2, loss = 0.0\n",
      "Starting epoch 3 | Finished epoch 3, loss = 0.0\n",
      "Starting epoch 4 | Finished epoch 4, loss = 0.0\n",
      "Trained d2vdm\n",
      "Starting epoch 0 | Finished epoch 0, loss = 0.0\n",
      "Starting epoch 1 | Finished epoch 1, loss = 0.0\n",
      "Starting epoch 2 | Finished epoch 2, loss = 0.0\n",
      "Starting epoch 3 | Finished epoch 3, loss = 0.0\n",
      "Starting epoch 4 | Finished epoch 4, loss = 0.0\n",
      "Trained d2vdbow\n"
     ]
    }
   ],
   "source": [
    "# Train Doc2Vec model\n",
    "import collections\n",
    "from gensim.models.callbacks import CallbackAny2Vec\n",
    "\n",
    "doc_ids = range(num_reviews)\n",
    "tagged_docs = [TaggedDocument(words=df['Tokens'][doc_id], tags=[doc_id]) for doc_id in doc_ids]\n",
    "assert type(tagged_docs[0].words) == list\n",
    "# print(len(tagged_docs), type(tagged_docs[0].words), tagged_docs[0])\n",
    "\n",
    "class PrintLoss(CallbackAny2Vec):\n",
    "    def __init__(self):\n",
    "        self.epoch = 0\n",
    "    \n",
    "    def on_epoch_begin(self, model):\n",
    "        model.running_training_loss = 0.0\n",
    "        print(f'Starting epoch {self.epoch}', end=' | ')\n",
    "    \n",
    "    def on_epoch_end(self, model):\n",
    "        print(f'Finished epoch {self.epoch}, loss = {model.get_latest_training_loss()}')\n",
    "        self.epoch += 1\n",
    "\n",
    "def train_d2v(model):\n",
    "    model.random.seed(1)\n",
    "    model.build_vocab(tagged_docs)\n",
    "    model.train(tagged_docs, total_examples=model.corpus_count, epochs=model.epochs, compute_loss=True, callbacks=[PrintLoss()])\n",
    "    return model\n",
    "\n",
    "d2vdm_model = train_d2v(Doc2Vec(dm=1, vector_size=5, min_count=min_occ, epochs=5))\n",
    "d2vdm_model.save(d2vdm_model_file)\n",
    "print('Trained d2vdm')\n",
    "\n",
    "d2vdbow_model = train_d2v(Doc2Vec(dm=0, vector_size=50, min_count=min_occ, epochs=5))\n",
    "d2vdbow_model.save(d2vdbow_model_file)\n",
    "print('Trained d2vdbow')"
   ]
  },
  {
   "cell_type": "code",
   "execution_count": 242,
   "id": "ca1f755a-5b99-4fbb-86b5-85d491b81dde",
   "metadata": {},
   "outputs": [],
   "source": [
    "def get_d2v_sim(model, doc1, doc2):\n",
    "    \"\"\"Get cos similarity of 2 docs' vectors\"\"\"\n",
    "    vector1 = model.infer_vector(doc1)\n",
    "    vector2 = model.infer_vector(doc2)\n",
    "    return cosine_similarity([vector1], [vector2])[0][0]"
   ]
  },
  {
   "cell_type": "code",
   "execution_count": 252,
   "id": "14f63b74-c86c-4f0a-b8bf-a01004d1341a",
   "metadata": {},
   "outputs": [
    {
     "data": {
      "text/html": [
       "<div>\n",
       "<style scoped>\n",
       "    .dataframe tbody tr th:only-of-type {\n",
       "        vertical-align: middle;\n",
       "    }\n",
       "\n",
       "    .dataframe tbody tr th {\n",
       "        vertical-align: top;\n",
       "    }\n",
       "\n",
       "    .dataframe thead th {\n",
       "        text-align: right;\n",
       "    }\n",
       "</style>\n",
       "<table border=\"1\" class=\"dataframe\">\n",
       "  <thead>\n",
       "    <tr style=\"text-align: right;\">\n",
       "      <th></th>\n",
       "      <th>Id</th>\n",
       "      <th>Rating</th>\n",
       "      <th>Text</th>\n",
       "      <th>Tokens</th>\n",
       "    </tr>\n",
       "  </thead>\n",
       "  <tbody>\n",
       "    <tr>\n",
       "      <th>55</th>\n",
       "      <td>0</td>\n",
       "      <td>9</td>\n",
       "      <td>bromwell high cartoon comedy time program scho...</td>\n",
       "      <td>[bromwell, high, cartoon, comedy, time, progra...</td>\n",
       "    </tr>\n",
       "    <tr>\n",
       "      <th>1298</th>\n",
       "      <td>2</td>\n",
       "      <td>9</td>\n",
       "      <td>bromwell high nothing short brilliant expertly...</td>\n",
       "      <td>[bromwell, high, nothing, short, brilliant, ex...</td>\n",
       "    </tr>\n",
       "  </tbody>\n",
       "</table>\n",
       "</div>"
      ],
      "text/plain": [
       "      Id  Rating                                               Text  \\\n",
       "55     0       9  bromwell high cartoon comedy time program scho...   \n",
       "1298   2       9  bromwell high nothing short brilliant expertly...   \n",
       "\n",
       "                                                 Tokens  \n",
       "55    [bromwell, high, cartoon, comedy, time, progra...  \n",
       "1298  [bromwell, high, nothing, short, brilliant, ex...  "
      ]
     },
     "execution_count": 252,
     "metadata": {},
     "output_type": "execute_result"
    }
   ],
   "source": [
    "sim_reviews = df[((df['Id'] == 2) | (df['Id'] == 0)) & (df['Rating'] >= pos_bound)]\n",
    "sim_reviews"
   ]
  },
  {
   "cell_type": "code",
   "execution_count": 260,
   "id": "46c0a49b-8fa7-4760-9167-09f18bdffd2d",
   "metadata": {},
   "outputs": [
    {
     "data": {
      "text/plain": [
       "0.9263135"
      ]
     },
     "execution_count": 260,
     "metadata": {},
     "output_type": "execute_result"
    }
   ],
   "source": [
    "r1, r2 = sim_reviews.Tokens\n",
    "get_d2v_sim(d2vdm_model, r1, r2)"
   ]
  },
  {
   "cell_type": "code",
   "execution_count": 261,
   "id": "e52e5f25-8216-4e62-96a4-117df37823b1",
   "metadata": {},
   "outputs": [
    {
     "data": {
      "text/plain": [
       "0.98787755"
      ]
     },
     "execution_count": 261,
     "metadata": {},
     "output_type": "execute_result"
    }
   ],
   "source": [
    "get_d2v_sim(d2vdbow_model, r1, r2)"
   ]
  },
  {
   "cell_type": "code",
   "execution_count": 284,
   "id": "70d19d9d-da69-4775-a767-2b0e2db11274",
   "metadata": {},
   "outputs": [
    {
     "data": {
      "text/html": [
       "<div>\n",
       "<style scoped>\n",
       "    .dataframe tbody tr th:only-of-type {\n",
       "        vertical-align: middle;\n",
       "    }\n",
       "\n",
       "    .dataframe tbody tr th {\n",
       "        vertical-align: top;\n",
       "    }\n",
       "\n",
       "    .dataframe thead th {\n",
       "        text-align: right;\n",
       "    }\n",
       "</style>\n",
       "<table border=\"1\" class=\"dataframe\">\n",
       "  <thead>\n",
       "    <tr style=\"text-align: right;\">\n",
       "      <th></th>\n",
       "      <th>Id</th>\n",
       "      <th>Rating</th>\n",
       "      <th>Text</th>\n",
       "      <th>Tokens</th>\n",
       "    </tr>\n",
       "  </thead>\n",
       "  <tbody>\n",
       "    <tr>\n",
       "      <th>1004</th>\n",
       "      <td>7451</td>\n",
       "      <td>9</td>\n",
       "      <td>entire family enjoy even consider fairy tale s...</td>\n",
       "      <td>[entire, family, enjoy, even, consider, fairy,...</td>\n",
       "    </tr>\n",
       "    <tr>\n",
       "      <th>6472</th>\n",
       "      <td>9514</td>\n",
       "      <td>1</td>\n",
       "      <td>please spare movie teach crime justified coupl...</td>\n",
       "      <td>[please, spare, movie, teach, crime, justified...</td>\n",
       "    </tr>\n",
       "    <tr>\n",
       "      <th>7924</th>\n",
       "      <td>5904</td>\n",
       "      <td>3</td>\n",
       "      <td>runaway success army every mormon camera seems...</td>\n",
       "      <td>[runaway, success, army, every, mormon, camera...</td>\n",
       "    </tr>\n",
       "    <tr>\n",
       "      <th>9770</th>\n",
       "      <td>7057</td>\n",
       "      <td>1</td>\n",
       "      <td>irritating nonsensical movie ever misfortune e...</td>\n",
       "      <td>[irritating, nonsensical, movie, ever, misfort...</td>\n",
       "    </tr>\n",
       "  </tbody>\n",
       "</table>\n",
       "</div>"
      ],
      "text/plain": [
       "        Id  Rating                                               Text  \\\n",
       "1004  7451       9  entire family enjoy even consider fairy tale s...   \n",
       "6472  9514       1  please spare movie teach crime justified coupl...   \n",
       "7924  5904       3  runaway success army every mormon camera seems...   \n",
       "9770  7057       1  irritating nonsensical movie ever misfortune e...   \n",
       "\n",
       "                                                 Tokens  \n",
       "1004  [entire, family, enjoy, even, consider, fairy,...  \n",
       "6472  [please, spare, movie, teach, crime, justified...  \n",
       "7924  [runaway, success, army, every, mormon, camera...  \n",
       "9770  [irritating, nonsensical, movie, ever, misfort...  "
      ]
     },
     "execution_count": 284,
     "metadata": {},
     "output_type": "execute_result"
    }
   ],
   "source": [
    "bromwell_reviews = df[(df['Tokens'].apply(lambda tokens: 'bueller' in tokens))]\n",
    "bromwell_reviews"
   ]
  },
  {
   "cell_type": "code",
   "execution_count": 285,
   "id": "4703d8fe-6ea2-4398-bc90-0eb67786a72f",
   "metadata": {},
   "outputs": [
    {
     "data": {
      "text/plain": [
       "['entire family enjoy even consider fairy tale shelley duvall outdid unique imaginative take nearly popular fairy tale childhood script offer twist fable grew feature handful star episode cinderella exception duvall standard opinion five series highlighted jennifer beals remember flashdance still hollywood today making movie title role jean stapleton fairy godmother southern accent arden embodiment wicked stepmotherhood edie mcclurg ferris bueller jane alden make hilarious stepsister matthew broderick affable prince henry keep coming back',\n",
       " 'please spare movie teach crime justified couple vacuous script intense desire farrelly coen brother plus life another group supposedly high school people acting dawson creek brand teen angst complete genxyz soundtrack woefully try make movie feel cool intensely painfully inept satire even watered ferris bueller rather watch traffic light change scene stand anywhere near worth price admission betty masked girl meet richard nixon masked friend surreal moment priceless even rest rather toothache least apply benzocaine stop pain',\n",
       " 'runaway success army every mormon camera seems trying make movie case recent side heaven thing film great quite good single ward however telling story young divorced mormon thrust back single life writing shooting style single ward many way similar comedy ferris bueller however similarity ferris bueller funny original well acted stupid comedy like ever single ward completely opposite try hard funny however gag either fall flat cliche joke probably heard million time seem thrown fill time acting awful amaturish best addition either mormon familiar mormon culture hardly anything whereas army side heaven appealing broad range viewer inside outside mormon church film definitely inside joke even funny',\n",
       " 'irritating nonsensical movie ever misfortune every time started look like might getting good come sepia tone flashback followed paranoid idiocy masquerading social commentary main character maddox manipulative would rebel life mansion seemingly without parent responsibility supporting cast likeable interesting unfortunately never developed ever really understand john stanton character supposedly influencing maddox commit act rebellion point thought maddox nut secretly making communication escaped mental patient stanton getting somewhere course end case whole movie turn pointless maddox perspective viewer ferris bueller need']"
      ]
     },
     "execution_count": 285,
     "metadata": {},
     "output_type": "execute_result"
    }
   ],
   "source": [
    "list(bromwell_reviews['Text'])"
   ]
  },
  {
   "cell_type": "code",
   "execution_count": 289,
   "id": "440ea78a-447b-4282-890e-8e2d5ef3156a",
   "metadata": {},
   "outputs": [
    {
     "data": {
      "text/plain": [
       "\"['garber', 'cultist', 'carving', 'spader', 'mellow', 'moose', 'transforming', 'export', 'lohman', 'singled', 'occupy', 'mumbo', 'hooray', 'shecky', 'bueller', 'conspire', 'grander', 'gushing', 'silents', 'jawed']\""
      ]
     },
     "execution_count": 289,
     "metadata": {},
     "output_type": "execute_result"
    }
   ],
   "source": [
    "# Most common 20 words\n",
    "lst = [[k, v] for k, v in d2vdm_model.wv.key_to_index.items()]\n",
    "lst = sorted(lst, key=lambda i: -i[1])\n",
    "str([x for x, _ in lst[:20]])"
   ]
  },
  {
   "cell_type": "code",
   "execution_count": 166,
   "id": "eaf71e13-16f1-4afd-95cb-1003cdfb7db1",
   "metadata": {},
   "outputs": [],
   "source": [
    "def test_d2v_sims(model):\n",
    "    sims = []\n",
    "    for doc_id in range(len(tagged_docs)):\n",
    "        inferred_vector = model.infer_vector(tagged_docs[doc_id].words)\n",
    "        actual_vector = model.dv[doc_id]\n",
    "        sims.append(cosine_similarity([inferred_vector], [actual_vector])[0][0])\n",
    "    return np.asarray(sims)\n",
    "\n",
    "s1 = test_d2v_sims(d2vdm_model)\n",
    "s2 = test_d2v_sims(d2vdbow_model)"
   ]
  },
  {
   "cell_type": "code",
   "execution_count": 170,
   "id": "b9d5c974-c54a-4b3c-ac96-4c89f4f6718b",
   "metadata": {},
   "outputs": [
    {
     "data": {
      "text/plain": [
       "(-0.9867377,\n",
       " 0.9978537,\n",
       " 0.37101847,\n",
       " 0.4880183,\n",
       " -0.9867377,\n",
       " 0.9978318,\n",
       " 0.62419236,\n",
       " 0.95700026)"
      ]
     },
     "execution_count": 170,
     "metadata": {},
     "output_type": "execute_result"
    }
   ],
   "source": [
    "s1.min(), s1.max(), s1.mean(), np.median(s1), s1.min(), s2.max(), s2.mean(), np.median(s2)"
   ]
  },
  {
   "cell_type": "code",
   "execution_count": null,
   "id": "127f312a-f667-42e7-88dd-ab1854340e46",
   "metadata": {},
   "outputs": [],
   "source": [
    "def test_d2v(model):\n",
    "    sims = []\n",
    "    for doc_id in range(len(tagged_docs)):\n",
    "        inferred_vector = model.infer_vector(tagged_docs[doc_id].words)\n",
    "        actual_vector = model.dv[doc_id]\n",
    "        sims.append(cosine_similarity([inferred_vector], [actual_vector])[0][0])\n",
    "    return np.asarray(sims)\n",
    "\n",
    "s1 = test_d2v_sims(d2vdm_model)\n",
    "s2 = test_d2v_sims(d2vdbow_model)"
   ]
  },
  {
   "cell_type": "markdown",
   "id": "816c63f1",
   "metadata": {},
   "source": [
    "# Load stuff done already"
   ]
  },
  {
   "cell_type": "code",
   "execution_count": 151,
   "id": "02492993",
   "metadata": {},
   "outputs": [],
   "source": [
    "# df = pd.read_csv(df_csv)\n",
    "df = pd.read_pickle(df_pkl)"
   ]
  },
  {
   "cell_type": "code",
   "execution_count": 86,
   "id": "3ae87b0b-22bc-48c6-a1be-82d12345457a",
   "metadata": {},
   "outputs": [],
   "source": [
    "# Load pretrained Word2Vec model\n",
    "# model = Word2Vec.load(w2v_model_file)"
   ]
  },
  {
   "cell_type": "code",
   "execution_count": 8,
   "id": "91fad42f-4028-4a74-b177-196172feb34c",
   "metadata": {},
   "outputs": [],
   "source": [
    "# Load pretrained Doc2Vec models\n",
    "d2vdm_model = Doc2Vec.load(d2vdm_model_file)\n",
    "d2vdbow_model = Doc2Vec.load(d2vdbow_model_file)"
   ]
  },
  {
   "cell_type": "markdown",
   "id": "f7b70547-0a53-4091-8a2e-9adb64d85a42",
   "metadata": {},
   "source": [
    "# Common stuff"
   ]
  },
  {
   "cell_type": "code",
   "execution_count": 9,
   "id": "408dfb54-25c0-4ddf-a1bd-0979f7a3cd56",
   "metadata": {},
   "outputs": [],
   "source": [
    "# vocab = set(model.wv.key_to_index.keys())\n",
    "# vocab_ord = np.array(list(model.wv.key_to_index.keys()))"
   ]
  },
  {
   "cell_type": "code",
   "execution_count": 290,
   "id": "ec2d2b83-cb8c-42bf-9877-4dc5e5e6a2ff",
   "metadata": {},
   "outputs": [],
   "source": [
    "y_bi = df['Rating'] > 5\n",
    "y_train_bi, y_test_bi = my_train_test_split(y_bi)\n",
    "\n",
    "y_bin2 = df['Rating'] // 2\n",
    "y_train_bin2, y_test_bin2 = my_train_test_split(y_bin2)"
   ]
  },
  {
   "cell_type": "markdown",
   "id": "6a9b4fdd-a4e5-4a17-bfd9-c1960f0597f3",
   "metadata": {},
   "source": [
    "# Classifiers"
   ]
  },
  {
   "cell_type": "code",
   "execution_count": 291,
   "id": "dae55314-785f-4a22-b019-828b2c2d0e97",
   "metadata": {},
   "outputs": [],
   "source": [
    "classifier_results = dict()\n",
    "\n",
    "def score_classifier(classifier, X_test, y_test=y_test_bi, big_table=True):\n",
    "    score = classifier.score(X_test, y_test)\n",
    "    predicted = classifier.predict(X_test)\n",
    "    cm = confusion_matrix(predicted, y_test)\n",
    "    report = classification_report(predicted, y_test)\n",
    "    \n",
    "    classifier_results[str(classifier)] = (score, cm)\n",
    "    \n",
    "    print_results(score, cm, report, big_table)\n",
    "    \n",
    "def print_results(score, cm, class_report, big_table=True):\n",
    "    print('Mean accuracy:', score)\n",
    "    print(f\"TP: {cm[0][0]}, FN: {cm[0][1]}\\nFP: {cm[1][0]}, TN: {cm[1][1]}\")\n",
    "    if big_table:\n",
    "        print(class_report)"
   ]
  },
  {
   "cell_type": "code",
   "execution_count": 292,
   "id": "53add2ff-ee1b-4fc1-9caf-60a1820a4460",
   "metadata": {},
   "outputs": [],
   "source": [
    "def try_classifier(classifier, X_train, X_test, big_table=True):\n",
    "    classifier.fit(X_train, y_train_bi)\n",
    "    score_classifier(classifier, X_test, big_table=big_table)\n",
    "\n",
    "def try_tfidf_classifier(classifier, big_table=True):\n",
    "    classifier.fit(X_train_tfidf, y_train_bi)\n",
    "    score_classifier(classifier, X_test_tfidf, big_table=big_table)\n",
    "\n",
    "def try_d2v_classifier(classifier, big_table=True):\n",
    "    classifier.fit(X_train_d2v, y_train_bi)\n",
    "    score_classifier(classifier, X_test_d2v, big_table=big_table)"
   ]
  },
  {
   "cell_type": "code",
   "execution_count": 293,
   "id": "e4eda3f3-34c3-4154-843b-7bf4020f85e7",
   "metadata": {},
   "outputs": [
    {
     "name": "stdout",
     "output_type": "stream",
     "text": [
      "(8000, 14577) 14577\n",
      "(8000, 33867) 33867\n",
      "(8000, 19290) 19290\n"
     ]
    }
   ],
   "source": [
    "# Make different train-test splits for tf-idf\n",
    "def make_tfidf(**kwargs):\n",
    "    # en_stop because the default apparently has problems\n",
    "    tfidf_vectorizer = TfidfVectorizer(stop_words=en_stop, min_df=min_occ, **kwargs)\n",
    "    X_tfidf = tfidf_vectorizer.fit_transform(df['Text'])\n",
    "    X_train_tfidf, X_test_tfidf = my_train_test_split(X_tfidf)\n",
    "    \n",
    "    print(X_train_tfidf.shape, len(tfidf_vectorizer.vocabulary_.keys()))\n",
    "    \n",
    "    return X_train_tfidf, X_test_tfidf\n",
    "\n",
    "X_train_tfidf_1, X_test_tfidf_1 = make_tfidf(ngram_range=(1, 1))\n",
    "X_train_tfidf_1_2, X_test_tfidf_1_2 = make_tfidf(ngram_range=(1, 2))\n",
    "X_train_tfidf_2, X_test_tfidf_2 = make_tfidf(ngram_range=(2, 2))\n",
    "\n",
    "# The \"best\" tf-idf model\n",
    "X_train_tfidf = X_train_tfidf_1_2"
   ]
  },
  {
   "cell_type": "code",
   "execution_count": 296,
   "id": "ff6891bb-93a7-4f1f-999c-a5a89db76c5e",
   "metadata": {},
   "outputs": [],
   "source": [
    "# Make different train-test splits for Doc2Vec\n",
    "def split_d2v(model):\n",
    "    train_ids, test_ids = my_train_test_split(doc_ids)\n",
    "    X_train = model.dv[train_ids]\n",
    "    X_test = model.dv[test_ids]\n",
    "    return X_train, X_test\n",
    "\n",
    "X_train_d2vdm, X_test_d2vdm = split_d2v(d2vdm_model)\n",
    "X_train_d2vdbow, X_test_d2vdbow = split_d2v(d2vdbow_model)"
   ]
  },
  {
   "cell_type": "markdown",
   "id": "c4cb9072",
   "metadata": {},
   "source": [
    "# Logistic Regression + Bag of Words"
   ]
  },
  {
   "cell_type": "code",
   "execution_count": 17,
   "id": "3f4a46df-3bb7-4c34-af14-4479d1eb575b",
   "metadata": {},
   "outputs": [],
   "source": [
    "def try_bow(**kwargs):\n",
    "    cnt_vectorizer = CountVectorizer(stop_words=en_stop, **kwargs) # en_stop because the default has problems\n",
    "    X_bow = cnt_vectorizer.fit_transform(df['Text'])\n",
    "    X_train_bow, X_test_bow = train_test_split(X_bow, train_size=train_size, random_state=1)\n",
    "\n",
    "    # Scale data\n",
    "    scaler_bow = StandardScaler(with_mean=False).fit(X_train_bow)\n",
    "    X_train_bow_scaled = scaler_bow.transform(X_train_bow)\n",
    "    X_test_bow_scaled = scaler_bow.transform(X_test_bow)\n",
    "    print(X_train_bow_scaled.shape, len(cnt_vectorizer.vocabulary_.keys()))\n",
    "    \n",
    "    lr_bow = LogisticRegression()\n",
    "    lr_bow.fit(X_train_bow_scaled, y_train_bi)\n",
    "    \n",
    "    score_classifier(lr_bow, X_test_bow_scaled)"
   ]
  },
  {
   "cell_type": "code",
   "execution_count": 18,
   "id": "2408e0fc-febf-493c-b9c1-34071d65127f",
   "metadata": {},
   "outputs": [
    {
     "name": "stdout",
     "output_type": "stream",
     "text": [
      "(12800, 18596) 18596\n",
      "Mean accuracy: 0.84375\n",
      "TP: 1352, FN: 251\n",
      "FP: 249, TN: 1348\n",
      "              precision    recall  f1-score   support\n",
      "\n",
      "       False       0.84      0.84      0.84      1603\n",
      "        True       0.84      0.84      0.84      1597\n",
      "\n",
      "    accuracy                           0.84      3200\n",
      "   macro avg       0.84      0.84      0.84      3200\n",
      "weighted avg       0.84      0.84      0.84      3200\n",
      "\n"
     ]
    }
   ],
   "source": [
    "try_bow(min_df=5, ngram_range=(1, 1)) # Just unigrams"
   ]
  },
  {
   "cell_type": "code",
   "execution_count": 19,
   "id": "1072c298-f3ce-4087-a40e-493530dc786e",
   "metadata": {},
   "outputs": [
    {
     "name": "stdout",
     "output_type": "stream",
     "text": [
      "(12800, 52817) 52817\n",
      "Mean accuracy: 0.8575\n",
      "TP: 1352, FN: 207\n",
      "FP: 249, TN: 1392\n",
      "              precision    recall  f1-score   support\n",
      "\n",
      "       False       0.84      0.87      0.86      1559\n",
      "        True       0.87      0.85      0.86      1641\n",
      "\n",
      "    accuracy                           0.86      3200\n",
      "   macro avg       0.86      0.86      0.86      3200\n",
      "weighted avg       0.86      0.86      0.86      3200\n",
      "\n"
     ]
    }
   ],
   "source": [
    "try_bow(min_df=5, ngram_range=(1, 2)) # Unigrams and bigrams"
   ]
  },
  {
   "cell_type": "code",
   "execution_count": 20,
   "id": "3bd5af37-5983-433a-b714-b00b1dbd8fa4",
   "metadata": {},
   "outputs": [
    {
     "name": "stdout",
     "output_type": "stream",
     "text": [
      "(12800, 34221) 34221\n",
      "Mean accuracy: 0.7759375\n",
      "TP: 1216, FN: 332\n",
      "FP: 385, TN: 1267\n",
      "              precision    recall  f1-score   support\n",
      "\n",
      "       False       0.76      0.79      0.77      1548\n",
      "        True       0.79      0.77      0.78      1652\n",
      "\n",
      "    accuracy                           0.78      3200\n",
      "   macro avg       0.78      0.78      0.78      3200\n",
      "weighted avg       0.78      0.78      0.78      3200\n",
      "\n"
     ]
    }
   ],
   "source": [
    "try_bow(min_df=5, ngram_range=(2, 2)) # Just bigrams"
   ]
  },
  {
   "cell_type": "code",
   "execution_count": 21,
   "id": "27d89c95-8810-4ffb-98cd-b7d6b96d4341",
   "metadata": {},
   "outputs": [
    {
     "name": "stdout",
     "output_type": "stream",
     "text": [
      "(12800, 55215) 55215\n",
      "Mean accuracy: 0.8571875\n",
      "TP: 1352, FN: 208\n",
      "FP: 249, TN: 1391\n",
      "              precision    recall  f1-score   support\n",
      "\n",
      "       False       0.84      0.87      0.86      1560\n",
      "        True       0.87      0.85      0.86      1640\n",
      "\n",
      "    accuracy                           0.86      3200\n",
      "   macro avg       0.86      0.86      0.86      3200\n",
      "weighted avg       0.86      0.86      0.86      3200\n",
      "\n"
     ]
    }
   ],
   "source": [
    "try_bow(min_df=5, ngram_range=(1, 3)) # Unigrams, bigrams, and trigrams"
   ]
  },
  {
   "cell_type": "markdown",
   "id": "dfb06521-27c6-4752-b371-2b83b1ea49fe",
   "metadata": {},
   "source": [
    "# Logistic Regression + TFIDF"
   ]
  },
  {
   "cell_type": "code",
   "execution_count": 23,
   "id": "d72a3ee9-3459-42f7-8e15-5f1c59e7ad23",
   "metadata": {},
   "outputs": [],
   "source": [
    "def try_tfidf(X_train_tfidf, X_test_tfidf):    \n",
    "    lr_tfidf = LogisticRegression()\n",
    "    lr_tfidf.fit(X_train_tfidf, y_train_bi)\n",
    "    \n",
    "    score_classifier(lr_tfidf, X_test_tfidf)"
   ]
  },
  {
   "cell_type": "code",
   "execution_count": 24,
   "id": "e0bb2ad3-7d79-472c-9a80-64a33431baf5",
   "metadata": {},
   "outputs": [
    {
     "name": "stdout",
     "output_type": "stream",
     "text": [
      "(12800, 18596) 18596\n",
      "(12800, 52817) 52817\n",
      "(12800, 34221) 34221\n"
     ]
    }
   ],
   "source": [
    "X_train_tfidf_1, X_test_tfidf_1 = make_tfidf(ngram_range=(1, 1))\n",
    "X_train_tfidf_1_2, X_test_tfidf_1_2 = make_tfidf(ngram_range=(1, 2))\n",
    "X_train_tfidf_2, X_test_tfidf_2 = make_tfidf(ngram_range=(2, 2))"
   ]
  },
  {
   "cell_type": "code",
   "execution_count": 25,
   "id": "9d87f23a-21ae-4805-ad27-e58cb459ad60",
   "metadata": {},
   "outputs": [
    {
     "name": "stdout",
     "output_type": "stream",
     "text": [
      "Mean accuracy: 0.8778125\n",
      "TP: 1385, FN: 175\n",
      "FP: 216, TN: 1424\n",
      "              precision    recall  f1-score   support\n",
      "\n",
      "       False       0.87      0.89      0.88      1560\n",
      "        True       0.89      0.87      0.88      1640\n",
      "\n",
      "    accuracy                           0.88      3200\n",
      "   macro avg       0.88      0.88      0.88      3200\n",
      "weighted avg       0.88      0.88      0.88      3200\n",
      "\n"
     ]
    }
   ],
   "source": [
    "try_tfidf(X_train_tfidf_1, X_test_tfidf_1)"
   ]
  },
  {
   "cell_type": "code",
   "execution_count": 26,
   "id": "fb1c63e4-7843-4a89-883d-9993d5703ef7",
   "metadata": {},
   "outputs": [
    {
     "name": "stdout",
     "output_type": "stream",
     "text": [
      "Mean accuracy: 0.88125\n",
      "TP: 1385, FN: 164\n",
      "FP: 216, TN: 1435\n",
      "              precision    recall  f1-score   support\n",
      "\n",
      "       False       0.87      0.89      0.88      1549\n",
      "        True       0.90      0.87      0.88      1651\n",
      "\n",
      "    accuracy                           0.88      3200\n",
      "   macro avg       0.88      0.88      0.88      3200\n",
      "weighted avg       0.88      0.88      0.88      3200\n",
      "\n"
     ]
    }
   ],
   "source": [
    "try_tfidf(X_train_tfidf_1_2, X_test_tfidf_1_2)"
   ]
  },
  {
   "cell_type": "code",
   "execution_count": 27,
   "id": "8411dfc5-bbf8-49c7-befb-6f619fff25cb",
   "metadata": {},
   "outputs": [
    {
     "name": "stdout",
     "output_type": "stream",
     "text": [
      "Mean accuracy: 0.8215625\n",
      "TP: 1265, FN: 235\n",
      "FP: 336, TN: 1364\n",
      "              precision    recall  f1-score   support\n",
      "\n",
      "       False       0.79      0.84      0.82      1500\n",
      "        True       0.85      0.80      0.83      1700\n",
      "\n",
      "    accuracy                           0.82      3200\n",
      "   macro avg       0.82      0.82      0.82      3200\n",
      "weighted avg       0.82      0.82      0.82      3200\n",
      "\n"
     ]
    }
   ],
   "source": [
    "try_tfidf(X_train_tfidf_2, X_test_tfidf_2)"
   ]
  },
  {
   "cell_type": "code",
   "execution_count": 37,
   "id": "767f3030-1ea9-40c3-b9a8-a1d84f8d3b45",
   "metadata": {},
   "outputs": [],
   "source": [
    "# Choose the best tf-idf model\n",
    "X_train_tfidf = X_train_tfidf_1_2\n",
    "X_test_tfidf = X_test_tfidf_1_2"
   ]
  },
  {
   "cell_type": "markdown",
   "id": "f19adc0e-6c5b-4136-9fae-2154333bbc18",
   "metadata": {},
   "source": [
    "# Logistic Regression + Doc2Vec"
   ]
  },
  {
   "cell_type": "code",
   "execution_count": 297,
   "id": "f50e2d3e-91b4-431b-8f9f-66e5bd713059",
   "metadata": {},
   "outputs": [
    {
     "name": "stdout",
     "output_type": "stream",
     "text": [
      "Mean accuracy: 0.6115\n",
      "TP: 621, FN: 381\n",
      "FP: 396, TN: 602\n",
      "              precision    recall  f1-score   support\n",
      "\n",
      "       False       0.61      0.62      0.62      1002\n",
      "        True       0.61      0.60      0.61       998\n",
      "\n",
      "    accuracy                           0.61      2000\n",
      "   macro avg       0.61      0.61      0.61      2000\n",
      "weighted avg       0.61      0.61      0.61      2000\n",
      "\n"
     ]
    }
   ],
   "source": [
    "score_classifier(LogisticRegression().fit(X_train_d2vdm, y_train_bi), X_test_d2vdm)"
   ]
  },
  {
   "cell_type": "code",
   "execution_count": 298,
   "id": "c35915c8-24d3-4173-a399-980ad35a9b50",
   "metadata": {},
   "outputs": [
    {
     "name": "stdout",
     "output_type": "stream",
     "text": [
      "Mean accuracy: 0.676\n",
      "TP: 683, FN: 314\n",
      "FP: 334, TN: 669\n",
      "              precision    recall  f1-score   support\n",
      "\n",
      "       False       0.67      0.69      0.68       997\n",
      "        True       0.68      0.67      0.67      1003\n",
      "\n",
      "    accuracy                           0.68      2000\n",
      "   macro avg       0.68      0.68      0.68      2000\n",
      "weighted avg       0.68      0.68      0.68      2000\n",
      "\n"
     ]
    }
   ],
   "source": [
    "score_classifier(LogisticRegression().fit(X_train_d2vdbow, y_train_bi), X_test_d2vdbow)"
   ]
  },
  {
   "cell_type": "markdown",
   "id": "58e1047c-5dc6-4d2f-9b80-b64d69945e76",
   "metadata": {},
   "source": [
    "# Random forests + tf-idf"
   ]
  },
  {
   "cell_type": "code",
   "execution_count": 31,
   "id": "096ea0d9-3fbd-4548-9be8-7936f17576bb",
   "metadata": {},
   "outputs": [],
   "source": [
    "from sklearn.ensemble import RandomForestClassifier"
   ]
  },
  {
   "cell_type": "code",
   "execution_count": 38,
   "id": "8c9f16b0-7e17-41ab-8c85-608cd915f5a4",
   "metadata": {},
   "outputs": [
    {
     "name": "stdout",
     "output_type": "stream",
     "text": [
      "Mean accuracy: 0.78625\n",
      "TP: 1215, FN: 298\n",
      "FP: 386, TN: 1301\n",
      "              precision    recall  f1-score   support\n",
      "\n",
      "       False       0.76      0.80      0.78      1513\n",
      "        True       0.81      0.77      0.79      1687\n",
      "\n",
      "    accuracy                           0.79      3200\n",
      "   macro avg       0.79      0.79      0.79      3200\n",
      "weighted avg       0.79      0.79      0.79      3200\n",
      "\n"
     ]
    }
   ],
   "source": [
    "try_tfidf_classifier(RandomForestClassifier(max_depth=2, random_state=1))"
   ]
  },
  {
   "cell_type": "code",
   "execution_count": 39,
   "id": "ec4b411a-d7d6-4bb5-85e6-f5b55ffb76e4",
   "metadata": {},
   "outputs": [
    {
     "name": "stdout",
     "output_type": "stream",
     "text": [
      "Mean accuracy: 0.795\n",
      "TP: 1212, FN: 267\n",
      "FP: 389, TN: 1332\n",
      "              precision    recall  f1-score   support\n",
      "\n",
      "       False       0.76      0.82      0.79      1479\n",
      "        True       0.83      0.77      0.80      1721\n",
      "\n",
      "    accuracy                           0.80      3200\n",
      "   macro avg       0.80      0.80      0.79      3200\n",
      "weighted avg       0.80      0.80      0.80      3200\n",
      "\n"
     ]
    }
   ],
   "source": [
    "try_tfidf_classifier(RandomForestClassifier(max_depth=3, random_state=1))"
   ]
  },
  {
   "cell_type": "code",
   "execution_count": 40,
   "id": "40dcfe9a-0ec0-458c-abb4-b335b7a4ec66",
   "metadata": {},
   "outputs": [
    {
     "name": "stdout",
     "output_type": "stream",
     "text": [
      "Mean accuracy: 0.806875\n",
      "TP: 1231, FN: 248\n",
      "FP: 370, TN: 1351\n",
      "              precision    recall  f1-score   support\n",
      "\n",
      "       False       0.77      0.83      0.80      1479\n",
      "        True       0.84      0.79      0.81      1721\n",
      "\n",
      "    accuracy                           0.81      3200\n",
      "   macro avg       0.81      0.81      0.81      3200\n",
      "weighted avg       0.81      0.81      0.81      3200\n",
      "\n"
     ]
    }
   ],
   "source": [
    "try_tfidf_classifier(RandomForestClassifier(max_depth=5, random_state=1))"
   ]
  },
  {
   "cell_type": "code",
   "execution_count": 41,
   "id": "edd3d151-e5d0-4259-84be-c42730934736",
   "metadata": {},
   "outputs": [
    {
     "name": "stdout",
     "output_type": "stream",
     "text": [
      "Mean accuracy: 0.8025\n",
      "TP: 1214, FN: 245\n",
      "FP: 387, TN: 1354\n",
      "              precision    recall  f1-score   support\n",
      "\n",
      "       False       0.76      0.83      0.79      1459\n",
      "        True       0.85      0.78      0.81      1741\n",
      "\n",
      "    accuracy                           0.80      3200\n",
      "   macro avg       0.80      0.80      0.80      3200\n",
      "weighted avg       0.81      0.80      0.80      3200\n",
      "\n"
     ]
    }
   ],
   "source": [
    "try_tfidf_classifier(RandomForestClassifier(max_depth=5, min_samples_leaf=5, random_state=1))"
   ]
  },
  {
   "cell_type": "code",
   "execution_count": 42,
   "id": "c9bcdef5-2a2b-46e5-ba17-46265897b1f3",
   "metadata": {},
   "outputs": [
    {
     "name": "stdout",
     "output_type": "stream",
     "text": [
      "Mean accuracy: 0.82625\n",
      "TP: 1281, FN: 236\n",
      "FP: 320, TN: 1363\n",
      "              precision    recall  f1-score   support\n",
      "\n",
      "       False       0.80      0.84      0.82      1517\n",
      "        True       0.85      0.81      0.83      1683\n",
      "\n",
      "    accuracy                           0.83      3200\n",
      "   macro avg       0.83      0.83      0.83      3200\n",
      "weighted avg       0.83      0.83      0.83      3200\n",
      "\n"
     ]
    }
   ],
   "source": [
    "try_tfidf_classifier(RandomForestClassifier(max_depth=7, min_samples_leaf=5, n_estimators=200, random_state=1))"
   ]
  },
  {
   "cell_type": "code",
   "execution_count": 43,
   "id": "f44994f0-9ca3-4f7a-b7f8-6ed50d7cde00",
   "metadata": {},
   "outputs": [
    {
     "name": "stdout",
     "output_type": "stream",
     "text": [
      "Mean accuracy: 0.8278125\n",
      "TP: 1277, FN: 227\n",
      "FP: 324, TN: 1372\n",
      "              precision    recall  f1-score   support\n",
      "\n",
      "       False       0.80      0.85      0.82      1504\n",
      "        True       0.86      0.81      0.83      1696\n",
      "\n",
      "    accuracy                           0.83      3200\n",
      "   macro avg       0.83      0.83      0.83      3200\n",
      "weighted avg       0.83      0.83      0.83      3200\n",
      "\n"
     ]
    }
   ],
   "source": [
    "try_tfidf_classifier(RandomForestClassifier(max_depth=9, min_samples_leaf=5, n_estimators=200, random_state=1))"
   ]
  },
  {
   "cell_type": "code",
   "execution_count": 44,
   "id": "31580933-0885-4609-9fe3-203a38f6feb3",
   "metadata": {},
   "outputs": [
    {
     "name": "stdout",
     "output_type": "stream",
     "text": [
      "Mean accuracy: 0.8375\n",
      "TP: 1283, FN: 202\n",
      "FP: 318, TN: 1397\n",
      "              precision    recall  f1-score   support\n",
      "\n",
      "       False       0.80      0.86      0.83      1485\n",
      "        True       0.87      0.81      0.84      1715\n",
      "\n",
      "    accuracy                           0.84      3200\n",
      "   macro avg       0.84      0.84      0.84      3200\n",
      "weighted avg       0.84      0.84      0.84      3200\n",
      "\n"
     ]
    }
   ],
   "source": [
    "try_tfidf_classifier(RandomForestClassifier(max_depth=15, min_samples_leaf=5, n_estimators=300, random_state=1))"
   ]
  },
  {
   "cell_type": "code",
   "execution_count": 45,
   "id": "fbd46799-0d5e-4294-aea6-cb9b3396d067",
   "metadata": {},
   "outputs": [
    {
     "name": "stdout",
     "output_type": "stream",
     "text": [
      "Mean accuracy: 0.8425\n",
      "TP: 1298, FN: 201\n",
      "FP: 303, TN: 1398\n",
      "              precision    recall  f1-score   support\n",
      "\n",
      "       False       0.81      0.87      0.84      1499\n",
      "        True       0.87      0.82      0.85      1701\n",
      "\n",
      "    accuracy                           0.84      3200\n",
      "   macro avg       0.84      0.84      0.84      3200\n",
      "weighted avg       0.84      0.84      0.84      3200\n",
      "\n"
     ]
    }
   ],
   "source": [
    "try_tfidf_classifier(RandomForestClassifier(max_depth=15, min_samples_leaf=10, n_estimators=300, random_state=2))"
   ]
  },
  {
   "cell_type": "code",
   "execution_count": 46,
   "id": "bbb5bcfc-952b-483e-9e44-d0d8ee1a2d0b",
   "metadata": {},
   "outputs": [
    {
     "name": "stdout",
     "output_type": "stream",
     "text": [
      "Mean accuracy: 0.834375\n",
      "TP: 1280, FN: 209\n",
      "FP: 321, TN: 1390\n",
      "              precision    recall  f1-score   support\n",
      "\n",
      "       False       0.80      0.86      0.83      1489\n",
      "        True       0.87      0.81      0.84      1711\n",
      "\n",
      "    accuracy                           0.83      3200\n",
      "   macro avg       0.83      0.84      0.83      3200\n",
      "weighted avg       0.84      0.83      0.83      3200\n",
      "\n"
     ]
    }
   ],
   "source": [
    "try_tfidf_classifier(RandomForestClassifier(max_depth=15, min_samples_leaf=15, n_estimators=300, random_state=2))"
   ]
  },
  {
   "cell_type": "code",
   "execution_count": 47,
   "id": "5b57736a-b53a-4b91-aa0c-a04b469aeb46",
   "metadata": {},
   "outputs": [
    {
     "name": "stdout",
     "output_type": "stream",
     "text": [
      "Mean accuracy: 0.8425\n",
      "TP: 1304, FN: 207\n",
      "FP: 297, TN: 1392\n"
     ]
    }
   ],
   "source": [
    "try_tfidf_classifier(RandomForestClassifier(max_depth=16, n_estimators=400, random_state=2), big_table=False)"
   ]
  },
  {
   "cell_type": "code",
   "execution_count": 48,
   "id": "40a00cab-c057-4ad8-b051-875b036a15f6",
   "metadata": {},
   "outputs": [
    {
     "name": "stdout",
     "output_type": "stream",
     "text": [
      "Mean accuracy: 0.8428125\n",
      "TP: 1314, FN: 216\n",
      "FP: 287, TN: 1383\n"
     ]
    }
   ],
   "source": [
    "try_tfidf_classifier(RandomForestClassifier(max_depth=20, n_estimators=600, random_state=1), big_table=False)"
   ]
  },
  {
   "cell_type": "code",
   "execution_count": 49,
   "id": "a0639a77-05f1-4e48-a436-6b69ff4f8bc8",
   "metadata": {},
   "outputs": [
    {
     "name": "stdout",
     "output_type": "stream",
     "text": [
      "Mean accuracy: 0.846875\n",
      "TP: 1318, FN: 207\n",
      "FP: 283, TN: 1392\n"
     ]
    }
   ],
   "source": [
    "try_tfidf_classifier(RandomForestClassifier(max_depth=20, n_estimators=800, random_state=1), big_table=False)"
   ]
  },
  {
   "cell_type": "markdown",
   "id": "74c244f4-af99-477c-8e5a-c49d3d6a0cf9",
   "metadata": {},
   "source": [
    "# Random Forest + Doc2Vec (DM)"
   ]
  },
  {
   "cell_type": "code",
   "execution_count": 299,
   "id": "fbb94dad-50e6-492a-9034-62cc495fffbc",
   "metadata": {},
   "outputs": [
    {
     "name": "stdout",
     "output_type": "stream",
     "text": [
      "Mean accuracy: 0.61\n",
      "TP: 653, FN: 416\n",
      "FP: 364, TN: 567\n",
      "              precision    recall  f1-score   support\n",
      "\n",
      "       False       0.64      0.61      0.63      1069\n",
      "        True       0.58      0.61      0.59       931\n",
      "\n",
      "    accuracy                           0.61      2000\n",
      "   macro avg       0.61      0.61      0.61      2000\n",
      "weighted avg       0.61      0.61      0.61      2000\n",
      "\n"
     ]
    }
   ],
   "source": [
    "try_classifier(RandomForestClassifier(max_depth=2, random_state=1), X_train_d2vdm, X_test_d2vdm)"
   ]
  },
  {
   "cell_type": "code",
   "execution_count": 300,
   "id": "38a241b2-9e4d-4f5c-a3ae-0ebb77eb0077",
   "metadata": {},
   "outputs": [
    {
     "name": "stdout",
     "output_type": "stream",
     "text": [
      "Mean accuracy: 0.613\n",
      "TP: 643, FN: 400\n",
      "FP: 374, TN: 583\n",
      "              precision    recall  f1-score   support\n",
      "\n",
      "       False       0.63      0.62      0.62      1043\n",
      "        True       0.59      0.61      0.60       957\n",
      "\n",
      "    accuracy                           0.61      2000\n",
      "   macro avg       0.61      0.61      0.61      2000\n",
      "weighted avg       0.61      0.61      0.61      2000\n",
      "\n"
     ]
    }
   ],
   "source": [
    "try_classifier(RandomForestClassifier(max_depth=3, random_state=1), X_train_d2vdm, X_test_d2vdm)"
   ]
  },
  {
   "cell_type": "code",
   "execution_count": 53,
   "id": "b7449e82-4f77-4602-98da-7ba2cf2555e7",
   "metadata": {},
   "outputs": [
    {
     "name": "stdout",
     "output_type": "stream",
     "text": [
      "Mean accuracy: 0.4203125\n",
      "TP: 755, FN: 1009\n",
      "FP: 846, TN: 590\n",
      "              precision    recall  f1-score   support\n",
      "\n",
      "       False       0.47      0.43      0.45      1764\n",
      "        True       0.37      0.41      0.39      1436\n",
      "\n",
      "    accuracy                           0.42      3200\n",
      "   macro avg       0.42      0.42      0.42      3200\n",
      "weighted avg       0.43      0.42      0.42      3200\n",
      "\n"
     ]
    }
   ],
   "source": [
    "try_classifier(RandomForestClassifier(max_depth=5, random_state=1), X_train_d2vdm, X_test_d2vdm)"
   ]
  },
  {
   "cell_type": "code",
   "execution_count": 54,
   "id": "68e84d66-ac57-4c1d-b40a-154b57d20d89",
   "metadata": {},
   "outputs": [
    {
     "name": "stdout",
     "output_type": "stream",
     "text": [
      "Mean accuracy: 0.4184375\n",
      "TP: 767, FN: 1027\n",
      "FP: 834, TN: 572\n",
      "              precision    recall  f1-score   support\n",
      "\n",
      "       False       0.48      0.43      0.45      1794\n",
      "        True       0.36      0.41      0.38      1406\n",
      "\n",
      "    accuracy                           0.42      3200\n",
      "   macro avg       0.42      0.42      0.42      3200\n",
      "weighted avg       0.43      0.42      0.42      3200\n",
      "\n"
     ]
    }
   ],
   "source": [
    "try_classifier(RandomForestClassifier(max_depth=5, min_samples_leaf=5, random_state=1), X_train_d2vdm, X_test_d2vdm)"
   ]
  },
  {
   "cell_type": "code",
   "execution_count": 55,
   "id": "fb9bcb65-620c-4a97-9ecd-7a00bc53afb9",
   "metadata": {},
   "outputs": [
    {
     "name": "stdout",
     "output_type": "stream",
     "text": [
      "Mean accuracy: 0.3515625\n",
      "TP: 619, FN: 1093\n",
      "FP: 982, TN: 506\n",
      "              precision    recall  f1-score   support\n",
      "\n",
      "       False       0.39      0.36      0.37      1712\n",
      "        True       0.32      0.34      0.33      1488\n",
      "\n",
      "    accuracy                           0.35      3200\n",
      "   macro avg       0.35      0.35      0.35      3200\n",
      "weighted avg       0.35      0.35      0.35      3200\n",
      "\n"
     ]
    }
   ],
   "source": [
    "try_classifier(RandomForestClassifier(max_depth=7, min_samples_leaf=5, n_estimators=200, random_state=1), X_train_d2vdm, X_test_d2vdm)"
   ]
  },
  {
   "cell_type": "code",
   "execution_count": 56,
   "id": "2f16d7ff-cb82-41e8-91b5-ec99736c98df",
   "metadata": {},
   "outputs": [
    {
     "name": "stdout",
     "output_type": "stream",
     "text": [
      "Mean accuracy: 0.3028125\n",
      "TP: 528, FN: 1158\n",
      "FP: 1073, TN: 441\n",
      "              precision    recall  f1-score   support\n",
      "\n",
      "       False       0.33      0.31      0.32      1686\n",
      "        True       0.28      0.29      0.28      1514\n",
      "\n",
      "    accuracy                           0.30      3200\n",
      "   macro avg       0.30      0.30      0.30      3200\n",
      "weighted avg       0.30      0.30      0.30      3200\n",
      "\n"
     ]
    }
   ],
   "source": [
    "try_classifier(RandomForestClassifier(max_depth=9, min_samples_leaf=5, n_estimators=200, random_state=1), X_train_d2vdm, X_test_d2vdm)"
   ]
  },
  {
   "cell_type": "code",
   "execution_count": 57,
   "id": "c11be116-acae-48bf-9217-3f3c6f16e2a0",
   "metadata": {},
   "outputs": [
    {
     "name": "stdout",
     "output_type": "stream",
     "text": [
      "Mean accuracy: 0.269375\n",
      "TP: 437, FN: 1174\n",
      "FP: 1164, TN: 425\n",
      "              precision    recall  f1-score   support\n",
      "\n",
      "       False       0.27      0.27      0.27      1611\n",
      "        True       0.27      0.27      0.27      1589\n",
      "\n",
      "    accuracy                           0.27      3200\n",
      "   macro avg       0.27      0.27      0.27      3200\n",
      "weighted avg       0.27      0.27      0.27      3200\n",
      "\n"
     ]
    }
   ],
   "source": [
    "try_classifier(RandomForestClassifier(max_depth=15, min_samples_leaf=5, n_estimators=300, random_state=1), X_train_d2vdm, X_test_d2vdm)"
   ]
  },
  {
   "cell_type": "code",
   "execution_count": 58,
   "id": "353f69c6-0ca0-4237-ac6d-d57ae4bd7bf8",
   "metadata": {},
   "outputs": [
    {
     "name": "stdout",
     "output_type": "stream",
     "text": [
      "Mean accuracy: 0.26875\n",
      "TP: 455, FN: 1194\n",
      "FP: 1146, TN: 405\n",
      "              precision    recall  f1-score   support\n",
      "\n",
      "       False       0.28      0.28      0.28      1649\n",
      "        True       0.25      0.26      0.26      1551\n",
      "\n",
      "    accuracy                           0.27      3200\n",
      "   macro avg       0.27      0.27      0.27      3200\n",
      "weighted avg       0.27      0.27      0.27      3200\n",
      "\n"
     ]
    }
   ],
   "source": [
    "try_classifier(RandomForestClassifier(max_depth=15, min_samples_leaf=10, n_estimators=300, random_state=2), X_train_d2vdm, X_test_d2vdm)"
   ]
  },
  {
   "cell_type": "code",
   "execution_count": 59,
   "id": "878a9471-b645-4910-a30d-a6a2c93d5223",
   "metadata": {},
   "outputs": [
    {
     "name": "stdout",
     "output_type": "stream",
     "text": [
      "Mean accuracy: 0.2771875\n",
      "TP: 455, FN: 1167\n",
      "FP: 1146, TN: 432\n",
      "              precision    recall  f1-score   support\n",
      "\n",
      "       False       0.28      0.28      0.28      1622\n",
      "        True       0.27      0.27      0.27      1578\n",
      "\n",
      "    accuracy                           0.28      3200\n",
      "   macro avg       0.28      0.28      0.28      3200\n",
      "weighted avg       0.28      0.28      0.28      3200\n",
      "\n"
     ]
    }
   ],
   "source": [
    "try_classifier(RandomForestClassifier(max_depth=15, min_samples_leaf=15, n_estimators=300, random_state=2), X_train_d2vdm, X_test_d2vdm)"
   ]
  },
  {
   "cell_type": "code",
   "execution_count": 60,
   "id": "476b71ed-19d4-478c-9bb8-694430604e61",
   "metadata": {},
   "outputs": [
    {
     "name": "stdout",
     "output_type": "stream",
     "text": [
      "Mean accuracy: 0.2690625\n",
      "TP: 446, FN: 1184\n",
      "FP: 1155, TN: 415\n",
      "              precision    recall  f1-score   support\n",
      "\n",
      "       False       0.28      0.27      0.28      1630\n",
      "        True       0.26      0.26      0.26      1570\n",
      "\n",
      "    accuracy                           0.27      3200\n",
      "   macro avg       0.27      0.27      0.27      3200\n",
      "weighted avg       0.27      0.27      0.27      3200\n",
      "\n"
     ]
    }
   ],
   "source": [
    "try_classifier(RandomForestClassifier(max_depth=16, n_estimators=400, random_state=2), X_train_d2vdm, X_test_d2vdm)"
   ]
  },
  {
   "cell_type": "code",
   "execution_count": 61,
   "id": "cad04ba7-11bc-40ca-b44e-8c82d9366b05",
   "metadata": {},
   "outputs": [
    {
     "name": "stdout",
     "output_type": "stream",
     "text": [
      "Mean accuracy: 0.2728125\n",
      "TP: 452, FN: 1178\n",
      "FP: 1149, TN: 421\n",
      "              precision    recall  f1-score   support\n",
      "\n",
      "       False       0.28      0.28      0.28      1630\n",
      "        True       0.26      0.27      0.27      1570\n",
      "\n",
      "    accuracy                           0.27      3200\n",
      "   macro avg       0.27      0.27      0.27      3200\n",
      "weighted avg       0.27      0.27      0.27      3200\n",
      "\n"
     ]
    }
   ],
   "source": [
    "try_classifier(RandomForestClassifier(max_depth=20, n_estimators=600, random_state=1), X_train_d2vdm, X_test_d2vdm)"
   ]
  },
  {
   "cell_type": "code",
   "execution_count": 62,
   "id": "480d9ae4-8d46-48a8-9555-529446ae10ce",
   "metadata": {},
   "outputs": [
    {
     "name": "stdout",
     "output_type": "stream",
     "text": [
      "Mean accuracy: 0.27625\n",
      "TP: 461, FN: 1176\n",
      "FP: 1140, TN: 423\n",
      "              precision    recall  f1-score   support\n",
      "\n",
      "       False       0.29      0.28      0.28      1637\n",
      "        True       0.26      0.27      0.27      1563\n",
      "\n",
      "    accuracy                           0.28      3200\n",
      "   macro avg       0.28      0.28      0.28      3200\n",
      "weighted avg       0.28      0.28      0.28      3200\n",
      "\n"
     ]
    }
   ],
   "source": [
    "try_classifier(RandomForestClassifier(max_depth=20, n_estimators=800, random_state=1), X_train_d2vdm, X_test_d2vdm)"
   ]
  },
  {
   "cell_type": "markdown",
   "id": "d40b148b-8235-48b2-9e6e-1fa02f46f342",
   "metadata": {},
   "source": [
    "# SVM + tf-idf"
   ]
  },
  {
   "cell_type": "code",
   "execution_count": 86,
   "id": "9f46061c-1f57-4979-ad58-c23f020835ef",
   "metadata": {},
   "outputs": [
    {
     "name": "stdout",
     "output_type": "stream",
     "text": [
      "TP: 1370, FN: 209\n",
      "FP: 183, TN: 1438\n",
      "              precision    recall  f1-score   support\n",
      "\n",
      "       False       0.88      0.87      0.87      1579\n",
      "        True       0.87      0.89      0.88      1621\n",
      "\n",
      "    accuracy                           0.88      3200\n",
      "   macro avg       0.88      0.88      0.88      3200\n",
      "weighted avg       0.88      0.88      0.88      3200\n",
      "\n"
     ]
    }
   ],
   "source": [
    "try_classifier(SVC(kernel='linear', random_state=1))"
   ]
  },
  {
   "cell_type": "code",
   "execution_count": 87,
   "id": "23d219c0-4357-4ce9-ac25-44bc465046f0",
   "metadata": {},
   "outputs": [
    {
     "name": "stdout",
     "output_type": "stream",
     "text": [
      "TP: 1368, FN: 189\n",
      "FP: 185, TN: 1458\n",
      "              precision    recall  f1-score   support\n",
      "\n",
      "       False       0.88      0.88      0.88      1557\n",
      "        True       0.89      0.89      0.89      1643\n",
      "\n",
      "    accuracy                           0.88      3200\n",
      "   macro avg       0.88      0.88      0.88      3200\n",
      "weighted avg       0.88      0.88      0.88      3200\n",
      "\n"
     ]
    }
   ],
   "source": [
    "try_classifier(SVC(kernel='rbf', random_state=1))"
   ]
  },
  {
   "cell_type": "code",
   "execution_count": 111,
   "id": "b8d85e78-643a-48ed-95b2-552c03bc349b",
   "metadata": {},
   "outputs": [
    {
     "name": "stdout",
     "output_type": "stream",
     "text": [
      "TP: 1348, FN: 188\n",
      "FP: 205, TN: 1459\n",
      "              precision    recall  f1-score   support\n",
      "\n",
      "       False       0.87      0.88      0.87      1536\n",
      "        True       0.89      0.88      0.88      1664\n",
      "\n",
      "    accuracy                           0.88      3200\n",
      "   macro avg       0.88      0.88      0.88      3200\n",
      "weighted avg       0.88      0.88      0.88      3200\n",
      "\n"
     ]
    }
   ],
   "source": [
    "try_classifier(SVC(kernel='poly', degree=2, random_state=1))"
   ]
  },
  {
   "cell_type": "code",
   "execution_count": 147,
   "id": "13394743-ffa2-4ff7-81ba-bf7cdedca439",
   "metadata": {},
   "outputs": [
    {
     "name": "stdout",
     "output_type": "stream",
     "text": [
      "TP: 1339, FN: 257\n",
      "FP: 214, TN: 1390\n",
      "              precision    recall  f1-score   support\n",
      "\n",
      "       False       0.86      0.84      0.85      1596\n",
      "        True       0.84      0.87      0.86      1604\n",
      "\n",
      "    accuracy                           0.85      3200\n",
      "   macro avg       0.85      0.85      0.85      3200\n",
      "weighted avg       0.85      0.85      0.85      3200\n",
      "\n"
     ]
    }
   ],
   "source": [
    "try_classifier(SVC(kernel='poly', degree=3, random_state=1))"
   ]
  },
  {
   "cell_type": "code",
   "execution_count": 112,
   "id": "1ce56aec-dd04-43cd-b2e9-338ed652537b",
   "metadata": {},
   "outputs": [
    {
     "name": "stdout",
     "output_type": "stream",
     "text": [
      "TP: 1371, FN: 211\n",
      "FP: 182, TN: 1436\n",
      "              precision    recall  f1-score   support\n",
      "\n",
      "       False       0.88      0.87      0.87      1582\n",
      "        True       0.87      0.89      0.88      1618\n",
      "\n",
      "    accuracy                           0.88      3200\n",
      "   macro avg       0.88      0.88      0.88      3200\n",
      "weighted avg       0.88      0.88      0.88      3200\n",
      "\n"
     ]
    }
   ],
   "source": [
    "try_classifier(SVC(kernel='sigmoid', random_state=1))"
   ]
  },
  {
   "cell_type": "code",
   "execution_count": 105,
   "id": "579b65ea-da69-45d6-acdd-d312c6c935ea",
   "metadata": {},
   "outputs": [
    {
     "name": "stderr",
     "output_type": "stream",
     "text": [
      "c:\\users\\yasht\\fakenews\\venv\\lib\\site-packages\\sklearn\\svm\\_base.py:255: ConvergenceWarning: Solver terminated early (max_iter=1000).  Consider pre-processing your data with StandardScaler or MinMaxScaler.\n",
      "  warnings.warn('Solver terminated early (max_iter=%i).'\n"
     ]
    },
    {
     "name": "stdout",
     "output_type": "stream",
     "text": [
      "TP: 1272, FN: 277\n",
      "FP: 281, TN: 1370\n",
      "              precision    recall  f1-score   support\n",
      "\n",
      "       False       0.82      0.82      0.82      1549\n",
      "        True       0.83      0.83      0.83      1651\n",
      "\n",
      "    accuracy                           0.83      3200\n",
      "   macro avg       0.83      0.83      0.83      3200\n",
      "weighted avg       0.83      0.83      0.83      3200\n",
      "\n"
     ]
    }
   ],
   "source": [
    "try_classifier(SVC(kernel='linear', max_iter=1000, random_state=1))"
   ]
  },
  {
   "cell_type": "code",
   "execution_count": 106,
   "id": "6d699104-b447-494f-93d1-7e61dd972fc0",
   "metadata": {},
   "outputs": [
    {
     "name": "stderr",
     "output_type": "stream",
     "text": [
      "c:\\users\\yasht\\fakenews\\venv\\lib\\site-packages\\sklearn\\svm\\_base.py:255: ConvergenceWarning: Solver terminated early (max_iter=1000).  Consider pre-processing your data with StandardScaler or MinMaxScaler.\n",
      "  warnings.warn('Solver terminated early (max_iter=%i).'\n"
     ]
    },
    {
     "name": "stdout",
     "output_type": "stream",
     "text": [
      "TP: 1301, FN: 318\n",
      "FP: 252, TN: 1329\n",
      "              precision    recall  f1-score   support\n",
      "\n",
      "       False       0.84      0.80      0.82      1619\n",
      "        True       0.81      0.84      0.82      1581\n",
      "\n",
      "    accuracy                           0.82      3200\n",
      "   macro avg       0.82      0.82      0.82      3200\n",
      "weighted avg       0.82      0.82      0.82      3200\n",
      "\n"
     ]
    }
   ],
   "source": [
    "try_classifier(SVC(kernel='rbf', max_iter=1000, random_state=1))"
   ]
  },
  {
   "cell_type": "code",
   "execution_count": 107,
   "id": "bfca8944-2f9f-45d7-8d69-a660f1830fd1",
   "metadata": {},
   "outputs": [
    {
     "name": "stderr",
     "output_type": "stream",
     "text": [
      "c:\\users\\yasht\\fakenews\\venv\\lib\\site-packages\\sklearn\\svm\\_base.py:255: ConvergenceWarning: Solver terminated early (max_iter=1000).  Consider pre-processing your data with StandardScaler or MinMaxScaler.\n",
      "  warnings.warn('Solver terminated early (max_iter=%i).'\n"
     ]
    },
    {
     "name": "stdout",
     "output_type": "stream",
     "text": [
      "TP: 1302, FN: 334\n",
      "FP: 251, TN: 1313\n",
      "              precision    recall  f1-score   support\n",
      "\n",
      "       False       0.84      0.80      0.82      1636\n",
      "        True       0.80      0.84      0.82      1564\n",
      "\n",
      "    accuracy                           0.82      3200\n",
      "   macro avg       0.82      0.82      0.82      3200\n",
      "weighted avg       0.82      0.82      0.82      3200\n",
      "\n"
     ]
    }
   ],
   "source": [
    "try_classifier(SVC(kernel='poly', degree=2, max_iter=1000, random_state=1))"
   ]
  },
  {
   "cell_type": "code",
   "execution_count": 108,
   "id": "5468816d-6185-418b-b9e5-c77babf36f5d",
   "metadata": {},
   "outputs": [
    {
     "name": "stderr",
     "output_type": "stream",
     "text": [
      "c:\\users\\yasht\\fakenews\\venv\\lib\\site-packages\\sklearn\\svm\\_base.py:255: ConvergenceWarning: Solver terminated early (max_iter=1000).  Consider pre-processing your data with StandardScaler or MinMaxScaler.\n",
      "  warnings.warn('Solver terminated early (max_iter=%i).'\n"
     ]
    },
    {
     "name": "stdout",
     "output_type": "stream",
     "text": [
      "TP: 928, FN: 162\n",
      "FP: 625, TN: 1485\n",
      "              precision    recall  f1-score   support\n",
      "\n",
      "       False       0.60      0.85      0.70      1090\n",
      "        True       0.90      0.70      0.79      2110\n",
      "\n",
      "    accuracy                           0.75      3200\n",
      "   macro avg       0.75      0.78      0.75      3200\n",
      "weighted avg       0.80      0.75      0.76      3200\n",
      "\n"
     ]
    }
   ],
   "source": [
    "try_classifier(SVC(kernel='poly', degree=3, max_iter=1000, random_state=1))"
   ]
  },
  {
   "cell_type": "code",
   "execution_count": 148,
   "id": "41e72aee-52dc-42c9-b2a4-acbaff71b25c",
   "metadata": {},
   "outputs": [
    {
     "name": "stderr",
     "output_type": "stream",
     "text": [
      "c:\\users\\yasht\\fakenews\\venv\\lib\\site-packages\\sklearn\\svm\\_base.py:255: ConvergenceWarning: Solver terminated early (max_iter=1000).  Consider pre-processing your data with StandardScaler or MinMaxScaler.\n",
      "  warnings.warn('Solver terminated early (max_iter=%i).'\n"
     ]
    },
    {
     "name": "stdout",
     "output_type": "stream",
     "text": [
      "TP: 440, FN: 97\n",
      "FP: 1113, TN: 1550\n",
      "              precision    recall  f1-score   support\n",
      "\n",
      "       False       0.28      0.82      0.42       537\n",
      "        True       0.94      0.58      0.72      2663\n",
      "\n",
      "    accuracy                           0.62      3200\n",
      "   macro avg       0.61      0.70      0.57      3200\n",
      "weighted avg       0.83      0.62      0.67      3200\n",
      "\n"
     ]
    }
   ],
   "source": [
    "try_classifier(SVC(kernel='poly', degree=4, max_iter=1000, random_state=1))"
   ]
  },
  {
   "cell_type": "code",
   "execution_count": 109,
   "id": "b28b19d1-cf49-4d7b-8450-4efb6213b8a2",
   "metadata": {},
   "outputs": [
    {
     "name": "stderr",
     "output_type": "stream",
     "text": [
      "c:\\users\\yasht\\fakenews\\venv\\lib\\site-packages\\sklearn\\svm\\_base.py:255: ConvergenceWarning: Solver terminated early (max_iter=1000).  Consider pre-processing your data with StandardScaler or MinMaxScaler.\n",
      "  warnings.warn('Solver terminated early (max_iter=%i).'\n"
     ]
    },
    {
     "name": "stdout",
     "output_type": "stream",
     "text": [
      "TP: 1264, FN: 267\n",
      "FP: 289, TN: 1380\n",
      "              precision    recall  f1-score   support\n",
      "\n",
      "       False       0.81      0.83      0.82      1531\n",
      "        True       0.84      0.83      0.83      1669\n",
      "\n",
      "    accuracy                           0.83      3200\n",
      "   macro avg       0.83      0.83      0.83      3200\n",
      "weighted avg       0.83      0.83      0.83      3200\n",
      "\n"
     ]
    }
   ],
   "source": [
    "try_classifier(SVC(kernel='sigmoid', max_iter=1000, random_state=1))"
   ]
  },
  {
   "cell_type": "markdown",
   "id": "08a40a66-05ac-4598-b66a-82fd51bf4f1e",
   "metadata": {},
   "source": [
    "# Extra Trees + tf-idf"
   ]
  },
  {
   "cell_type": "code",
   "execution_count": 130,
   "id": "93ccbd7f-53ce-4506-9467-cdf8bb2e85bb",
   "metadata": {},
   "outputs": [],
   "source": [
    "from sklearn.ensemble import ExtraTreesClassifier"
   ]
  },
  {
   "cell_type": "code",
   "execution_count": 131,
   "id": "89aa9ffd-38d3-4cd3-ae31-a7eb7b4414a5",
   "metadata": {},
   "outputs": [
    {
     "name": "stdout",
     "output_type": "stream",
     "text": [
      "0.78125\n",
      "TP: 1355, FN: 502\n",
      "FP: 198, TN: 1145\n",
      "              precision    recall  f1-score   support\n",
      "\n",
      "       False       0.87      0.73      0.79      1857\n",
      "        True       0.70      0.85      0.77      1343\n",
      "\n",
      "    accuracy                           0.78      3200\n",
      "   macro avg       0.78      0.79      0.78      3200\n",
      "weighted avg       0.80      0.78      0.78      3200\n",
      "\n"
     ]
    }
   ],
   "source": [
    "try_classifier(ExtraTreesClassifier(max_depth=5, n_estimators=100, random_state=1))"
   ]
  },
  {
   "cell_type": "code",
   "execution_count": 132,
   "id": "c221ef02-37fd-40fe-9e7d-037167bb7058",
   "metadata": {},
   "outputs": [
    {
     "name": "stdout",
     "output_type": "stream",
     "text": [
      "0.825\n",
      "TP: 1301, FN: 308\n",
      "FP: 252, TN: 1339\n",
      "              precision    recall  f1-score   support\n",
      "\n",
      "       False       0.84      0.81      0.82      1609\n",
      "        True       0.81      0.84      0.83      1591\n",
      "\n",
      "    accuracy                           0.82      3200\n",
      "   macro avg       0.83      0.83      0.82      3200\n",
      "weighted avg       0.83      0.82      0.82      3200\n",
      "\n"
     ]
    }
   ],
   "source": [
    "try_classifier(ExtraTreesClassifier(max_depth=10, n_estimators=100, random_state=1))"
   ]
  },
  {
   "cell_type": "code",
   "execution_count": 133,
   "id": "0c2daf97-bc6c-4f43-a6c2-56244ecfc0af",
   "metadata": {},
   "outputs": [
    {
     "name": "stdout",
     "output_type": "stream",
     "text": [
      "0.829375\n",
      "TP: 1284, FN: 277\n",
      "FP: 269, TN: 1370\n",
      "              precision    recall  f1-score   support\n",
      "\n",
      "       False       0.83      0.82      0.82      1561\n",
      "        True       0.83      0.84      0.83      1639\n",
      "\n",
      "    accuracy                           0.83      3200\n",
      "   macro avg       0.83      0.83      0.83      3200\n",
      "weighted avg       0.83      0.83      0.83      3200\n",
      "\n"
     ]
    }
   ],
   "source": [
    "try_classifier(ExtraTreesClassifier(max_depth=15, n_estimators=100, random_state=1))"
   ]
  },
  {
   "cell_type": "code",
   "execution_count": 134,
   "id": "e0a036ac-a3e8-4ea5-8c28-34f83ec53119",
   "metadata": {},
   "outputs": [
    {
     "name": "stdout",
     "output_type": "stream",
     "text": [
      "0.805625\n",
      "TP: 1394, FN: 463\n",
      "FP: 159, TN: 1184\n",
      "              precision    recall  f1-score   support\n",
      "\n",
      "       False       0.90      0.75      0.82      1857\n",
      "        True       0.72      0.88      0.79      1343\n",
      "\n",
      "    accuracy                           0.81      3200\n",
      "   macro avg       0.81      0.82      0.80      3200\n",
      "weighted avg       0.82      0.81      0.81      3200\n",
      "\n"
     ]
    }
   ],
   "source": [
    "try_classifier(ExtraTreesClassifier(max_depth=5, n_estimators=200, random_state=1))"
   ]
  },
  {
   "cell_type": "code",
   "execution_count": 135,
   "id": "59d052d8-0478-413c-9464-2878ab213fb7",
   "metadata": {},
   "outputs": [
    {
     "name": "stdout",
     "output_type": "stream",
     "text": [
      "0.8178125\n",
      "TP: 1409, FN: 439\n",
      "FP: 144, TN: 1208\n",
      "              precision    recall  f1-score   support\n",
      "\n",
      "       False       0.91      0.76      0.83      1848\n",
      "        True       0.73      0.89      0.81      1352\n",
      "\n",
      "    accuracy                           0.82      3200\n",
      "   macro avg       0.82      0.83      0.82      3200\n",
      "weighted avg       0.83      0.82      0.82      3200\n",
      "\n"
     ]
    }
   ],
   "source": [
    "try_classifier(ExtraTreesClassifier(max_depth=5, n_estimators=500, random_state=1))"
   ]
  },
  {
   "cell_type": "code",
   "execution_count": 137,
   "id": "03677dd7-e0d7-46a7-b0f5-f0bdd399cc43",
   "metadata": {},
   "outputs": [
    {
     "name": "stdout",
     "output_type": "stream",
     "text": [
      "0.8375\n",
      "TP: 1339, FN: 306\n",
      "FP: 214, TN: 1341\n",
      "              precision    recall  f1-score   support\n",
      "\n",
      "       False       0.86      0.81      0.84      1645\n",
      "        True       0.81      0.86      0.84      1555\n",
      "\n",
      "    accuracy                           0.84      3200\n",
      "   macro avg       0.84      0.84      0.84      3200\n",
      "weighted avg       0.84      0.84      0.84      3200\n",
      "\n"
     ]
    }
   ],
   "source": [
    "try_classifier(ExtraTreesClassifier(max_depth=10, n_estimators=200, random_state=1))"
   ]
  },
  {
   "cell_type": "code",
   "execution_count": 138,
   "id": "61045b7c-8f87-4d17-8fdf-8eba7729feae",
   "metadata": {},
   "outputs": [
    {
     "name": "stdout",
     "output_type": "stream",
     "text": [
      "0.8521875\n",
      "TP: 1333, FN: 253\n",
      "FP: 220, TN: 1394\n",
      "              precision    recall  f1-score   support\n",
      "\n",
      "       False       0.86      0.84      0.85      1586\n",
      "        True       0.85      0.86      0.85      1614\n",
      "\n",
      "    accuracy                           0.85      3200\n",
      "   macro avg       0.85      0.85      0.85      3200\n",
      "weighted avg       0.85      0.85      0.85      3200\n",
      "\n"
     ]
    }
   ],
   "source": [
    "try_classifier(ExtraTreesClassifier(max_depth=15, n_estimators=400, random_state=1))"
   ]
  },
  {
   "cell_type": "code",
   "execution_count": 139,
   "id": "92883c5a-ad3a-4c1e-957d-d33820c28c1c",
   "metadata": {},
   "outputs": [
    {
     "name": "stdout",
     "output_type": "stream",
     "text": [
      "0.8559375\n",
      "TP: 1339, FN: 247\n",
      "FP: 214, TN: 1400\n",
      "              precision    recall  f1-score   support\n",
      "\n",
      "       False       0.86      0.84      0.85      1586\n",
      "        True       0.85      0.87      0.86      1614\n",
      "\n",
      "    accuracy                           0.86      3200\n",
      "   macro avg       0.86      0.86      0.86      3200\n",
      "weighted avg       0.86      0.86      0.86      3200\n",
      "\n"
     ]
    }
   ],
   "source": [
    "try_classifier(ExtraTreesClassifier(max_depth=15, n_estimators=500, random_state=1))"
   ]
  },
  {
   "cell_type": "code",
   "execution_count": 140,
   "id": "3ce3b95f-a744-45d6-8c63-f8ad04476fa7",
   "metadata": {},
   "outputs": [
    {
     "name": "stdout",
     "output_type": "stream",
     "text": [
      "0.861875\n",
      "TP: 1335, FN: 224\n",
      "FP: 218, TN: 1423\n",
      "              precision    recall  f1-score   support\n",
      "\n",
      "       False       0.86      0.86      0.86      1559\n",
      "        True       0.86      0.87      0.87      1641\n",
      "\n",
      "    accuracy                           0.86      3200\n",
      "   macro avg       0.86      0.86      0.86      3200\n",
      "weighted avg       0.86      0.86      0.86      3200\n",
      "\n"
     ]
    }
   ],
   "source": [
    "try_classifier(ExtraTreesClassifier(max_depth=20, n_estimators=800, random_state=1))"
   ]
  },
  {
   "cell_type": "code",
   "execution_count": 144,
   "id": "b929e878-cc82-404e-902f-267b37721c3c",
   "metadata": {},
   "outputs": [
    {
     "name": "stdout",
     "output_type": "stream",
     "text": [
      "0.8628125\n",
      "TP: 1335, FN: 221\n",
      "FP: 218, TN: 1426\n",
      "              precision    recall  f1-score   support\n",
      "\n",
      "       False       0.86      0.86      0.86      1556\n",
      "        True       0.87      0.87      0.87      1644\n",
      "\n",
      "    accuracy                           0.86      3200\n",
      "   macro avg       0.86      0.86      0.86      3200\n",
      "weighted avg       0.86      0.86      0.86      3200\n",
      "\n"
     ]
    }
   ],
   "source": [
    "try_classifier(ExtraTreesClassifier(max_depth=25, n_estimators=1000, random_state=1))"
   ]
  },
  {
   "cell_type": "code",
   "execution_count": 145,
   "id": "7c46dc51-9f1c-463a-a275-b6a2a779ec49",
   "metadata": {},
   "outputs": [
    {
     "name": "stdout",
     "output_type": "stream",
     "text": [
      "0.86875\n",
      "TP: 1344, FN: 211\n",
      "FP: 209, TN: 1436\n",
      "              precision    recall  f1-score   support\n",
      "\n",
      "       False       0.87      0.86      0.86      1555\n",
      "        True       0.87      0.87      0.87      1645\n",
      "\n",
      "    accuracy                           0.87      3200\n",
      "   macro avg       0.87      0.87      0.87      3200\n",
      "weighted avg       0.87      0.87      0.87      3200\n",
      "\n"
     ]
    }
   ],
   "source": [
    "try_classifier(ExtraTreesClassifier(max_depth=30, n_estimators=1500, random_state=1))"
   ]
  },
  {
   "cell_type": "code",
   "execution_count": 14,
   "id": "47eb9de0-2dae-451d-91f4-4327ec598c50",
   "metadata": {},
   "outputs": [
    {
     "data": {
      "text/plain": [
       "{}"
      ]
     },
     "execution_count": 14,
     "metadata": {},
     "output_type": "execute_result"
    }
   ],
   "source": [
    "classifier_results"
   ]
  },
  {
   "cell_type": "code",
   "execution_count": null,
   "id": "102b4b53-8443-4c65-b679-b28658ac12cb",
   "metadata": {},
   "outputs": [],
   "source": []
  }
 ],
 "metadata": {
  "kernelspec": {
   "display_name": "Python 3 (ipykernel)",
   "language": "python",
   "name": "python3"
  },
  "language_info": {
   "codemirror_mode": {
    "name": "ipython",
    "version": 3
   },
   "file_extension": ".py",
   "mimetype": "text/x-python",
   "name": "python",
   "nbconvert_exporter": "python",
   "pygments_lexer": "ipython3",
   "version": "3.9.1"
  }
 },
 "nbformat": 4,
 "nbformat_minor": 5
}

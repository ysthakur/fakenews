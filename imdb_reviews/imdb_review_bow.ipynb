{
 "cells": [
  {
   "cell_type": "code",
   "execution_count": 1,
   "id": "5b6e65bb-7a3a-4215-9a6d-6d05d2f750d8",
   "metadata": {},
   "outputs": [
    {
     "name": "stderr",
     "output_type": "stream",
     "text": [
      "c:\\users\\yasht\\fakenews\\venv\\lib\\site-packages\\gensim\\similarities\\__init__.py:15: UserWarning: The gensim.similarities.levenshtein submodule is disabled, because the optional Levenshtein package <https://pypi.org/project/python-Levenshtein/> is unavailable. Install Levenhstein (e.g. `pip install python-Levenshtein`) to suppress this warning.\n",
      "  warnings.warn(msg)\n"
     ]
    }
   ],
   "source": [
    "import os\n",
    "import math\n",
    "import re\n",
    "import json\n",
    "\n",
    "import random\n",
    "\n",
    "import gensim\n",
    "from gensim.models import Word2Vec\n",
    "from gensim.models.doc2vec import Doc2Vec, TaggedDocument\n",
    "\n",
    "import pandas as pd\n",
    "\n",
    "import nltk\n",
    "from nltk.stem import WordNetLemmatizer\n",
    "\n",
    "# from sklearn.decomposition import PCA, KernelPCA\n",
    "from sklearn.feature_extraction.text import CountVectorizer, TfidfVectorizer\n",
    "from sklearn.linear_model import LogisticRegression\n",
    "from sklearn.metrics import confusion_matrix, classification_report\n",
    "from sklearn.metrics.pairwise import cosine_similarity\n",
    "from sklearn.model_selection import train_test_split\n",
    "from sklearn.pipeline import Pipeline\n",
    "from sklearn.preprocessing import StandardScaler\n",
    "from sklearn.svm import SVC\n",
    "\n",
    "import matplotlib.pyplot as plt\n",
    "\n",
    "import numpy as np"
   ]
  },
  {
   "cell_type": "code",
   "execution_count": 2,
   "id": "ecfe15dc",
   "metadata": {},
   "outputs": [],
   "source": [
    "%matplotlib inline\n",
    "random.seed(1)\n",
    "np.random.seed(1)"
   ]
  },
  {
   "cell_type": "code",
   "execution_count": 3,
   "id": "0e54af23-12df-47e8-b5e4-ccf1a3b12a38",
   "metadata": {},
   "outputs": [],
   "source": [
    "w2v_model_file = 'imdb_review_w2v.model' # change each time\n",
    "d2vdm_model_file = 'imdb_review_d2vdm.model' # change each time\n",
    "d2vdbow_model_file = 'imdb_review_d2vdbow.model' # change each time\n",
    "train_csv = 'train_df.csv'\n",
    "test_csv = 'test_df.csv'\n",
    "df_csv = 'df.csv'\n",
    "df_pkl = 'df.pkl'\n",
    "\n",
    "neg_bound = 4\n",
    "pos_bound = 7\n",
    "\n",
    "train_size = 0.80\n",
    "\n",
    "num_reviews = 10000\n",
    "\n",
    "min_occ = 5 # The minimum number of occurrences for a word to be considered"
   ]
  },
  {
   "cell_type": "code",
   "execution_count": 4,
   "id": "cfd4bf11-d786-4e6e-81c0-7963f901d248",
   "metadata": {},
   "outputs": [],
   "source": [
    "def my_train_test_split(*args):\n",
    "    return train_test_split(*args, train_size=train_size, random_state=1)"
   ]
  },
  {
   "cell_type": "code",
   "execution_count": 5,
   "id": "fba3b705-8678-47db-b1f4-422cadff51cd",
   "metadata": {},
   "outputs": [],
   "source": [
    "def get_w2v_vector(word):\n",
    "    \"\"\"Get the vector for a word\"\"\"\n",
    "    try:\n",
    "        return model.wv[word]\n",
    "    except:\n",
    "        print(word)\n",
    "        raise\n",
    "        \n",
    "def filter_tokens(tokens, vocab=None):\n",
    "    if vocab is None:\n",
    "        vocab = w2v_vocab\n",
    "    return [token for token in tokens if token in vocab]"
   ]
  },
  {
   "cell_type": "code",
   "execution_count": 6,
   "id": "a40aa70d-76bf-4788-9356-c8f2a1df7c03",
   "metadata": {},
   "outputs": [],
   "source": [
    "en_stop = set(nltk.corpus.stopwords.words('english'))\n",
    "stemmer = WordNetLemmatizer()\n",
    "\n",
    "def tokenize(text):\n",
    "    text = text.lower()\n",
    "    # Remove non-word characters\n",
    "    text = re.sub(r'[^a-z]', ' ', text)\n",
    "    # Remove single letters\n",
    "    text = re.sub(r'\\b[a-z]{0,3}\\b', ' ', text)\n",
    "    # Merge multiple spaces\n",
    "    text = re.sub(r'\\s+', ' ', text)\n",
    "    \n",
    "    # Lemmatization\n",
    "    tokens = text.split()\n",
    "    tokens = [stemmer.lemmatize(word) for word in tokens]\n",
    "    tokens = [word for word in tokens if word not in en_stop]\n",
    "    \n",
    "    return tokens"
   ]
  },
  {
   "cell_type": "markdown",
   "id": "ccd27bbb",
   "metadata": {},
   "source": [
    "# Run once"
   ]
  },
  {
   "cell_type": "code",
   "execution_count": 7,
   "id": "c7595b71-d97b-4a82-854f-ceae46ad7f2a",
   "metadata": {},
   "outputs": [],
   "source": [
    "half_reviews = num_reviews // 2\n",
    "assert half_reviews == num_reviews / 2\n",
    "\n",
    "def load_train_or_test(dir):\n",
    "    random.seed(3)\n",
    "    \"\"\"\n",
    "    Return the negative and positive train or test data\n",
    "    \"\"\"\n",
    "    def load_neg_or_pos(sub, is_pos):\n",
    "        res = []\n",
    "        for file_name in os.listdir(sub):\n",
    "            with open(sub + file_name, encoding='utf8') as file:\n",
    "                underscore_ind = file_name.index('_')\n",
    "                period_ind = file_name.index('.')\n",
    "                id = int(file_name[:underscore_ind])\n",
    "                rating = int(file_name[underscore_ind + 1:period_ind])\n",
    "                text = next(file)\n",
    "                res.append([rating, text])\n",
    "        return res\n",
    "    # Only choose more polar ratings\n",
    "    neg = [[rating, text] for rating, text in load_neg_or_pos(dir + '/neg/', False) if rating <= neg_bound]\n",
    "    pos = [[rating, text] for rating, text in load_neg_or_pos(dir + '/pos/', True) if rating >= pos_bound]\n",
    "    random.shuffle(neg)\n",
    "    random.shuffle(pos)\n",
    "    both = neg[:half_reviews] + pos[:half_reviews]\n",
    "    random.shuffle(both)\n",
    "    return pd.DataFrame(both, columns=['Rating', 'Text'])"
   ]
  },
  {
   "cell_type": "code",
   "execution_count": 8,
   "id": "ab31fc82-cf15-49a8-a3a2-ddcf787f3cc8",
   "metadata": {},
   "outputs": [],
   "source": [
    "df = load_train_or_test('./train') #.append(load_train_or_test('./test'))"
   ]
  },
  {
   "cell_type": "code",
   "execution_count": 9,
   "id": "9a53694d",
   "metadata": {},
   "outputs": [
    {
     "data": {
      "text/html": [
       "<div>\n",
       "<style scoped>\n",
       "    .dataframe tbody tr th:only-of-type {\n",
       "        vertical-align: middle;\n",
       "    }\n",
       "\n",
       "    .dataframe tbody tr th {\n",
       "        vertical-align: top;\n",
       "    }\n",
       "\n",
       "    .dataframe thead th {\n",
       "        text-align: right;\n",
       "    }\n",
       "</style>\n",
       "<table border=\"1\" class=\"dataframe\">\n",
       "  <thead>\n",
       "    <tr style=\"text-align: right;\">\n",
       "      <th></th>\n",
       "      <th>Rating</th>\n",
       "      <th>Text</th>\n",
       "    </tr>\n",
       "  </thead>\n",
       "  <tbody>\n",
       "    <tr>\n",
       "      <th>0</th>\n",
       "      <td>10</td>\n",
       "      <td>this may not be War &amp; Peace, but the two Acade...</td>\n",
       "    </tr>\n",
       "    <tr>\n",
       "      <th>1</th>\n",
       "      <td>10</td>\n",
       "      <td>after seeing this film for the 3rd time now i ...</td>\n",
       "    </tr>\n",
       "    <tr>\n",
       "      <th>2</th>\n",
       "      <td>1</td>\n",
       "      <td>When 'My Deja Vu, My Deja Vu' aired last seaso...</td>\n",
       "    </tr>\n",
       "    <tr>\n",
       "      <th>3</th>\n",
       "      <td>10</td>\n",
       "      <td>\"Magic\" isn't too strong a word for the spell ...</td>\n",
       "    </tr>\n",
       "    <tr>\n",
       "      <th>4</th>\n",
       "      <td>10</td>\n",
       "      <td>You could stage a version of Charles Dickens' ...</td>\n",
       "    </tr>\n",
       "    <tr>\n",
       "      <th>...</th>\n",
       "      <td>...</td>\n",
       "      <td>...</td>\n",
       "    </tr>\n",
       "    <tr>\n",
       "      <th>9995</th>\n",
       "      <td>8</td>\n",
       "      <td>Judy Davis shows us here why she is one of Aus...</td>\n",
       "    </tr>\n",
       "    <tr>\n",
       "      <th>9996</th>\n",
       "      <td>2</td>\n",
       "      <td>Don't get me wrong, I love action and revenge ...</td>\n",
       "    </tr>\n",
       "    <tr>\n",
       "      <th>9997</th>\n",
       "      <td>8</td>\n",
       "      <td>Im a huge M Lillard fan that's why I ended up ...</td>\n",
       "    </tr>\n",
       "    <tr>\n",
       "      <th>9998</th>\n",
       "      <td>8</td>\n",
       "      <td>In Iran women are prohibited from attending li...</td>\n",
       "    </tr>\n",
       "    <tr>\n",
       "      <th>9999</th>\n",
       "      <td>4</td>\n",
       "      <td>The movie had a cute opening, I truly believed...</td>\n",
       "    </tr>\n",
       "  </tbody>\n",
       "</table>\n",
       "<p>10000 rows × 2 columns</p>\n",
       "</div>"
      ],
      "text/plain": [
       "      Rating                                               Text\n",
       "0         10  this may not be War & Peace, but the two Acade...\n",
       "1         10  after seeing this film for the 3rd time now i ...\n",
       "2          1  When 'My Deja Vu, My Deja Vu' aired last seaso...\n",
       "3         10  \"Magic\" isn't too strong a word for the spell ...\n",
       "4         10  You could stage a version of Charles Dickens' ...\n",
       "...      ...                                                ...\n",
       "9995       8  Judy Davis shows us here why she is one of Aus...\n",
       "9996       2  Don't get me wrong, I love action and revenge ...\n",
       "9997       8  Im a huge M Lillard fan that's why I ended up ...\n",
       "9998       8  In Iran women are prohibited from attending li...\n",
       "9999       4  The movie had a cute opening, I truly believed...\n",
       "\n",
       "[10000 rows x 2 columns]"
      ]
     },
     "execution_count": 9,
     "metadata": {},
     "output_type": "execute_result"
    }
   ],
   "source": [
    "df"
   ]
  },
  {
   "cell_type": "code",
   "execution_count": 10,
   "id": "fe27c472",
   "metadata": {},
   "outputs": [],
   "source": [
    "df['Tokens'] = df['Text'].apply(tokenize)\n",
    "# Clean up the text too\n",
    "df['Text'] = df['Tokens'].apply(\" \".join)"
   ]
  },
  {
   "cell_type": "code",
   "execution_count": 11,
   "id": "741a2760-65b6-404e-98b9-63a1abe00252",
   "metadata": {},
   "outputs": [
    {
     "data": {
      "text/html": [
       "<div>\n",
       "<style scoped>\n",
       "    .dataframe tbody tr th:only-of-type {\n",
       "        vertical-align: middle;\n",
       "    }\n",
       "\n",
       "    .dataframe tbody tr th {\n",
       "        vertical-align: top;\n",
       "    }\n",
       "\n",
       "    .dataframe thead th {\n",
       "        text-align: right;\n",
       "    }\n",
       "</style>\n",
       "<table border=\"1\" class=\"dataframe\">\n",
       "  <thead>\n",
       "    <tr style=\"text-align: right;\">\n",
       "      <th></th>\n",
       "      <th>Rating</th>\n",
       "      <th>Text</th>\n",
       "      <th>Tokens</th>\n",
       "    </tr>\n",
       "  </thead>\n",
       "  <tbody>\n",
       "    <tr>\n",
       "      <th>0</th>\n",
       "      <td>10</td>\n",
       "      <td>peace academy noms forthcoming genius james wo...</td>\n",
       "      <td>[peace, academy, noms, forthcoming, genius, ja...</td>\n",
       "    </tr>\n",
       "    <tr>\n",
       "      <th>1</th>\n",
       "      <td>10</td>\n",
       "      <td>seeing film time think almost adam worst film ...</td>\n",
       "      <td>[seeing, film, time, think, almost, adam, wors...</td>\n",
       "    </tr>\n",
       "    <tr>\n",
       "      <th>2</th>\n",
       "      <td>1</td>\n",
       "      <td>deja deja aired last season pleased scrub thou...</td>\n",
       "      <td>[deja, deja, aired, last, season, pleased, scr...</td>\n",
       "    </tr>\n",
       "    <tr>\n",
       "      <th>3</th>\n",
       "      <td>10</td>\n",
       "      <td>magic strong word spell film weave find relaxi...</td>\n",
       "      <td>[magic, strong, word, spell, film, weave, find...</td>\n",
       "    </tr>\n",
       "    <tr>\n",
       "      <th>4</th>\n",
       "      <td>10</td>\n",
       "      <td>could stage version charles dickens christmas ...</td>\n",
       "      <td>[could, stage, version, charles, dickens, chri...</td>\n",
       "    </tr>\n",
       "    <tr>\n",
       "      <th>...</th>\n",
       "      <td>...</td>\n",
       "      <td>...</td>\n",
       "      <td>...</td>\n",
       "    </tr>\n",
       "    <tr>\n",
       "      <th>9995</th>\n",
       "      <td>8</td>\n",
       "      <td>judy davis show australia respected loved acto...</td>\n",
       "      <td>[judy, davis, show, australia, respected, love...</td>\n",
       "    </tr>\n",
       "    <tr>\n",
       "      <th>9996</th>\n",
       "      <td>2</td>\n",
       "      <td>wrong love action revenge flick seen many sinc...</td>\n",
       "      <td>[wrong, love, action, revenge, flick, seen, ma...</td>\n",
       "    </tr>\n",
       "    <tr>\n",
       "      <th>9997</th>\n",
       "      <td>8</td>\n",
       "      <td>huge lillard ended watching movie honestly dou...</td>\n",
       "      <td>[huge, lillard, ended, watching, movie, honest...</td>\n",
       "    </tr>\n",
       "    <tr>\n",
       "      <th>9998</th>\n",
       "      <td>8</td>\n",
       "      <td>iran woman prohibited attending live sporting ...</td>\n",
       "      <td>[iran, woman, prohibited, attending, live, spo...</td>\n",
       "    </tr>\n",
       "    <tr>\n",
       "      <th>9999</th>\n",
       "      <td>4</td>\n",
       "      <td>movie cute opening truly believed best romanti...</td>\n",
       "      <td>[movie, cute, opening, truly, believed, best, ...</td>\n",
       "    </tr>\n",
       "  </tbody>\n",
       "</table>\n",
       "<p>10000 rows × 3 columns</p>\n",
       "</div>"
      ],
      "text/plain": [
       "      Rating                                               Text  \\\n",
       "0         10  peace academy noms forthcoming genius james wo...   \n",
       "1         10  seeing film time think almost adam worst film ...   \n",
       "2          1  deja deja aired last season pleased scrub thou...   \n",
       "3         10  magic strong word spell film weave find relaxi...   \n",
       "4         10  could stage version charles dickens christmas ...   \n",
       "...      ...                                                ...   \n",
       "9995       8  judy davis show australia respected loved acto...   \n",
       "9996       2  wrong love action revenge flick seen many sinc...   \n",
       "9997       8  huge lillard ended watching movie honestly dou...   \n",
       "9998       8  iran woman prohibited attending live sporting ...   \n",
       "9999       4  movie cute opening truly believed best romanti...   \n",
       "\n",
       "                                                 Tokens  \n",
       "0     [peace, academy, noms, forthcoming, genius, ja...  \n",
       "1     [seeing, film, time, think, almost, adam, wors...  \n",
       "2     [deja, deja, aired, last, season, pleased, scr...  \n",
       "3     [magic, strong, word, spell, film, weave, find...  \n",
       "4     [could, stage, version, charles, dickens, chri...  \n",
       "...                                                 ...  \n",
       "9995  [judy, davis, show, australia, respected, love...  \n",
       "9996  [wrong, love, action, revenge, flick, seen, ma...  \n",
       "9997  [huge, lillard, ended, watching, movie, honest...  \n",
       "9998  [iran, woman, prohibited, attending, live, spo...  \n",
       "9999  [movie, cute, opening, truly, believed, best, ...  \n",
       "\n",
       "[10000 rows x 3 columns]"
      ]
     },
     "execution_count": 11,
     "metadata": {},
     "output_type": "execute_result"
    }
   ],
   "source": [
    "df"
   ]
  },
  {
   "cell_type": "code",
   "execution_count": 12,
   "id": "a95475f5",
   "metadata": {},
   "outputs": [],
   "source": [
    "# Save processed data\n",
    "# df.to_csv(df_csv)\n",
    "df.to_pickle(df_pkl)"
   ]
  },
  {
   "cell_type": "code",
   "execution_count": 181,
   "id": "7fa98e33-e3b9-4b96-b405-83a6d7dcbd42",
   "metadata": {},
   "outputs": [],
   "source": [
    "# # Train and save model\n",
    "# model = Word2Vec(sentences=train_df['Tokens'])\n",
    "# model.save(w2v_model_file)"
   ]
  },
  {
   "cell_type": "code",
   "execution_count": 182,
   "id": "4d445870",
   "metadata": {},
   "outputs": [],
   "source": [
    "# w2v_vocab = set(model.wv.key_to_index.keys())\n",
    "# w2v_vocab_ord = np.array(list(model.wv.key_to_index.keys()))"
   ]
  },
  {
   "cell_type": "code",
   "execution_count": 183,
   "id": "ab274690-2bae-4dba-8339-7e700c626e36",
   "metadata": {},
   "outputs": [],
   "source": [
    "# # Keep only tokens that showed up the required number of times\n",
    "# train_df['Tokens'] = train_df['Tokens'].apply(filter_tokens)\n",
    "\n",
    "# test_df['Tokens'] = test_df['Text'].apply(lambda text: filter_tokens(tokenize(text)))\n",
    "# # Process test text too\n",
    "# test_df['Text'] = test_df['Tokens'].apply(\" \".join)"
   ]
  },
  {
   "cell_type": "code",
   "execution_count": 184,
   "id": "7e7bff15",
   "metadata": {},
   "outputs": [],
   "source": [
    "# # The vectors corresponding to each reviews' words\n",
    "# df['Vectors'] = df['Tokens'].apply(get_vector)"
   ]
  },
  {
   "cell_type": "code",
   "execution_count": 13,
   "id": "61c9109d-6813-4d39-91ff-4244017239d6",
   "metadata": {
    "collapsed": true,
    "jupyter": {
     "outputs_hidden": true
    },
    "tags": []
   },
   "outputs": [
    {
     "name": "stdout",
     "output_type": "stream",
     "text": [
      "Starting epoch 0 | Finished epoch 0, loss = 0.0\n",
      "Starting epoch 1 | Finished epoch 1, loss = 0.0\n",
      "Starting epoch 2 | Finished epoch 2, loss = 0.0\n",
      "Starting epoch 3 | Finished epoch 3, loss = 0.0\n",
      "Starting epoch 4 | Finished epoch 4, loss = 0.0\n",
      "Starting epoch 5 | Finished epoch 5, loss = 0.0\n",
      "Starting epoch 6 | Finished epoch 6, loss = 0.0\n",
      "Starting epoch 7 | Finished epoch 7, loss = 0.0\n",
      "Starting epoch 8 | Finished epoch 8, loss = 0.0\n",
      "Starting epoch 9 | Finished epoch 9, loss = 0.0\n",
      "Starting epoch 10 | Finished epoch 10, loss = 0.0\n",
      "Starting epoch 11 | Finished epoch 11, loss = 0.0\n",
      "Starting epoch 12 | Finished epoch 12, loss = 0.0\n",
      "Starting epoch 13 | Finished epoch 13, loss = 0.0\n",
      "Starting epoch 14 | Finished epoch 14, loss = 0.0\n",
      "Starting epoch 15 | Finished epoch 15, loss = 0.0\n",
      "Starting epoch 16 | Finished epoch 16, loss = 0.0\n",
      "Starting epoch 17 | Finished epoch 17, loss = 0.0\n",
      "Starting epoch 18 | Finished epoch 18, loss = 0.0\n",
      "Starting epoch 19 | Finished epoch 19, loss = 0.0\n",
      "Starting epoch 20 | Finished epoch 20, loss = 0.0\n",
      "Starting epoch 21 | Finished epoch 21, loss = 0.0\n",
      "Starting epoch 22 | Finished epoch 22, loss = 0.0\n",
      "Starting epoch 23 | Finished epoch 23, loss = 0.0\n",
      "Starting epoch 24 | Finished epoch 24, loss = 0.0\n",
      "Starting epoch 25 | Finished epoch 25, loss = 0.0\n",
      "Starting epoch 26 | Finished epoch 26, loss = 0.0\n",
      "Starting epoch 27 | Finished epoch 27, loss = 0.0\n",
      "Starting epoch 28 | Finished epoch 28, loss = 0.0\n",
      "Starting epoch 29 | Finished epoch 29, loss = 0.0\n",
      "Starting epoch 30 | Finished epoch 30, loss = 0.0\n",
      "Starting epoch 31 | Finished epoch 31, loss = 0.0\n",
      "Starting epoch 32 | Finished epoch 32, loss = 0.0\n",
      "Starting epoch 33 | Finished epoch 33, loss = 0.0\n",
      "Starting epoch 34 | Finished epoch 34, loss = 0.0\n",
      "Starting epoch 35 | Finished epoch 35, loss = 0.0\n",
      "Starting epoch 36 | Finished epoch 36, loss = 0.0\n",
      "Starting epoch 37 | Finished epoch 37, loss = 0.0\n",
      "Starting epoch 38 | Finished epoch 38, loss = 0.0\n",
      "Starting epoch 39 | Finished epoch 39, loss = 0.0\n",
      "Starting epoch 40 | Finished epoch 40, loss = 0.0\n",
      "Starting epoch 41 | Finished epoch 41, loss = 0.0\n",
      "Starting epoch 42 | Finished epoch 42, loss = 0.0\n",
      "Starting epoch 43 | Finished epoch 43, loss = 0.0\n",
      "Starting epoch 44 | Finished epoch 44, loss = 0.0\n",
      "Starting epoch 45 | Finished epoch 45, loss = 0.0\n",
      "Starting epoch 46 | Finished epoch 46, loss = 0.0\n",
      "Starting epoch 47 | Finished epoch 47, loss = 0.0\n",
      "Starting epoch 48 | Finished epoch 48, loss = 0.0\n",
      "Starting epoch 49 | Finished epoch 49, loss = 0.0\n",
      "Starting epoch 50 | Finished epoch 50, loss = 0.0\n",
      "Starting epoch 51 | Finished epoch 51, loss = 0.0\n",
      "Starting epoch 52 | Finished epoch 52, loss = 0.0\n",
      "Starting epoch 53 | Finished epoch 53, loss = 0.0\n",
      "Starting epoch 54 | Finished epoch 54, loss = 0.0\n",
      "Starting epoch 55 | Finished epoch 55, loss = 0.0\n",
      "Starting epoch 56 | Finished epoch 56, loss = 0.0\n",
      "Starting epoch 57 | Finished epoch 57, loss = 0.0\n",
      "Starting epoch 58 | Finished epoch 58, loss = 0.0\n",
      "Starting epoch 59 | Finished epoch 59, loss = 0.0\n",
      "Starting epoch 60 | Finished epoch 60, loss = 0.0\n",
      "Starting epoch 61 | Finished epoch 61, loss = 0.0\n",
      "Starting epoch 62 | Finished epoch 62, loss = 0.0\n",
      "Starting epoch 63 | Finished epoch 63, loss = 0.0\n",
      "Starting epoch 64 | Finished epoch 64, loss = 0.0\n",
      "Starting epoch 65 | Finished epoch 65, loss = 0.0\n",
      "Starting epoch 66 | Finished epoch 66, loss = 0.0\n",
      "Starting epoch 67 | Finished epoch 67, loss = 0.0\n",
      "Starting epoch 68 | Finished epoch 68, loss = 0.0\n",
      "Starting epoch 69 | Finished epoch 69, loss = 0.0\n",
      "Starting epoch 70 | Finished epoch 70, loss = 0.0\n",
      "Starting epoch 71 | Finished epoch 71, loss = 0.0\n",
      "Starting epoch 72 | Finished epoch 72, loss = 0.0\n",
      "Starting epoch 73 | Finished epoch 73, loss = 0.0\n",
      "Starting epoch 74 | Finished epoch 74, loss = 0.0\n",
      "Starting epoch 75 | Finished epoch 75, loss = 0.0\n",
      "Starting epoch 76 | Finished epoch 76, loss = 0.0\n",
      "Starting epoch 77 | Finished epoch 77, loss = 0.0\n",
      "Starting epoch 78 | Finished epoch 78, loss = 0.0\n",
      "Starting epoch 79 | Finished epoch 79, loss = 0.0\n",
      "Starting epoch 80 | Finished epoch 80, loss = 0.0\n",
      "Starting epoch 81 | Finished epoch 81, loss = 0.0\n",
      "Starting epoch 82 | Finished epoch 82, loss = 0.0\n",
      "Starting epoch 83 | Finished epoch 83, loss = 0.0\n",
      "Starting epoch 84 | Finished epoch 84, loss = 0.0\n",
      "Starting epoch 85 | Finished epoch 85, loss = 0.0\n",
      "Starting epoch 86 | Finished epoch 86, loss = 0.0\n",
      "Starting epoch 87 | Finished epoch 87, loss = 0.0\n",
      "Starting epoch 88 | Finished epoch 88, loss = 0.0\n",
      "Starting epoch 89 | Finished epoch 89, loss = 0.0\n",
      "Starting epoch 90 | Finished epoch 90, loss = 0.0\n",
      "Starting epoch 91 | Finished epoch 91, loss = 0.0\n",
      "Starting epoch 92 | Finished epoch 92, loss = 0.0\n",
      "Starting epoch 93 | Finished epoch 93, loss = 0.0\n",
      "Starting epoch 94 | Finished epoch 94, loss = 0.0\n",
      "Starting epoch 95 | Finished epoch 95, loss = 0.0\n",
      "Starting epoch 96 | Finished epoch 96, loss = 0.0\n",
      "Starting epoch 97 | Finished epoch 97, loss = 0.0\n",
      "Starting epoch 98 | Finished epoch 98, loss = 0.0\n",
      "Starting epoch 99 | Finished epoch 99, loss = 0.0\n",
      "Trained d2vdm\n",
      "Starting epoch 0 | Finished epoch 0, loss = 0.0\n",
      "Starting epoch 1 | Finished epoch 1, loss = 0.0\n",
      "Starting epoch 2 | Finished epoch 2, loss = 0.0\n",
      "Starting epoch 3 | Finished epoch 3, loss = 0.0\n",
      "Starting epoch 4 | Finished epoch 4, loss = 0.0\n",
      "Starting epoch 5 | Finished epoch 5, loss = 0.0\n",
      "Starting epoch 6 | Finished epoch 6, loss = 0.0\n",
      "Starting epoch 7 | Finished epoch 7, loss = 0.0\n",
      "Starting epoch 8 | Finished epoch 8, loss = 0.0\n",
      "Starting epoch 9 | Finished epoch 9, loss = 0.0\n",
      "Starting epoch 10 | Finished epoch 10, loss = 0.0\n",
      "Starting epoch 11 | Finished epoch 11, loss = 0.0\n",
      "Starting epoch 12 | Finished epoch 12, loss = 0.0\n",
      "Starting epoch 13 | Finished epoch 13, loss = 0.0\n",
      "Starting epoch 14 | Finished epoch 14, loss = 0.0\n",
      "Starting epoch 15 | Finished epoch 15, loss = 0.0\n",
      "Starting epoch 16 | Finished epoch 16, loss = 0.0\n",
      "Starting epoch 17 | Finished epoch 17, loss = 0.0\n",
      "Starting epoch 18 | Finished epoch 18, loss = 0.0\n",
      "Starting epoch 19 | Finished epoch 19, loss = 0.0\n",
      "Starting epoch 20 | Finished epoch 20, loss = 0.0\n",
      "Starting epoch 21 | Finished epoch 21, loss = 0.0\n",
      "Starting epoch 22 | Finished epoch 22, loss = 0.0\n",
      "Starting epoch 23 | Finished epoch 23, loss = 0.0\n",
      "Starting epoch 24 | Finished epoch 24, loss = 0.0\n",
      "Starting epoch 25 | Finished epoch 25, loss = 0.0\n",
      "Starting epoch 26 | Finished epoch 26, loss = 0.0\n",
      "Starting epoch 27 | Finished epoch 27, loss = 0.0\n",
      "Starting epoch 28 | Finished epoch 28, loss = 0.0\n",
      "Starting epoch 29 | Finished epoch 29, loss = 0.0\n",
      "Starting epoch 30 | Finished epoch 30, loss = 0.0\n",
      "Starting epoch 31 | Finished epoch 31, loss = 0.0\n",
      "Starting epoch 32 | Finished epoch 32, loss = 0.0\n",
      "Starting epoch 33 | Finished epoch 33, loss = 0.0\n",
      "Starting epoch 34 | Finished epoch 34, loss = 0.0\n",
      "Starting epoch 35 | Finished epoch 35, loss = 0.0\n",
      "Starting epoch 36 | Finished epoch 36, loss = 0.0\n",
      "Starting epoch 37 | Finished epoch 37, loss = 0.0\n",
      "Starting epoch 38 | Finished epoch 38, loss = 0.0\n",
      "Starting epoch 39 | Finished epoch 39, loss = 0.0\n",
      "Starting epoch 40 | Finished epoch 40, loss = 0.0\n",
      "Starting epoch 41 | Finished epoch 41, loss = 0.0\n",
      "Starting epoch 42 | Finished epoch 42, loss = 0.0\n",
      "Starting epoch 43 | Finished epoch 43, loss = 0.0\n",
      "Starting epoch 44 | Finished epoch 44, loss = 0.0\n",
      "Starting epoch 45 | Finished epoch 45, loss = 0.0\n",
      "Starting epoch 46 | Finished epoch 46, loss = 0.0\n",
      "Starting epoch 47 | Finished epoch 47, loss = 0.0\n",
      "Starting epoch 48 | Finished epoch 48, loss = 0.0\n",
      "Starting epoch 49 | Finished epoch 49, loss = 0.0\n",
      "Starting epoch 50 | Finished epoch 50, loss = 0.0\n",
      "Starting epoch 51 | Finished epoch 51, loss = 0.0\n",
      "Starting epoch 52 | Finished epoch 52, loss = 0.0\n",
      "Starting epoch 53 | Finished epoch 53, loss = 0.0\n",
      "Starting epoch 54 | Finished epoch 54, loss = 0.0\n",
      "Starting epoch 55 | Finished epoch 55, loss = 0.0\n",
      "Starting epoch 56 | Finished epoch 56, loss = 0.0\n",
      "Starting epoch 57 | Finished epoch 57, loss = 0.0\n",
      "Starting epoch 58 | Finished epoch 58, loss = 0.0\n",
      "Starting epoch 59 | Finished epoch 59, loss = 0.0\n",
      "Starting epoch 60 | Finished epoch 60, loss = 0.0\n",
      "Starting epoch 61 | Finished epoch 61, loss = 0.0\n",
      "Starting epoch 62 | Finished epoch 62, loss = 0.0\n",
      "Starting epoch 63 | Finished epoch 63, loss = 0.0\n",
      "Starting epoch 64 | Finished epoch 64, loss = 0.0\n",
      "Starting epoch 65 | Finished epoch 65, loss = 0.0\n",
      "Starting epoch 66 | Finished epoch 66, loss = 0.0\n",
      "Starting epoch 67 | Finished epoch 67, loss = 0.0\n",
      "Starting epoch 68 | Finished epoch 68, loss = 0.0\n",
      "Starting epoch 69 | Finished epoch 69, loss = 0.0\n",
      "Starting epoch 70 | Finished epoch 70, loss = 0.0\n",
      "Starting epoch 71 | Finished epoch 71, loss = 0.0\n",
      "Starting epoch 72 | Finished epoch 72, loss = 0.0\n",
      "Starting epoch 73 | Finished epoch 73, loss = 0.0\n",
      "Starting epoch 74 | Finished epoch 74, loss = 0.0\n",
      "Starting epoch 75 | Finished epoch 75, loss = 0.0\n",
      "Starting epoch 76 | Finished epoch 76, loss = 0.0\n",
      "Starting epoch 77 | Finished epoch 77, loss = 0.0\n",
      "Starting epoch 78 | Finished epoch 78, loss = 0.0\n",
      "Starting epoch 79 | Finished epoch 79, loss = 0.0\n",
      "Starting epoch 80 | Finished epoch 80, loss = 0.0\n",
      "Starting epoch 81 | Finished epoch 81, loss = 0.0\n",
      "Starting epoch 82 | Finished epoch 82, loss = 0.0\n",
      "Starting epoch 83 | Finished epoch 83, loss = 0.0\n",
      "Starting epoch 84 | Finished epoch 84, loss = 0.0\n",
      "Starting epoch 85 | Finished epoch 85, loss = 0.0\n",
      "Starting epoch 86 | Finished epoch 86, loss = 0.0\n",
      "Starting epoch 87 | Finished epoch 87, loss = 0.0\n",
      "Starting epoch 88 | Finished epoch 88, loss = 0.0\n",
      "Starting epoch 89 | Finished epoch 89, loss = 0.0\n",
      "Starting epoch 90 | Finished epoch 90, loss = 0.0\n",
      "Starting epoch 91 | Finished epoch 91, loss = 0.0\n",
      "Starting epoch 92 | Finished epoch 92, loss = 0.0\n",
      "Starting epoch 93 | Finished epoch 93, loss = 0.0\n",
      "Starting epoch 94 | Finished epoch 94, loss = 0.0\n",
      "Starting epoch 95 | Finished epoch 95, loss = 0.0\n",
      "Starting epoch 96 | Finished epoch 96, loss = 0.0\n",
      "Starting epoch 97 | Finished epoch 97, loss = 0.0\n",
      "Starting epoch 98 | Finished epoch 98, loss = 0.0\n",
      "Starting epoch 99 | Finished epoch 99, loss = 0.0\n",
      "Trained d2vdbow\n"
     ]
    }
   ],
   "source": [
    "# Train Doc2Vec model\n",
    "import collections\n",
    "from gensim.models.callbacks import CallbackAny2Vec\n",
    "\n",
    "doc_ids = range(num_reviews)\n",
    "tagged_docs = [TaggedDocument(words=df['Tokens'][doc_id], tags=[doc_id]) for doc_id in doc_ids]\n",
    "assert type(tagged_docs[0].words) == list\n",
    "# print(len(tagged_docs), type(tagged_docs[0].words), tagged_docs[0])\n",
    "X_train_docs, X_test_docs = my_train_test_split(tagged_docs)\n",
    "\n",
    "class PrintLoss(CallbackAny2Vec):\n",
    "    def __init__(self):\n",
    "        self.epoch = 0\n",
    "    \n",
    "    def on_epoch_begin(self, model):\n",
    "        model.running_training_loss = 0.0\n",
    "        print(f'Starting epoch {self.epoch}', end=' | ')\n",
    "    \n",
    "    def on_epoch_end(self, model):\n",
    "        print(f'Finished epoch {self.epoch}, loss = {model.get_latest_training_loss()}')\n",
    "        self.epoch += 1\n",
    "\n",
    "def train_d2v(model):\n",
    "    model.random.seed(1)\n",
    "    model.build_vocab(X_train_docs)\n",
    "    model.train(X_train_docs, total_examples=model.corpus_count, epochs=model.epochs, compute_loss=True, callbacks=[PrintLoss()])\n",
    "    return model\n",
    "\n",
    "d2vdm_model = train_d2v(Doc2Vec(dm=1, vector_size=50, min_count=min_occ, epochs=100, seed=1))\n",
    "d2vdm_model.save(d2vdm_model_file)\n",
    "print('Trained d2vdm')\n",
    "\n",
    "d2vdbow_model = train_d2v(Doc2Vec(dm=0, vector_size=50, min_count=min_occ, epochs=100, seed=1))\n",
    "d2vdbow_model.save(d2vdbow_model_file)\n",
    "print('Trained d2vdbow')"
   ]
  },
  {
   "cell_type": "code",
   "execution_count": 22,
   "id": "ca1f755a-5b99-4fbb-86b5-85d491b81dde",
   "metadata": {},
   "outputs": [],
   "source": [
    "def get_d2v_sim(model, doc1, doc2):\n",
    "    \"\"\"Get cos similarity of 2 docs' vectors\"\"\"\n",
    "    vector1 = model.infer_vector(doc1)\n",
    "    vector2 = model.infer_vector(doc2)\n",
    "    return cosine_similarity([vector1], [vector2])"
   ]
  },
  {
   "cell_type": "code",
   "execution_count": 17,
   "id": "14f63b74-c86c-4f0a-b8bf-a01004d1341a",
   "metadata": {},
   "outputs": [
    {
     "data": {
      "text/html": [
       "<div>\n",
       "<style scoped>\n",
       "    .dataframe tbody tr th:only-of-type {\n",
       "        vertical-align: middle;\n",
       "    }\n",
       "\n",
       "    .dataframe tbody tr th {\n",
       "        vertical-align: top;\n",
       "    }\n",
       "\n",
       "    .dataframe thead th {\n",
       "        text-align: right;\n",
       "    }\n",
       "</style>\n",
       "<table border=\"1\" class=\"dataframe\">\n",
       "  <thead>\n",
       "    <tr style=\"text-align: right;\">\n",
       "      <th></th>\n",
       "      <th>Rating</th>\n",
       "      <th>Text</th>\n",
       "      <th>Tokens</th>\n",
       "    </tr>\n",
       "  </thead>\n",
       "  <tbody>\n",
       "    <tr>\n",
       "      <th>55</th>\n",
       "      <td>9</td>\n",
       "      <td>bromwell high cartoon comedy time program scho...</td>\n",
       "      <td>[bromwell, high, cartoon, comedy, time, progra...</td>\n",
       "    </tr>\n",
       "    <tr>\n",
       "      <th>1298</th>\n",
       "      <td>9</td>\n",
       "      <td>bromwell high nothing short brilliant expertly...</td>\n",
       "      <td>[bromwell, high, nothing, short, brilliant, ex...</td>\n",
       "    </tr>\n",
       "  </tbody>\n",
       "</table>\n",
       "</div>"
      ],
      "text/plain": [
       "      Rating                                               Text  \\\n",
       "55         9  bromwell high cartoon comedy time program scho...   \n",
       "1298       9  bromwell high nothing short brilliant expertly...   \n",
       "\n",
       "                                                 Tokens  \n",
       "55    [bromwell, high, cartoon, comedy, time, progra...  \n",
       "1298  [bromwell, high, nothing, short, brilliant, ex...  "
      ]
     },
     "execution_count": 17,
     "metadata": {},
     "output_type": "execute_result"
    }
   ],
   "source": [
    "sim_reviews = df[df['Tokens'].apply(lambda x: 'bromwell' in x)]\n",
    "sim_reviews"
   ]
  },
  {
   "cell_type": "code",
   "execution_count": 23,
   "id": "46c0a49b-8fa7-4760-9167-09f18bdffd2d",
   "metadata": {},
   "outputs": [
    {
     "data": {
      "text/plain": [
       "array([[0.62547696]], dtype=float32)"
      ]
     },
     "execution_count": 23,
     "metadata": {},
     "output_type": "execute_result"
    }
   ],
   "source": [
    "r1, r2 = sim_reviews.Tokens\n",
    "get_d2v_sim(d2vdm_model, r1, r2)"
   ]
  },
  {
   "cell_type": "code",
   "execution_count": 24,
   "id": "e52e5f25-8216-4e62-96a4-117df37823b1",
   "metadata": {},
   "outputs": [
    {
     "data": {
      "text/plain": [
       "array([[0.44448546]], dtype=float32)"
      ]
     },
     "execution_count": 24,
     "metadata": {},
     "output_type": "execute_result"
    }
   ],
   "source": [
    "get_d2v_sim(d2vdbow_model, r1, r2)"
   ]
  },
  {
   "cell_type": "code",
   "execution_count": 25,
   "id": "eaf71e13-16f1-4afd-95cb-1003cdfb7db1",
   "metadata": {},
   "outputs": [
    {
     "ename": "KeyboardInterrupt",
     "evalue": "",
     "output_type": "error",
     "traceback": [
      "\u001b[1;31m---------------------------------------------------------------------------\u001b[0m",
      "\u001b[1;31mKeyboardInterrupt\u001b[0m                         Traceback (most recent call last)",
      "\u001b[1;32m~\\AppData\\Local\\Temp/ipykernel_16376/2863705803.py\u001b[0m in \u001b[0;36m<module>\u001b[1;34m\u001b[0m\n\u001b[0;32m      8\u001b[0m \u001b[1;33m\u001b[0m\u001b[0m\n\u001b[0;32m      9\u001b[0m \u001b[0ms1\u001b[0m \u001b[1;33m=\u001b[0m \u001b[0mtest_d2v_sims\u001b[0m\u001b[1;33m(\u001b[0m\u001b[0md2vdm_model\u001b[0m\u001b[1;33m)\u001b[0m\u001b[1;33m\u001b[0m\u001b[1;33m\u001b[0m\u001b[0m\n\u001b[1;32m---> 10\u001b[1;33m \u001b[0ms2\u001b[0m \u001b[1;33m=\u001b[0m \u001b[0mtest_d2v_sims\u001b[0m\u001b[1;33m(\u001b[0m\u001b[0md2vdbow_model\u001b[0m\u001b[1;33m)\u001b[0m\u001b[1;33m\u001b[0m\u001b[1;33m\u001b[0m\u001b[0m\n\u001b[0m",
      "\u001b[1;32m~\\AppData\\Local\\Temp/ipykernel_16376/2863705803.py\u001b[0m in \u001b[0;36mtest_d2v_sims\u001b[1;34m(model)\u001b[0m\n\u001b[0;32m      2\u001b[0m     \u001b[0msims\u001b[0m \u001b[1;33m=\u001b[0m \u001b[1;33m[\u001b[0m\u001b[1;33m]\u001b[0m\u001b[1;33m\u001b[0m\u001b[1;33m\u001b[0m\u001b[0m\n\u001b[0;32m      3\u001b[0m     \u001b[1;32mfor\u001b[0m \u001b[0mdoc_id\u001b[0m \u001b[1;32min\u001b[0m \u001b[0mrange\u001b[0m\u001b[1;33m(\u001b[0m\u001b[0mlen\u001b[0m\u001b[1;33m(\u001b[0m\u001b[0mtagged_docs\u001b[0m\u001b[1;33m)\u001b[0m\u001b[1;33m)\u001b[0m\u001b[1;33m:\u001b[0m\u001b[1;33m\u001b[0m\u001b[1;33m\u001b[0m\u001b[0m\n\u001b[1;32m----> 4\u001b[1;33m         \u001b[0minferred_vector\u001b[0m \u001b[1;33m=\u001b[0m \u001b[0mmodel\u001b[0m\u001b[1;33m.\u001b[0m\u001b[0minfer_vector\u001b[0m\u001b[1;33m(\u001b[0m\u001b[0mtagged_docs\u001b[0m\u001b[1;33m[\u001b[0m\u001b[0mdoc_id\u001b[0m\u001b[1;33m]\u001b[0m\u001b[1;33m.\u001b[0m\u001b[0mwords\u001b[0m\u001b[1;33m)\u001b[0m\u001b[1;33m\u001b[0m\u001b[1;33m\u001b[0m\u001b[0m\n\u001b[0m\u001b[0;32m      5\u001b[0m         \u001b[0mactual_vector\u001b[0m \u001b[1;33m=\u001b[0m \u001b[0mmodel\u001b[0m\u001b[1;33m.\u001b[0m\u001b[0mdv\u001b[0m\u001b[1;33m[\u001b[0m\u001b[0mdoc_id\u001b[0m\u001b[1;33m]\u001b[0m\u001b[1;33m\u001b[0m\u001b[1;33m\u001b[0m\u001b[0m\n\u001b[0;32m      6\u001b[0m         \u001b[0msims\u001b[0m\u001b[1;33m.\u001b[0m\u001b[0mappend\u001b[0m\u001b[1;33m(\u001b[0m\u001b[0mcosine_similarity\u001b[0m\u001b[1;33m(\u001b[0m\u001b[1;33m[\u001b[0m\u001b[0minferred_vector\u001b[0m\u001b[1;33m]\u001b[0m\u001b[1;33m,\u001b[0m \u001b[1;33m[\u001b[0m\u001b[0mactual_vector\u001b[0m\u001b[1;33m]\u001b[0m\u001b[1;33m)\u001b[0m\u001b[1;33m[\u001b[0m\u001b[1;36m0\u001b[0m\u001b[1;33m]\u001b[0m\u001b[1;33m[\u001b[0m\u001b[1;36m0\u001b[0m\u001b[1;33m]\u001b[0m\u001b[1;33m)\u001b[0m\u001b[1;33m\u001b[0m\u001b[1;33m\u001b[0m\u001b[0m\n",
      "\u001b[1;32mc:\\users\\yasht\\fakenews\\venv\\lib\\site-packages\\gensim\\models\\doc2vec.py\u001b[0m in \u001b[0;36minfer_vector\u001b[1;34m(self, doc_words, alpha, min_alpha, epochs, steps)\u001b[0m\n\u001b[0;32m    625\u001b[0m         \u001b[1;32mfor\u001b[0m \u001b[0mi\u001b[0m \u001b[1;32min\u001b[0m \u001b[0mrange\u001b[0m\u001b[1;33m(\u001b[0m\u001b[0mepochs\u001b[0m\u001b[1;33m)\u001b[0m\u001b[1;33m:\u001b[0m\u001b[1;33m\u001b[0m\u001b[1;33m\u001b[0m\u001b[0m\n\u001b[0;32m    626\u001b[0m             \u001b[1;32mif\u001b[0m \u001b[0mself\u001b[0m\u001b[1;33m.\u001b[0m\u001b[0msg\u001b[0m\u001b[1;33m:\u001b[0m\u001b[1;33m\u001b[0m\u001b[1;33m\u001b[0m\u001b[0m\n\u001b[1;32m--> 627\u001b[1;33m                 train_document_dbow(\n\u001b[0m\u001b[0;32m    628\u001b[0m                     \u001b[0mself\u001b[0m\u001b[1;33m,\u001b[0m \u001b[0mdoc_words\u001b[0m\u001b[1;33m,\u001b[0m \u001b[0mdoctag_indexes\u001b[0m\u001b[1;33m,\u001b[0m \u001b[0malpha\u001b[0m\u001b[1;33m,\u001b[0m \u001b[0mwork\u001b[0m\u001b[1;33m,\u001b[0m\u001b[1;33m\u001b[0m\u001b[1;33m\u001b[0m\u001b[0m\n\u001b[0;32m    629\u001b[0m                     \u001b[0mlearn_words\u001b[0m\u001b[1;33m=\u001b[0m\u001b[1;32mFalse\u001b[0m\u001b[1;33m,\u001b[0m \u001b[0mlearn_hidden\u001b[0m\u001b[1;33m=\u001b[0m\u001b[1;32mFalse\u001b[0m\u001b[1;33m,\u001b[0m \u001b[0mdoctag_vectors\u001b[0m\u001b[1;33m=\u001b[0m\u001b[0mdoctag_vectors\u001b[0m\u001b[1;33m,\u001b[0m \u001b[0mdoctags_lockf\u001b[0m\u001b[1;33m=\u001b[0m\u001b[0mdoctags_lockf\u001b[0m\u001b[1;33m\u001b[0m\u001b[1;33m\u001b[0m\u001b[0m\n",
      "\u001b[1;31mKeyboardInterrupt\u001b[0m: "
     ]
    }
   ],
   "source": [
    "def test_d2v_sims(model):\n",
    "    sims = []\n",
    "    for doc_id in range(len(tagged_docs)):\n",
    "        inferred_vector = model.infer_vector(tagged_docs[doc_id].words)\n",
    "        actual_vector = model.dv[doc_id]\n",
    "        sims.append(cosine_similarity([inferred_vector], [actual_vector])[0][0])\n",
    "    return np.asarray(sims)\n",
    "\n",
    "s1 = test_d2v_sims(d2vdm_model)\n",
    "s2 = test_d2v_sims(d2vdbow_model)"
   ]
  },
  {
   "cell_type": "code",
   "execution_count": null,
   "id": "b9d5c974-c54a-4b3c-ac96-4c89f4f6718b",
   "metadata": {},
   "outputs": [],
   "source": [
    "s1.min(), s1.max(), s1.mean(), np.median(s1), s1.min(), s2.max(), s2.mean(), np.median(s2)"
   ]
  },
  {
   "cell_type": "code",
   "execution_count": null,
   "id": "127f312a-f667-42e7-88dd-ab1854340e46",
   "metadata": {},
   "outputs": [],
   "source": [
    "def test_d2v(model):\n",
    "    sims = []\n",
    "    for doc_id in range(len(tagged_docs)):\n",
    "        inferred_vector = model.infer_vector(tagged_docs[doc_id].words)\n",
    "        actual_vector = model.dv[doc_id]\n",
    "        sims.append(cosine_similarity([inferred_vector], [actual_vector])[0][0])\n",
    "    return np.asarray(sims)\n",
    "\n",
    "s1 = test_d2v_sims(d2vdm_model)\n",
    "s2 = test_d2v_sims(d2vdbow_model)"
   ]
  },
  {
   "cell_type": "markdown",
   "id": "816c63f1",
   "metadata": {},
   "source": [
    "# Load stuff done already"
   ]
  },
  {
   "cell_type": "code",
   "execution_count": 7,
   "id": "02492993",
   "metadata": {},
   "outputs": [],
   "source": [
    "# df = pd.read_csv(df_csv)\n",
    "df = pd.read_pickle(df_pkl)"
   ]
  },
  {
   "cell_type": "code",
   "execution_count": 86,
   "id": "3ae87b0b-22bc-48c6-a1be-82d12345457a",
   "metadata": {},
   "outputs": [],
   "source": [
    "# Load pretrained Word2Vec model\n",
    "# model = Word2Vec.load(w2v_model_file)"
   ]
  },
  {
   "cell_type": "code",
   "execution_count": 8,
   "id": "91fad42f-4028-4a74-b177-196172feb34c",
   "metadata": {},
   "outputs": [],
   "source": [
    "# Load pretrained Doc2Vec models\n",
    "d2vdm_model = Doc2Vec.load(d2vdm_model_file)\n",
    "d2vdbow_model = Doc2Vec.load(d2vdbow_model_file)"
   ]
  },
  {
   "cell_type": "markdown",
   "id": "f7b70547-0a53-4091-8a2e-9adb64d85a42",
   "metadata": {},
   "source": [
    "# Common stuff"
   ]
  },
  {
   "cell_type": "code",
   "execution_count": 9,
   "id": "408dfb54-25c0-4ddf-a1bd-0979f7a3cd56",
   "metadata": {},
   "outputs": [],
   "source": [
    "# vocab = set(model.wv.key_to_index.keys())\n",
    "# vocab_ord = np.array(list(model.wv.key_to_index.keys()))"
   ]
  },
  {
   "cell_type": "code",
   "execution_count": 26,
   "id": "ec2d2b83-cb8c-42bf-9877-4dc5e5e6a2ff",
   "metadata": {},
   "outputs": [],
   "source": [
    "y_bi = df['Rating'] > 5\n",
    "y_train_bi, y_test_bi = my_train_test_split(y_bi)\n",
    "\n",
    "y_bin2 = df['Rating'] // 2\n",
    "y_train_bin2, y_test_bin2 = my_train_test_split(y_bin2)"
   ]
  },
  {
   "cell_type": "markdown",
   "id": "6a9b4fdd-a4e5-4a17-bfd9-c1960f0597f3",
   "metadata": {},
   "source": [
    "# Classifiers"
   ]
  },
  {
   "cell_type": "code",
   "execution_count": 27,
   "id": "dae55314-785f-4a22-b019-828b2c2d0e97",
   "metadata": {},
   "outputs": [],
   "source": [
    "classifier_results = dict()\n",
    "\n",
    "def score_classifier(classifier, X_test, y_test=y_test_bi, big_table=True):\n",
    "    score = classifier.score(X_test, y_test)\n",
    "    predicted = classifier.predict(X_test)\n",
    "    cm = confusion_matrix(predicted, y_test)\n",
    "    report = classification_report(predicted, y_test)\n",
    "    \n",
    "    classifier_results[str(classifier)] = (score, cm)\n",
    "    \n",
    "    print_results(score, cm, report, big_table)\n",
    "    \n",
    "def print_results(score, cm, class_report, big_table=True):\n",
    "    print('Mean accuracy:', score)\n",
    "    print(f\"TP: {cm[0][0]}, FN: {cm[0][1]}\\nFP: {cm[1][0]}, TN: {cm[1][1]}\")\n",
    "    if big_table:\n",
    "        print(class_report)"
   ]
  },
  {
   "cell_type": "code",
   "execution_count": 136,
   "id": "53add2ff-ee1b-4fc1-9caf-60a1820a4460",
   "metadata": {},
   "outputs": [],
   "source": [
    "def try_classifier(classifier, X_train, X_test, big_table=True):\n",
    "    classifier.fit(X_train, y_train_bi)\n",
    "    score_classifier(classifier, X_test, big_table=big_table)\n",
    "\n",
    "def try_tfidf_classifier(classifier, big_table=True):\n",
    "    try_classifier(classifier, X_train_tfidf, X_test_tfidf, big_table=big_table)\n",
    "\n",
    "def try_d2vdm_classifier(classifier, big_table=True):\n",
    "    try_classifier(classifier, X_train_d2vdm, X_test_d2vdm, big_table=big_table)\n",
    "    \n",
    "def try_d2vdbow_classifier(classifier, big_table=True):\n",
    "    try_classifier(classifier, X_train_d2vdbow, X_test_d2vdbow, big_table=big_table)"
   ]
  },
  {
   "cell_type": "code",
   "execution_count": 33,
   "id": "e4eda3f3-34c3-4154-843b-7bf4020f85e7",
   "metadata": {},
   "outputs": [
    {
     "name": "stdout",
     "output_type": "stream",
     "text": [
      "(8000, 14577) 14577\n",
      "(8000, 33867) 33867\n",
      "(8000, 19290) 19290\n"
     ]
    }
   ],
   "source": [
    "# Make different train-test splits for tf-idf\n",
    "def make_tfidf(**kwargs):\n",
    "    # en_stop because the default apparently has problems\n",
    "    tfidf_vectorizer = TfidfVectorizer(stop_words=en_stop, min_df=min_occ, **kwargs)\n",
    "    X_tfidf = tfidf_vectorizer.fit_transform(df['Text'])\n",
    "    X_train_tfidf, X_test_tfidf = my_train_test_split(X_tfidf)\n",
    "    \n",
    "    print(X_train_tfidf.shape, len(tfidf_vectorizer.vocabulary_.keys()))\n",
    "    \n",
    "    return X_train_tfidf, X_test_tfidf\n",
    "\n",
    "X_train_tfidf_1, X_test_tfidf_1 = make_tfidf(ngram_range=(1, 1))\n",
    "X_train_tfidf_1_2, X_test_tfidf_1_2 = make_tfidf(ngram_range=(1, 2))\n",
    "X_train_tfidf_2, X_test_tfidf_2 = make_tfidf(ngram_range=(2, 2))\n",
    "\n",
    "# The \"best\" tf-idf model\n",
    "X_train_tfidf = X_train_tfidf_1_2"
   ]
  },
  {
   "cell_type": "code",
   "execution_count": 29,
   "id": "ff6891bb-93a7-4f1f-999c-a5a89db76c5e",
   "metadata": {},
   "outputs": [],
   "source": [
    "# Make different train-test splits for Doc2Vec\n",
    "def split_d2v(model):\n",
    "    train_ids, test_ids = my_train_test_split(doc_ids)\n",
    "    X_train = model.dv[train_ids]\n",
    "    X_test = model.dv[test_ids]\n",
    "    return X_train, X_test\n",
    "\n",
    "X_train_d2vdm, X_test_d2vdm = split_d2v(d2vdm_model)\n",
    "X_train_d2vdbow, X_test_d2vdbow = split_d2v(d2vdbow_model)"
   ]
  },
  {
   "cell_type": "markdown",
   "id": "c4cb9072",
   "metadata": {},
   "source": [
    "# Logistic Regression + Bag of Words"
   ]
  },
  {
   "cell_type": "code",
   "execution_count": 34,
   "id": "3f4a46df-3bb7-4c34-af14-4479d1eb575b",
   "metadata": {},
   "outputs": [],
   "source": [
    "def try_bow(**kwargs):\n",
    "    cnt_vectorizer = CountVectorizer(stop_words=en_stop, **kwargs) # en_stop because the default has problems\n",
    "    X_bow = cnt_vectorizer.fit_transform(df['Text'])\n",
    "    X_train_bow, X_test_bow = train_test_split(X_bow, train_size=train_size, random_state=1)\n",
    "\n",
    "    # Scale data\n",
    "    scaler_bow = StandardScaler(with_mean=False).fit(X_train_bow)\n",
    "    X_train_bow_scaled = scaler_bow.transform(X_train_bow)\n",
    "    X_test_bow_scaled = scaler_bow.transform(X_test_bow)\n",
    "    print(X_train_bow_scaled.shape, len(cnt_vectorizer.vocabulary_.keys()))\n",
    "    \n",
    "    lr_bow = LogisticRegression()\n",
    "    lr_bow.fit(X_train_bow_scaled, y_train_bi)\n",
    "    \n",
    "    score_classifier(lr_bow, X_test_bow_scaled)"
   ]
  },
  {
   "cell_type": "code",
   "execution_count": 35,
   "id": "2408e0fc-febf-493c-b9c1-34071d65127f",
   "metadata": {},
   "outputs": [
    {
     "name": "stdout",
     "output_type": "stream",
     "text": [
      "(8000, 14577) 14577\n",
      "Mean accuracy: 0.83\n",
      "TP: 823, FN: 146\n",
      "FP: 194, TN: 837\n",
      "              precision    recall  f1-score   support\n",
      "\n",
      "       False       0.81      0.85      0.83       969\n",
      "        True       0.85      0.81      0.83      1031\n",
      "\n",
      "    accuracy                           0.83      2000\n",
      "   macro avg       0.83      0.83      0.83      2000\n",
      "weighted avg       0.83      0.83      0.83      2000\n",
      "\n"
     ]
    }
   ],
   "source": [
    "try_bow(min_df=5, ngram_range=(1, 1)) # Just unigrams"
   ]
  },
  {
   "cell_type": "code",
   "execution_count": 36,
   "id": "1072c298-f3ce-4087-a40e-493530dc786e",
   "metadata": {},
   "outputs": [
    {
     "name": "stdout",
     "output_type": "stream",
     "text": [
      "(8000, 33867) 33867\n",
      "Mean accuracy: 0.8435\n",
      "TP: 842, FN: 138\n",
      "FP: 175, TN: 845\n",
      "              precision    recall  f1-score   support\n",
      "\n",
      "       False       0.83      0.86      0.84       980\n",
      "        True       0.86      0.83      0.84      1020\n",
      "\n",
      "    accuracy                           0.84      2000\n",
      "   macro avg       0.84      0.84      0.84      2000\n",
      "weighted avg       0.84      0.84      0.84      2000\n",
      "\n"
     ]
    }
   ],
   "source": [
    "try_bow(min_df=5, ngram_range=(1, 2)) # Unigrams and bigrams"
   ]
  },
  {
   "cell_type": "code",
   "execution_count": 37,
   "id": "3bd5af37-5983-433a-b714-b00b1dbd8fa4",
   "metadata": {},
   "outputs": [
    {
     "name": "stdout",
     "output_type": "stream",
     "text": [
      "(8000, 19290) 19290\n",
      "Mean accuracy: 0.75\n",
      "TP: 748, FN: 231\n",
      "FP: 269, TN: 752\n",
      "              precision    recall  f1-score   support\n",
      "\n",
      "       False       0.74      0.76      0.75       979\n",
      "        True       0.77      0.74      0.75      1021\n",
      "\n",
      "    accuracy                           0.75      2000\n",
      "   macro avg       0.75      0.75      0.75      2000\n",
      "weighted avg       0.75      0.75      0.75      2000\n",
      "\n"
     ]
    }
   ],
   "source": [
    "try_bow(min_df=5, ngram_range=(2, 2)) # Just bigrams"
   ]
  },
  {
   "cell_type": "code",
   "execution_count": 38,
   "id": "27d89c95-8810-4ffb-98cd-b7d6b96d4341",
   "metadata": {},
   "outputs": [
    {
     "name": "stdout",
     "output_type": "stream",
     "text": [
      "(8000, 34908) 34908\n",
      "Mean accuracy: 0.843\n",
      "TP: 840, FN: 137\n",
      "FP: 177, TN: 846\n",
      "              precision    recall  f1-score   support\n",
      "\n",
      "       False       0.83      0.86      0.84       977\n",
      "        True       0.86      0.83      0.84      1023\n",
      "\n",
      "    accuracy                           0.84      2000\n",
      "   macro avg       0.84      0.84      0.84      2000\n",
      "weighted avg       0.84      0.84      0.84      2000\n",
      "\n"
     ]
    }
   ],
   "source": [
    "try_bow(min_df=5, ngram_range=(1, 3)) # Unigrams, bigrams, and trigrams"
   ]
  },
  {
   "cell_type": "markdown",
   "id": "dfb06521-27c6-4752-b371-2b83b1ea49fe",
   "metadata": {},
   "source": [
    "# Logistic Regression + TFIDF"
   ]
  },
  {
   "cell_type": "code",
   "execution_count": 39,
   "id": "d72a3ee9-3459-42f7-8e15-5f1c59e7ad23",
   "metadata": {},
   "outputs": [],
   "source": [
    "def try_tfidf(X_train_tfidf, X_test_tfidf):    \n",
    "    lr_tfidf = LogisticRegression()\n",
    "    lr_tfidf.fit(X_train_tfidf, y_train_bi)\n",
    "    \n",
    "    score_classifier(lr_tfidf, X_test_tfidf)"
   ]
  },
  {
   "cell_type": "code",
   "execution_count": 40,
   "id": "e0bb2ad3-7d79-472c-9a80-64a33431baf5",
   "metadata": {},
   "outputs": [
    {
     "name": "stdout",
     "output_type": "stream",
     "text": [
      "(8000, 14577) 14577\n",
      "(8000, 33867) 33867\n",
      "(8000, 19290) 19290\n"
     ]
    }
   ],
   "source": [
    "X_train_tfidf_1, X_test_tfidf_1 = make_tfidf(ngram_range=(1, 1))\n",
    "X_train_tfidf_1_2, X_test_tfidf_1_2 = make_tfidf(ngram_range=(1, 2))\n",
    "X_train_tfidf_2, X_test_tfidf_2 = make_tfidf(ngram_range=(2, 2))"
   ]
  },
  {
   "cell_type": "code",
   "execution_count": 41,
   "id": "9d87f23a-21ae-4805-ad27-e58cb459ad60",
   "metadata": {},
   "outputs": [
    {
     "name": "stdout",
     "output_type": "stream",
     "text": [
      "Mean accuracy: 0.865\n",
      "TP: 848, FN: 101\n",
      "FP: 169, TN: 882\n",
      "              precision    recall  f1-score   support\n",
      "\n",
      "       False       0.83      0.89      0.86       949\n",
      "        True       0.90      0.84      0.87      1051\n",
      "\n",
      "    accuracy                           0.86      2000\n",
      "   macro avg       0.87      0.87      0.86      2000\n",
      "weighted avg       0.87      0.86      0.87      2000\n",
      "\n"
     ]
    }
   ],
   "source": [
    "try_tfidf(X_train_tfidf_1, X_test_tfidf_1)"
   ]
  },
  {
   "cell_type": "code",
   "execution_count": 42,
   "id": "fb1c63e4-7843-4a89-883d-9993d5703ef7",
   "metadata": {},
   "outputs": [
    {
     "name": "stdout",
     "output_type": "stream",
     "text": [
      "Mean accuracy: 0.8655\n",
      "TP: 845, FN: 97\n",
      "FP: 172, TN: 886\n",
      "              precision    recall  f1-score   support\n",
      "\n",
      "       False       0.83      0.90      0.86       942\n",
      "        True       0.90      0.84      0.87      1058\n",
      "\n",
      "    accuracy                           0.87      2000\n",
      "   macro avg       0.87      0.87      0.87      2000\n",
      "weighted avg       0.87      0.87      0.87      2000\n",
      "\n"
     ]
    }
   ],
   "source": [
    "try_tfidf(X_train_tfidf_1_2, X_test_tfidf_1_2)"
   ]
  },
  {
   "cell_type": "code",
   "execution_count": 43,
   "id": "8411dfc5-bbf8-49c7-befb-6f619fff25cb",
   "metadata": {},
   "outputs": [
    {
     "name": "stdout",
     "output_type": "stream",
     "text": [
      "Mean accuracy: 0.8035\n",
      "TP: 779, FN: 155\n",
      "FP: 238, TN: 828\n",
      "              precision    recall  f1-score   support\n",
      "\n",
      "       False       0.77      0.83      0.80       934\n",
      "        True       0.84      0.78      0.81      1066\n",
      "\n",
      "    accuracy                           0.80      2000\n",
      "   macro avg       0.80      0.81      0.80      2000\n",
      "weighted avg       0.81      0.80      0.80      2000\n",
      "\n"
     ]
    }
   ],
   "source": [
    "try_tfidf(X_train_tfidf_2, X_test_tfidf_2)"
   ]
  },
  {
   "cell_type": "code",
   "execution_count": 44,
   "id": "767f3030-1ea9-40c3-b9a8-a1d84f8d3b45",
   "metadata": {},
   "outputs": [],
   "source": [
    "# Choose the best tf-idf model\n",
    "X_train_tfidf = X_train_tfidf_1_2\n",
    "X_test_tfidf = X_test_tfidf_1_2"
   ]
  },
  {
   "cell_type": "markdown",
   "id": "f19adc0e-6c5b-4136-9fae-2154333bbc18",
   "metadata": {},
   "source": [
    "# Logistic Regression + Doc2Vec"
   ]
  },
  {
   "cell_type": "code",
   "execution_count": 45,
   "id": "f50e2d3e-91b4-431b-8f9f-66e5bd713059",
   "metadata": {},
   "outputs": [
    {
     "name": "stdout",
     "output_type": "stream",
     "text": [
      "Mean accuracy: 0.5085\n",
      "TP: 1017, FN: 983\n",
      "FP: 0, TN: 0\n",
      "              precision    recall  f1-score   support\n",
      "\n",
      "       False       1.00      0.51      0.67      2000\n",
      "        True       0.00      0.00      0.00         0\n",
      "\n",
      "    accuracy                           0.51      2000\n",
      "   macro avg       0.50      0.25      0.34      2000\n",
      "weighted avg       1.00      0.51      0.67      2000\n",
      "\n"
     ]
    },
    {
     "name": "stderr",
     "output_type": "stream",
     "text": [
      "c:\\users\\yasht\\fakenews\\venv\\lib\\site-packages\\sklearn\\metrics\\_classification.py:1248: UndefinedMetricWarning: Recall and F-score are ill-defined and being set to 0.0 in labels with no true samples. Use `zero_division` parameter to control this behavior.\n",
      "  _warn_prf(average, modifier, msg_start, len(result))\n",
      "c:\\users\\yasht\\fakenews\\venv\\lib\\site-packages\\sklearn\\metrics\\_classification.py:1248: UndefinedMetricWarning: Recall and F-score are ill-defined and being set to 0.0 in labels with no true samples. Use `zero_division` parameter to control this behavior.\n",
      "  _warn_prf(average, modifier, msg_start, len(result))\n",
      "c:\\users\\yasht\\fakenews\\venv\\lib\\site-packages\\sklearn\\metrics\\_classification.py:1248: UndefinedMetricWarning: Recall and F-score are ill-defined and being set to 0.0 in labels with no true samples. Use `zero_division` parameter to control this behavior.\n",
      "  _warn_prf(average, modifier, msg_start, len(result))\n"
     ]
    }
   ],
   "source": [
    "score_classifier(LogisticRegression().fit(X_train_d2vdm, y_train_bi), X_test_d2vdm)"
   ]
  },
  {
   "cell_type": "code",
   "execution_count": 46,
   "id": "c35915c8-24d3-4173-a399-980ad35a9b50",
   "metadata": {},
   "outputs": [
    {
     "name": "stdout",
     "output_type": "stream",
     "text": [
      "Mean accuracy: 0.508\n",
      "TP: 1013, FN: 980\n",
      "FP: 4, TN: 3\n",
      "              precision    recall  f1-score   support\n",
      "\n",
      "       False       1.00      0.51      0.67      1993\n",
      "        True       0.00      0.43      0.01         7\n",
      "\n",
      "    accuracy                           0.51      2000\n",
      "   macro avg       0.50      0.47      0.34      2000\n",
      "weighted avg       0.99      0.51      0.67      2000\n",
      "\n"
     ]
    }
   ],
   "source": [
    "score_classifier(LogisticRegression().fit(X_train_d2vdbow, y_train_bi), X_test_d2vdbow)"
   ]
  },
  {
   "cell_type": "markdown",
   "id": "58e1047c-5dc6-4d2f-9b80-b64d69945e76",
   "metadata": {},
   "source": [
    "# Random forests + tf-idf"
   ]
  },
  {
   "cell_type": "code",
   "execution_count": 47,
   "id": "096ea0d9-3fbd-4548-9be8-7936f17576bb",
   "metadata": {},
   "outputs": [],
   "source": [
    "from sklearn.ensemble import RandomForestClassifier"
   ]
  },
  {
   "cell_type": "code",
   "execution_count": 48,
   "id": "8c9f16b0-7e17-41ab-8c85-608cd915f5a4",
   "metadata": {},
   "outputs": [
    {
     "name": "stdout",
     "output_type": "stream",
     "text": [
      "Mean accuracy: 0.75\n",
      "TP: 634, FN: 117\n",
      "FP: 383, TN: 866\n",
      "              precision    recall  f1-score   support\n",
      "\n",
      "       False       0.62      0.84      0.72       751\n",
      "        True       0.88      0.69      0.78      1249\n",
      "\n",
      "    accuracy                           0.75      2000\n",
      "   macro avg       0.75      0.77      0.75      2000\n",
      "weighted avg       0.78      0.75      0.75      2000\n",
      "\n"
     ]
    }
   ],
   "source": [
    "try_tfidf_classifier(RandomForestClassifier(max_depth=2, random_state=1))"
   ]
  },
  {
   "cell_type": "code",
   "execution_count": 49,
   "id": "ec4b411a-d7d6-4bb5-85e6-f5b55ffb76e4",
   "metadata": {},
   "outputs": [
    {
     "name": "stdout",
     "output_type": "stream",
     "text": [
      "Mean accuracy: 0.78\n",
      "TP: 688, FN: 111\n",
      "FP: 329, TN: 872\n",
      "              precision    recall  f1-score   support\n",
      "\n",
      "       False       0.68      0.86      0.76       799\n",
      "        True       0.89      0.73      0.80      1201\n",
      "\n",
      "    accuracy                           0.78      2000\n",
      "   macro avg       0.78      0.79      0.78      2000\n",
      "weighted avg       0.80      0.78      0.78      2000\n",
      "\n"
     ]
    }
   ],
   "source": [
    "try_tfidf_classifier(RandomForestClassifier(max_depth=3, random_state=1))"
   ]
  },
  {
   "cell_type": "code",
   "execution_count": 50,
   "id": "40dcfe9a-0ec0-458c-abb4-b335b7a4ec66",
   "metadata": {},
   "outputs": [
    {
     "name": "stdout",
     "output_type": "stream",
     "text": [
      "Mean accuracy: 0.79\n",
      "TP: 707, FN: 110\n",
      "FP: 310, TN: 873\n",
      "              precision    recall  f1-score   support\n",
      "\n",
      "       False       0.70      0.87      0.77       817\n",
      "        True       0.89      0.74      0.81      1183\n",
      "\n",
      "    accuracy                           0.79      2000\n",
      "   macro avg       0.79      0.80      0.79      2000\n",
      "weighted avg       0.81      0.79      0.79      2000\n",
      "\n"
     ]
    }
   ],
   "source": [
    "try_tfidf_classifier(RandomForestClassifier(max_depth=5, random_state=1))"
   ]
  },
  {
   "cell_type": "code",
   "execution_count": 51,
   "id": "edd3d151-e5d0-4259-84be-c42730934736",
   "metadata": {},
   "outputs": [
    {
     "name": "stdout",
     "output_type": "stream",
     "text": [
      "Mean accuracy: 0.7955\n",
      "TP: 704, FN: 96\n",
      "FP: 313, TN: 887\n",
      "              precision    recall  f1-score   support\n",
      "\n",
      "       False       0.69      0.88      0.77       800\n",
      "        True       0.90      0.74      0.81      1200\n",
      "\n",
      "    accuracy                           0.80      2000\n",
      "   macro avg       0.80      0.81      0.79      2000\n",
      "weighted avg       0.82      0.80      0.80      2000\n",
      "\n"
     ]
    }
   ],
   "source": [
    "try_tfidf_classifier(RandomForestClassifier(max_depth=5, min_samples_leaf=5, random_state=1))"
   ]
  },
  {
   "cell_type": "code",
   "execution_count": 52,
   "id": "c9bcdef5-2a2b-46e5-ba17-46265897b1f3",
   "metadata": {},
   "outputs": [
    {
     "name": "stdout",
     "output_type": "stream",
     "text": [
      "Mean accuracy: 0.8085\n",
      "TP: 738, FN: 104\n",
      "FP: 279, TN: 879\n",
      "              precision    recall  f1-score   support\n",
      "\n",
      "       False       0.73      0.88      0.79       842\n",
      "        True       0.89      0.76      0.82      1158\n",
      "\n",
      "    accuracy                           0.81      2000\n",
      "   macro avg       0.81      0.82      0.81      2000\n",
      "weighted avg       0.82      0.81      0.81      2000\n",
      "\n"
     ]
    }
   ],
   "source": [
    "try_tfidf_classifier(RandomForestClassifier(max_depth=7, min_samples_leaf=5, n_estimators=200, random_state=1))"
   ]
  },
  {
   "cell_type": "code",
   "execution_count": 53,
   "id": "f44994f0-9ca3-4f7a-b7f8-6ed50d7cde00",
   "metadata": {},
   "outputs": [
    {
     "name": "stdout",
     "output_type": "stream",
     "text": [
      "Mean accuracy: 0.811\n",
      "TP: 760, FN: 121\n",
      "FP: 257, TN: 862\n",
      "              precision    recall  f1-score   support\n",
      "\n",
      "       False       0.75      0.86      0.80       881\n",
      "        True       0.88      0.77      0.82      1119\n",
      "\n",
      "    accuracy                           0.81      2000\n",
      "   macro avg       0.81      0.82      0.81      2000\n",
      "weighted avg       0.82      0.81      0.81      2000\n",
      "\n"
     ]
    }
   ],
   "source": [
    "try_tfidf_classifier(RandomForestClassifier(max_depth=9, min_samples_leaf=5, n_estimators=200, random_state=1))"
   ]
  },
  {
   "cell_type": "code",
   "execution_count": 54,
   "id": "31580933-0885-4609-9fe3-203a38f6feb3",
   "metadata": {},
   "outputs": [
    {
     "name": "stdout",
     "output_type": "stream",
     "text": [
      "Mean accuracy: 0.824\n",
      "TP: 775, FN: 110\n",
      "FP: 242, TN: 873\n",
      "              precision    recall  f1-score   support\n",
      "\n",
      "       False       0.76      0.88      0.81       885\n",
      "        True       0.89      0.78      0.83      1115\n",
      "\n",
      "    accuracy                           0.82      2000\n",
      "   macro avg       0.83      0.83      0.82      2000\n",
      "weighted avg       0.83      0.82      0.82      2000\n",
      "\n"
     ]
    }
   ],
   "source": [
    "try_tfidf_classifier(RandomForestClassifier(max_depth=15, min_samples_leaf=5, n_estimators=300, random_state=1))"
   ]
  },
  {
   "cell_type": "code",
   "execution_count": 55,
   "id": "fbd46799-0d5e-4294-aea6-cb9b3396d067",
   "metadata": {},
   "outputs": [
    {
     "name": "stdout",
     "output_type": "stream",
     "text": [
      "Mean accuracy: 0.825\n",
      "TP: 777, FN: 110\n",
      "FP: 240, TN: 873\n",
      "              precision    recall  f1-score   support\n",
      "\n",
      "       False       0.76      0.88      0.82       887\n",
      "        True       0.89      0.78      0.83      1113\n",
      "\n",
      "    accuracy                           0.82      2000\n",
      "   macro avg       0.83      0.83      0.82      2000\n",
      "weighted avg       0.83      0.82      0.83      2000\n",
      "\n"
     ]
    }
   ],
   "source": [
    "try_tfidf_classifier(RandomForestClassifier(max_depth=15, min_samples_leaf=10, n_estimators=300, random_state=2))"
   ]
  },
  {
   "cell_type": "code",
   "execution_count": 56,
   "id": "bbb5bcfc-952b-483e-9e44-d0d8ee1a2d0b",
   "metadata": {},
   "outputs": [
    {
     "name": "stdout",
     "output_type": "stream",
     "text": [
      "Mean accuracy: 0.825\n",
      "TP: 774, FN: 107\n",
      "FP: 243, TN: 876\n",
      "              precision    recall  f1-score   support\n",
      "\n",
      "       False       0.76      0.88      0.82       881\n",
      "        True       0.89      0.78      0.83      1119\n",
      "\n",
      "    accuracy                           0.82      2000\n",
      "   macro avg       0.83      0.83      0.82      2000\n",
      "weighted avg       0.83      0.82      0.83      2000\n",
      "\n"
     ]
    }
   ],
   "source": [
    "try_tfidf_classifier(RandomForestClassifier(max_depth=15, min_samples_leaf=15, n_estimators=300, random_state=2))"
   ]
  },
  {
   "cell_type": "code",
   "execution_count": 57,
   "id": "5b57736a-b53a-4b91-aa0c-a04b469aeb46",
   "metadata": {},
   "outputs": [
    {
     "name": "stdout",
     "output_type": "stream",
     "text": [
      "Mean accuracy: 0.829\n",
      "TP: 796, FN: 121\n",
      "FP: 221, TN: 862\n"
     ]
    }
   ],
   "source": [
    "try_tfidf_classifier(RandomForestClassifier(max_depth=16, n_estimators=400, random_state=2), big_table=False)"
   ]
  },
  {
   "cell_type": "code",
   "execution_count": 58,
   "id": "40a00cab-c057-4ad8-b051-875b036a15f6",
   "metadata": {},
   "outputs": [
    {
     "name": "stdout",
     "output_type": "stream",
     "text": [
      "Mean accuracy: 0.8385\n",
      "TP: 812, FN: 118\n",
      "FP: 205, TN: 865\n"
     ]
    }
   ],
   "source": [
    "try_tfidf_classifier(RandomForestClassifier(max_depth=20, n_estimators=600, random_state=1), big_table=False)"
   ]
  },
  {
   "cell_type": "code",
   "execution_count": 59,
   "id": "a0639a77-05f1-4e48-a436-6b69ff4f8bc8",
   "metadata": {},
   "outputs": [
    {
     "name": "stdout",
     "output_type": "stream",
     "text": [
      "Mean accuracy: 0.8395\n",
      "TP: 811, FN: 115\n",
      "FP: 206, TN: 868\n"
     ]
    }
   ],
   "source": [
    "try_tfidf_classifier(RandomForestClassifier(max_depth=20, n_estimators=800, random_state=1), big_table=False)"
   ]
  },
  {
   "cell_type": "markdown",
   "id": "74c244f4-af99-477c-8e5a-c49d3d6a0cf9",
   "metadata": {},
   "source": [
    "# Random Forest + Doc2Vec (DM)"
   ]
  },
  {
   "cell_type": "code",
   "execution_count": 60,
   "id": "fbb94dad-50e6-492a-9034-62cc495fffbc",
   "metadata": {},
   "outputs": [
    {
     "name": "stdout",
     "output_type": "stream",
     "text": [
      "Mean accuracy: 0.4915\n",
      "TP: 0, FN: 0\n",
      "FP: 1017, TN: 983\n",
      "              precision    recall  f1-score   support\n",
      "\n",
      "       False       0.00      0.00      0.00         0\n",
      "        True       1.00      0.49      0.66      2000\n",
      "\n",
      "    accuracy                           0.49      2000\n",
      "   macro avg       0.50      0.25      0.33      2000\n",
      "weighted avg       1.00      0.49      0.66      2000\n",
      "\n"
     ]
    },
    {
     "name": "stderr",
     "output_type": "stream",
     "text": [
      "c:\\users\\yasht\\fakenews\\venv\\lib\\site-packages\\sklearn\\metrics\\_classification.py:1248: UndefinedMetricWarning: Recall and F-score are ill-defined and being set to 0.0 in labels with no true samples. Use `zero_division` parameter to control this behavior.\n",
      "  _warn_prf(average, modifier, msg_start, len(result))\n",
      "c:\\users\\yasht\\fakenews\\venv\\lib\\site-packages\\sklearn\\metrics\\_classification.py:1248: UndefinedMetricWarning: Recall and F-score are ill-defined and being set to 0.0 in labels with no true samples. Use `zero_division` parameter to control this behavior.\n",
      "  _warn_prf(average, modifier, msg_start, len(result))\n",
      "c:\\users\\yasht\\fakenews\\venv\\lib\\site-packages\\sklearn\\metrics\\_classification.py:1248: UndefinedMetricWarning: Recall and F-score are ill-defined and being set to 0.0 in labels with no true samples. Use `zero_division` parameter to control this behavior.\n",
      "  _warn_prf(average, modifier, msg_start, len(result))\n"
     ]
    }
   ],
   "source": [
    "try_classifier(, X_train_tfidf, X_test_tfidfRandomForestClassifier(max_depth=2, random_state=1), X_train_d2vdm, X_test_d2vdm)"
   ]
  },
  {
   "cell_type": "code",
   "execution_count": 61,
   "id": "38a241b2-9e4d-4f5c-a3ae-0ebb77eb0077",
   "metadata": {},
   "outputs": [
    {
     "name": "stdout",
     "output_type": "stream",
     "text": [
      "Mean accuracy: 0.503\n",
      "TP: 942, FN: 919\n",
      "FP: 75, TN: 64\n",
      "              precision    recall  f1-score   support\n",
      "\n",
      "       False       0.93      0.51      0.65      1861\n",
      "        True       0.07      0.46      0.11       139\n",
      "\n",
      "    accuracy                           0.50      2000\n",
      "   macro avg       0.50      0.48      0.38      2000\n",
      "weighted avg       0.87      0.50      0.62      2000\n",
      "\n"
     ]
    }
   ],
   "source": [
    "try_classifier(RandomForestClassifier(max_depth=3, random_state=1), X_train_d2vdm, X_test_d2vdm)"
   ]
  },
  {
   "cell_type": "code",
   "execution_count": 62,
   "id": "b7449e82-4f77-4602-98da-7ba2cf2555e7",
   "metadata": {},
   "outputs": [
    {
     "name": "stdout",
     "output_type": "stream",
     "text": [
      "Mean accuracy: 0.5085\n",
      "TP: 1017, FN: 983\n",
      "FP: 0, TN: 0\n",
      "              precision    recall  f1-score   support\n",
      "\n",
      "       False       1.00      0.51      0.67      2000\n",
      "        True       0.00      0.00      0.00         0\n",
      "\n",
      "    accuracy                           0.51      2000\n",
      "   macro avg       0.50      0.25      0.34      2000\n",
      "weighted avg       1.00      0.51      0.67      2000\n",
      "\n"
     ]
    },
    {
     "name": "stderr",
     "output_type": "stream",
     "text": [
      "c:\\users\\yasht\\fakenews\\venv\\lib\\site-packages\\sklearn\\metrics\\_classification.py:1248: UndefinedMetricWarning: Recall and F-score are ill-defined and being set to 0.0 in labels with no true samples. Use `zero_division` parameter to control this behavior.\n",
      "  _warn_prf(average, modifier, msg_start, len(result))\n",
      "c:\\users\\yasht\\fakenews\\venv\\lib\\site-packages\\sklearn\\metrics\\_classification.py:1248: UndefinedMetricWarning: Recall and F-score are ill-defined and being set to 0.0 in labels with no true samples. Use `zero_division` parameter to control this behavior.\n",
      "  _warn_prf(average, modifier, msg_start, len(result))\n",
      "c:\\users\\yasht\\fakenews\\venv\\lib\\site-packages\\sklearn\\metrics\\_classification.py:1248: UndefinedMetricWarning: Recall and F-score are ill-defined and being set to 0.0 in labels with no true samples. Use `zero_division` parameter to control this behavior.\n",
      "  _warn_prf(average, modifier, msg_start, len(result))\n"
     ]
    }
   ],
   "source": [
    "try_classifier(RandomForestClassifier(max_depth=5, random_state=1), X_train_d2vdm, X_test_d2vdm)"
   ]
  },
  {
   "cell_type": "code",
   "execution_count": 63,
   "id": "68e84d66-ac57-4c1d-b40a-154b57d20d89",
   "metadata": {},
   "outputs": [
    {
     "name": "stdout",
     "output_type": "stream",
     "text": [
      "Mean accuracy: 0.4915\n",
      "TP: 0, FN: 0\n",
      "FP: 1017, TN: 983\n",
      "              precision    recall  f1-score   support\n",
      "\n",
      "       False       0.00      0.00      0.00         0\n",
      "        True       1.00      0.49      0.66      2000\n",
      "\n",
      "    accuracy                           0.49      2000\n",
      "   macro avg       0.50      0.25      0.33      2000\n",
      "weighted avg       1.00      0.49      0.66      2000\n",
      "\n"
     ]
    },
    {
     "name": "stderr",
     "output_type": "stream",
     "text": [
      "c:\\users\\yasht\\fakenews\\venv\\lib\\site-packages\\sklearn\\metrics\\_classification.py:1248: UndefinedMetricWarning: Recall and F-score are ill-defined and being set to 0.0 in labels with no true samples. Use `zero_division` parameter to control this behavior.\n",
      "  _warn_prf(average, modifier, msg_start, len(result))\n",
      "c:\\users\\yasht\\fakenews\\venv\\lib\\site-packages\\sklearn\\metrics\\_classification.py:1248: UndefinedMetricWarning: Recall and F-score are ill-defined and being set to 0.0 in labels with no true samples. Use `zero_division` parameter to control this behavior.\n",
      "  _warn_prf(average, modifier, msg_start, len(result))\n",
      "c:\\users\\yasht\\fakenews\\venv\\lib\\site-packages\\sklearn\\metrics\\_classification.py:1248: UndefinedMetricWarning: Recall and F-score are ill-defined and being set to 0.0 in labels with no true samples. Use `zero_division` parameter to control this behavior.\n",
      "  _warn_prf(average, modifier, msg_start, len(result))\n"
     ]
    }
   ],
   "source": [
    "try_classifier(RandomForestClassifier(max_depth=5, min_samples_leaf=5, random_state=1), X_train_d2vdm, X_test_d2vdm)"
   ]
  },
  {
   "cell_type": "code",
   "execution_count": 64,
   "id": "fb9bcb65-620c-4a97-9ecd-7a00bc53afb9",
   "metadata": {},
   "outputs": [
    {
     "name": "stdout",
     "output_type": "stream",
     "text": [
      "Mean accuracy: 0.514\n",
      "TP: 543, FN: 498\n",
      "FP: 474, TN: 485\n",
      "              precision    recall  f1-score   support\n",
      "\n",
      "       False       0.53      0.52      0.53      1041\n",
      "        True       0.49      0.51      0.50       959\n",
      "\n",
      "    accuracy                           0.51      2000\n",
      "   macro avg       0.51      0.51      0.51      2000\n",
      "weighted avg       0.51      0.51      0.51      2000\n",
      "\n"
     ]
    }
   ],
   "source": [
    "try_classifier(RandomForestClassifier(max_depth=7, min_samples_leaf=5, n_estimators=200, random_state=1), X_train_d2vdm, X_test_d2vdm)"
   ]
  },
  {
   "cell_type": "code",
   "execution_count": 65,
   "id": "2f16d7ff-cb82-41e8-91b5-ec99736c98df",
   "metadata": {},
   "outputs": [
    {
     "name": "stdout",
     "output_type": "stream",
     "text": [
      "Mean accuracy: 0.4915\n",
      "TP: 0, FN: 0\n",
      "FP: 1017, TN: 983\n",
      "              precision    recall  f1-score   support\n",
      "\n",
      "       False       0.00      0.00      0.00         0\n",
      "        True       1.00      0.49      0.66      2000\n",
      "\n",
      "    accuracy                           0.49      2000\n",
      "   macro avg       0.50      0.25      0.33      2000\n",
      "weighted avg       1.00      0.49      0.66      2000\n",
      "\n"
     ]
    },
    {
     "name": "stderr",
     "output_type": "stream",
     "text": [
      "c:\\users\\yasht\\fakenews\\venv\\lib\\site-packages\\sklearn\\metrics\\_classification.py:1248: UndefinedMetricWarning: Recall and F-score are ill-defined and being set to 0.0 in labels with no true samples. Use `zero_division` parameter to control this behavior.\n",
      "  _warn_prf(average, modifier, msg_start, len(result))\n",
      "c:\\users\\yasht\\fakenews\\venv\\lib\\site-packages\\sklearn\\metrics\\_classification.py:1248: UndefinedMetricWarning: Recall and F-score are ill-defined and being set to 0.0 in labels with no true samples. Use `zero_division` parameter to control this behavior.\n",
      "  _warn_prf(average, modifier, msg_start, len(result))\n",
      "c:\\users\\yasht\\fakenews\\venv\\lib\\site-packages\\sklearn\\metrics\\_classification.py:1248: UndefinedMetricWarning: Recall and F-score are ill-defined and being set to 0.0 in labels with no true samples. Use `zero_division` parameter to control this behavior.\n",
      "  _warn_prf(average, modifier, msg_start, len(result))\n"
     ]
    }
   ],
   "source": [
    "try_classifier(RandomForestClassifier(max_depth=9, min_samples_leaf=5, n_estimators=200, random_state=1), X_train_d2vdm, X_test_d2vdm)"
   ]
  },
  {
   "cell_type": "code",
   "execution_count": 66,
   "id": "c11be116-acae-48bf-9217-3f3c6f16e2a0",
   "metadata": {},
   "outputs": [
    {
     "name": "stdout",
     "output_type": "stream",
     "text": [
      "Mean accuracy: 0.5085\n",
      "TP: 1017, FN: 983\n",
      "FP: 0, TN: 0\n",
      "              precision    recall  f1-score   support\n",
      "\n",
      "       False       1.00      0.51      0.67      2000\n",
      "        True       0.00      0.00      0.00         0\n",
      "\n",
      "    accuracy                           0.51      2000\n",
      "   macro avg       0.50      0.25      0.34      2000\n",
      "weighted avg       1.00      0.51      0.67      2000\n",
      "\n"
     ]
    },
    {
     "name": "stderr",
     "output_type": "stream",
     "text": [
      "c:\\users\\yasht\\fakenews\\venv\\lib\\site-packages\\sklearn\\metrics\\_classification.py:1248: UndefinedMetricWarning: Recall and F-score are ill-defined and being set to 0.0 in labels with no true samples. Use `zero_division` parameter to control this behavior.\n",
      "  _warn_prf(average, modifier, msg_start, len(result))\n",
      "c:\\users\\yasht\\fakenews\\venv\\lib\\site-packages\\sklearn\\metrics\\_classification.py:1248: UndefinedMetricWarning: Recall and F-score are ill-defined and being set to 0.0 in labels with no true samples. Use `zero_division` parameter to control this behavior.\n",
      "  _warn_prf(average, modifier, msg_start, len(result))\n",
      "c:\\users\\yasht\\fakenews\\venv\\lib\\site-packages\\sklearn\\metrics\\_classification.py:1248: UndefinedMetricWarning: Recall and F-score are ill-defined and being set to 0.0 in labels with no true samples. Use `zero_division` parameter to control this behavior.\n",
      "  _warn_prf(average, modifier, msg_start, len(result))\n"
     ]
    }
   ],
   "source": [
    "try_classifier(RandomForestClassifier(max_depth=15, min_samples_leaf=5, n_estimators=300, random_state=1), X_train_d2vdm, X_test_d2vdm)"
   ]
  },
  {
   "cell_type": "code",
   "execution_count": 67,
   "id": "353f69c6-0ca0-4237-ac6d-d57ae4bd7bf8",
   "metadata": {},
   "outputs": [
    {
     "name": "stdout",
     "output_type": "stream",
     "text": [
      "Mean accuracy: 0.508\n",
      "TP: 1016, FN: 983\n",
      "FP: 1, TN: 0\n",
      "              precision    recall  f1-score   support\n",
      "\n",
      "       False       1.00      0.51      0.67      1999\n",
      "        True       0.00      0.00      0.00         1\n",
      "\n",
      "    accuracy                           0.51      2000\n",
      "   macro avg       0.50      0.25      0.34      2000\n",
      "weighted avg       1.00      0.51      0.67      2000\n",
      "\n"
     ]
    }
   ],
   "source": [
    "try_classifier(RandomForestClassifier(max_depth=15, min_samples_leaf=10, n_estimators=300, random_state=2), X_train_d2vdm, X_test_d2vdm)"
   ]
  },
  {
   "cell_type": "code",
   "execution_count": 68,
   "id": "878a9471-b645-4910-a30d-a6a2c93d5223",
   "metadata": {},
   "outputs": [
    {
     "name": "stdout",
     "output_type": "stream",
     "text": [
      "Mean accuracy: 0.4915\n",
      "TP: 0, FN: 0\n",
      "FP: 1017, TN: 983\n",
      "              precision    recall  f1-score   support\n",
      "\n",
      "       False       0.00      0.00      0.00         0\n",
      "        True       1.00      0.49      0.66      2000\n",
      "\n",
      "    accuracy                           0.49      2000\n",
      "   macro avg       0.50      0.25      0.33      2000\n",
      "weighted avg       1.00      0.49      0.66      2000\n",
      "\n"
     ]
    },
    {
     "name": "stderr",
     "output_type": "stream",
     "text": [
      "c:\\users\\yasht\\fakenews\\venv\\lib\\site-packages\\sklearn\\metrics\\_classification.py:1248: UndefinedMetricWarning: Recall and F-score are ill-defined and being set to 0.0 in labels with no true samples. Use `zero_division` parameter to control this behavior.\n",
      "  _warn_prf(average, modifier, msg_start, len(result))\n",
      "c:\\users\\yasht\\fakenews\\venv\\lib\\site-packages\\sklearn\\metrics\\_classification.py:1248: UndefinedMetricWarning: Recall and F-score are ill-defined and being set to 0.0 in labels with no true samples. Use `zero_division` parameter to control this behavior.\n",
      "  _warn_prf(average, modifier, msg_start, len(result))\n",
      "c:\\users\\yasht\\fakenews\\venv\\lib\\site-packages\\sklearn\\metrics\\_classification.py:1248: UndefinedMetricWarning: Recall and F-score are ill-defined and being set to 0.0 in labels with no true samples. Use `zero_division` parameter to control this behavior.\n",
      "  _warn_prf(average, modifier, msg_start, len(result))\n"
     ]
    }
   ],
   "source": [
    "try_classifier(RandomForestClassifier(max_depth=15, min_samples_leaf=15, n_estimators=300, random_state=2), X_train_d2vdm, X_test_d2vdm)"
   ]
  },
  {
   "cell_type": "code",
   "execution_count": 69,
   "id": "476b71ed-19d4-478c-9bb8-694430604e61",
   "metadata": {},
   "outputs": [
    {
     "name": "stdout",
     "output_type": "stream",
     "text": [
      "Mean accuracy: 0.508\n",
      "TP: 1006, FN: 973\n",
      "FP: 11, TN: 10\n",
      "              precision    recall  f1-score   support\n",
      "\n",
      "       False       0.99      0.51      0.67      1979\n",
      "        True       0.01      0.48      0.02        21\n",
      "\n",
      "    accuracy                           0.51      2000\n",
      "   macro avg       0.50      0.49      0.35      2000\n",
      "weighted avg       0.98      0.51      0.66      2000\n",
      "\n"
     ]
    }
   ],
   "source": [
    "try_classifier(RandomForestClassifier(max_depth=16, n_estimators=400, random_state=2), X_train_d2vdm, X_test_d2vdm)"
   ]
  },
  {
   "cell_type": "code",
   "execution_count": 70,
   "id": "cad04ba7-11bc-40ca-b44e-8c82d9366b05",
   "metadata": {},
   "outputs": [
    {
     "name": "stdout",
     "output_type": "stream",
     "text": [
      "Mean accuracy: 0.4915\n",
      "TP: 0, FN: 0\n",
      "FP: 1017, TN: 983\n",
      "              precision    recall  f1-score   support\n",
      "\n",
      "       False       0.00      0.00      0.00         0\n",
      "        True       1.00      0.49      0.66      2000\n",
      "\n",
      "    accuracy                           0.49      2000\n",
      "   macro avg       0.50      0.25      0.33      2000\n",
      "weighted avg       1.00      0.49      0.66      2000\n",
      "\n"
     ]
    },
    {
     "name": "stderr",
     "output_type": "stream",
     "text": [
      "c:\\users\\yasht\\fakenews\\venv\\lib\\site-packages\\sklearn\\metrics\\_classification.py:1248: UndefinedMetricWarning: Recall and F-score are ill-defined and being set to 0.0 in labels with no true samples. Use `zero_division` parameter to control this behavior.\n",
      "  _warn_prf(average, modifier, msg_start, len(result))\n",
      "c:\\users\\yasht\\fakenews\\venv\\lib\\site-packages\\sklearn\\metrics\\_classification.py:1248: UndefinedMetricWarning: Recall and F-score are ill-defined and being set to 0.0 in labels with no true samples. Use `zero_division` parameter to control this behavior.\n",
      "  _warn_prf(average, modifier, msg_start, len(result))\n",
      "c:\\users\\yasht\\fakenews\\venv\\lib\\site-packages\\sklearn\\metrics\\_classification.py:1248: UndefinedMetricWarning: Recall and F-score are ill-defined and being set to 0.0 in labels with no true samples. Use `zero_division` parameter to control this behavior.\n",
      "  _warn_prf(average, modifier, msg_start, len(result))\n"
     ]
    }
   ],
   "source": [
    "try_classifier(RandomForestClassifier(max_depth=20, n_estimators=600, random_state=1), X_train_d2vdm, X_test_d2vdm)"
   ]
  },
  {
   "cell_type": "code",
   "execution_count": 71,
   "id": "480d9ae4-8d46-48a8-9555-529446ae10ce",
   "metadata": {},
   "outputs": [
    {
     "name": "stdout",
     "output_type": "stream",
     "text": [
      "Mean accuracy: 0.4915\n",
      "TP: 0, FN: 0\n",
      "FP: 1017, TN: 983\n",
      "              precision    recall  f1-score   support\n",
      "\n",
      "       False       0.00      0.00      0.00         0\n",
      "        True       1.00      0.49      0.66      2000\n",
      "\n",
      "    accuracy                           0.49      2000\n",
      "   macro avg       0.50      0.25      0.33      2000\n",
      "weighted avg       1.00      0.49      0.66      2000\n",
      "\n"
     ]
    },
    {
     "name": "stderr",
     "output_type": "stream",
     "text": [
      "c:\\users\\yasht\\fakenews\\venv\\lib\\site-packages\\sklearn\\metrics\\_classification.py:1248: UndefinedMetricWarning: Recall and F-score are ill-defined and being set to 0.0 in labels with no true samples. Use `zero_division` parameter to control this behavior.\n",
      "  _warn_prf(average, modifier, msg_start, len(result))\n",
      "c:\\users\\yasht\\fakenews\\venv\\lib\\site-packages\\sklearn\\metrics\\_classification.py:1248: UndefinedMetricWarning: Recall and F-score are ill-defined and being set to 0.0 in labels with no true samples. Use `zero_division` parameter to control this behavior.\n",
      "  _warn_prf(average, modifier, msg_start, len(result))\n",
      "c:\\users\\yasht\\fakenews\\venv\\lib\\site-packages\\sklearn\\metrics\\_classification.py:1248: UndefinedMetricWarning: Recall and F-score are ill-defined and being set to 0.0 in labels with no true samples. Use `zero_division` parameter to control this behavior.\n",
      "  _warn_prf(average, modifier, msg_start, len(result))\n"
     ]
    }
   ],
   "source": [
    "try_classifier(RandomForestClassifier(max_depth=20, n_estimators=800, random_state=1), X_train_d2vdm, X_test_d2vdm)"
   ]
  },
  {
   "cell_type": "markdown",
   "id": "100c0656-3a7f-4d5f-95de-3201b1502391",
   "metadata": {},
   "source": [
    "# Random Forest + Doc2Vec (DBOW)"
   ]
  },
  {
   "cell_type": "code",
   "execution_count": 99,
   "id": "5cd4a851-f6d9-44f3-a44f-95b017943ec4",
   "metadata": {},
   "outputs": [
    {
     "name": "stdout",
     "output_type": "stream",
     "text": [
      "Mean accuracy: 0.5085\n",
      "TP: 1017, FN: 983\n",
      "FP: 0, TN: 0\n",
      "              precision    recall  f1-score   support\n",
      "\n",
      "       False       1.00      0.51      0.67      2000\n",
      "        True       0.00      0.00      0.00         0\n",
      "\n",
      "    accuracy                           0.51      2000\n",
      "   macro avg       0.50      0.25      0.34      2000\n",
      "weighted avg       1.00      0.51      0.67      2000\n",
      "\n"
     ]
    },
    {
     "name": "stderr",
     "output_type": "stream",
     "text": [
      "c:\\users\\yasht\\fakenews\\venv\\lib\\site-packages\\sklearn\\metrics\\_classification.py:1248: UndefinedMetricWarning: Recall and F-score are ill-defined and being set to 0.0 in labels with no true samples. Use `zero_division` parameter to control this behavior.\n",
      "  _warn_prf(average, modifier, msg_start, len(result))\n",
      "c:\\users\\yasht\\fakenews\\venv\\lib\\site-packages\\sklearn\\metrics\\_classification.py:1248: UndefinedMetricWarning: Recall and F-score are ill-defined and being set to 0.0 in labels with no true samples. Use `zero_division` parameter to control this behavior.\n",
      "  _warn_prf(average, modifier, msg_start, len(result))\n",
      "c:\\users\\yasht\\fakenews\\venv\\lib\\site-packages\\sklearn\\metrics\\_classification.py:1248: UndefinedMetricWarning: Recall and F-score are ill-defined and being set to 0.0 in labels with no true samples. Use `zero_division` parameter to control this behavior.\n",
      "  _warn_prf(average, modifier, msg_start, len(result))\n"
     ]
    }
   ],
   "source": [
    "try_classifier(RandomForestClassifier(max_depth=2, random_state=1), X_train_d2vdbow, X_test_d2vdbow)"
   ]
  },
  {
   "cell_type": "code",
   "execution_count": 100,
   "id": "e7d87556-e89b-487c-9e05-c964503d49f6",
   "metadata": {},
   "outputs": [
    {
     "name": "stdout",
     "output_type": "stream",
     "text": [
      "Mean accuracy: 0.5085\n",
      "TP: 1017, FN: 983\n",
      "FP: 0, TN: 0\n",
      "              precision    recall  f1-score   support\n",
      "\n",
      "       False       1.00      0.51      0.67      2000\n",
      "        True       0.00      0.00      0.00         0\n",
      "\n",
      "    accuracy                           0.51      2000\n",
      "   macro avg       0.50      0.25      0.34      2000\n",
      "weighted avg       1.00      0.51      0.67      2000\n",
      "\n"
     ]
    },
    {
     "name": "stderr",
     "output_type": "stream",
     "text": [
      "c:\\users\\yasht\\fakenews\\venv\\lib\\site-packages\\sklearn\\metrics\\_classification.py:1248: UndefinedMetricWarning: Recall and F-score are ill-defined and being set to 0.0 in labels with no true samples. Use `zero_division` parameter to control this behavior.\n",
      "  _warn_prf(average, modifier, msg_start, len(result))\n",
      "c:\\users\\yasht\\fakenews\\venv\\lib\\site-packages\\sklearn\\metrics\\_classification.py:1248: UndefinedMetricWarning: Recall and F-score are ill-defined and being set to 0.0 in labels with no true samples. Use `zero_division` parameter to control this behavior.\n",
      "  _warn_prf(average, modifier, msg_start, len(result))\n",
      "c:\\users\\yasht\\fakenews\\venv\\lib\\site-packages\\sklearn\\metrics\\_classification.py:1248: UndefinedMetricWarning: Recall and F-score are ill-defined and being set to 0.0 in labels with no true samples. Use `zero_division` parameter to control this behavior.\n",
      "  _warn_prf(average, modifier, msg_start, len(result))\n"
     ]
    }
   ],
   "source": [
    "try_classifier(RandomForestClassifier(max_depth=3, random_state=1), X_train_d2vdbow, X_test_d2vdbow)"
   ]
  },
  {
   "cell_type": "code",
   "execution_count": 101,
   "id": "2c9e3a74-a2d6-4e78-91f6-3ad35eda84b2",
   "metadata": {},
   "outputs": [
    {
     "name": "stdout",
     "output_type": "stream",
     "text": [
      "Mean accuracy: 0.5085\n",
      "TP: 1017, FN: 983\n",
      "FP: 0, TN: 0\n",
      "              precision    recall  f1-score   support\n",
      "\n",
      "       False       1.00      0.51      0.67      2000\n",
      "        True       0.00      0.00      0.00         0\n",
      "\n",
      "    accuracy                           0.51      2000\n",
      "   macro avg       0.50      0.25      0.34      2000\n",
      "weighted avg       1.00      0.51      0.67      2000\n",
      "\n"
     ]
    },
    {
     "name": "stderr",
     "output_type": "stream",
     "text": [
      "c:\\users\\yasht\\fakenews\\venv\\lib\\site-packages\\sklearn\\metrics\\_classification.py:1248: UndefinedMetricWarning: Recall and F-score are ill-defined and being set to 0.0 in labels with no true samples. Use `zero_division` parameter to control this behavior.\n",
      "  _warn_prf(average, modifier, msg_start, len(result))\n",
      "c:\\users\\yasht\\fakenews\\venv\\lib\\site-packages\\sklearn\\metrics\\_classification.py:1248: UndefinedMetricWarning: Recall and F-score are ill-defined and being set to 0.0 in labels with no true samples. Use `zero_division` parameter to control this behavior.\n",
      "  _warn_prf(average, modifier, msg_start, len(result))\n",
      "c:\\users\\yasht\\fakenews\\venv\\lib\\site-packages\\sklearn\\metrics\\_classification.py:1248: UndefinedMetricWarning: Recall and F-score are ill-defined and being set to 0.0 in labels with no true samples. Use `zero_division` parameter to control this behavior.\n",
      "  _warn_prf(average, modifier, msg_start, len(result))\n"
     ]
    }
   ],
   "source": [
    "try_classifier(RandomForestClassifier(max_depth=5, random_state=1), X_train_d2vdbow, X_test_d2vdbow)"
   ]
  },
  {
   "cell_type": "code",
   "execution_count": 102,
   "id": "78ee127c-c993-4080-929a-6d5ee4a6a8eb",
   "metadata": {},
   "outputs": [
    {
     "name": "stdout",
     "output_type": "stream",
     "text": [
      "Mean accuracy: 0.5085\n",
      "TP: 1017, FN: 983\n",
      "FP: 0, TN: 0\n",
      "              precision    recall  f1-score   support\n",
      "\n",
      "       False       1.00      0.51      0.67      2000\n",
      "        True       0.00      0.00      0.00         0\n",
      "\n",
      "    accuracy                           0.51      2000\n",
      "   macro avg       0.50      0.25      0.34      2000\n",
      "weighted avg       1.00      0.51      0.67      2000\n",
      "\n"
     ]
    },
    {
     "name": "stderr",
     "output_type": "stream",
     "text": [
      "c:\\users\\yasht\\fakenews\\venv\\lib\\site-packages\\sklearn\\metrics\\_classification.py:1248: UndefinedMetricWarning: Recall and F-score are ill-defined and being set to 0.0 in labels with no true samples. Use `zero_division` parameter to control this behavior.\n",
      "  _warn_prf(average, modifier, msg_start, len(result))\n",
      "c:\\users\\yasht\\fakenews\\venv\\lib\\site-packages\\sklearn\\metrics\\_classification.py:1248: UndefinedMetricWarning: Recall and F-score are ill-defined and being set to 0.0 in labels with no true samples. Use `zero_division` parameter to control this behavior.\n",
      "  _warn_prf(average, modifier, msg_start, len(result))\n",
      "c:\\users\\yasht\\fakenews\\venv\\lib\\site-packages\\sklearn\\metrics\\_classification.py:1248: UndefinedMetricWarning: Recall and F-score are ill-defined and being set to 0.0 in labels with no true samples. Use `zero_division` parameter to control this behavior.\n",
      "  _warn_prf(average, modifier, msg_start, len(result))\n"
     ]
    }
   ],
   "source": [
    "try_classifier(RandomForestClassifier(max_depth=5, min_samples_leaf=5, random_state=1), X_train_d2vdbow, X_test_d2vdbow)"
   ]
  },
  {
   "cell_type": "code",
   "execution_count": 103,
   "id": "28db6e71-1096-4afe-8d07-161153224e11",
   "metadata": {},
   "outputs": [
    {
     "name": "stdout",
     "output_type": "stream",
     "text": [
      "Mean accuracy: 0.5085\n",
      "TP: 1017, FN: 983\n",
      "FP: 0, TN: 0\n",
      "              precision    recall  f1-score   support\n",
      "\n",
      "       False       1.00      0.51      0.67      2000\n",
      "        True       0.00      0.00      0.00         0\n",
      "\n",
      "    accuracy                           0.51      2000\n",
      "   macro avg       0.50      0.25      0.34      2000\n",
      "weighted avg       1.00      0.51      0.67      2000\n",
      "\n"
     ]
    },
    {
     "name": "stderr",
     "output_type": "stream",
     "text": [
      "c:\\users\\yasht\\fakenews\\venv\\lib\\site-packages\\sklearn\\metrics\\_classification.py:1248: UndefinedMetricWarning: Recall and F-score are ill-defined and being set to 0.0 in labels with no true samples. Use `zero_division` parameter to control this behavior.\n",
      "  _warn_prf(average, modifier, msg_start, len(result))\n",
      "c:\\users\\yasht\\fakenews\\venv\\lib\\site-packages\\sklearn\\metrics\\_classification.py:1248: UndefinedMetricWarning: Recall and F-score are ill-defined and being set to 0.0 in labels with no true samples. Use `zero_division` parameter to control this behavior.\n",
      "  _warn_prf(average, modifier, msg_start, len(result))\n",
      "c:\\users\\yasht\\fakenews\\venv\\lib\\site-packages\\sklearn\\metrics\\_classification.py:1248: UndefinedMetricWarning: Recall and F-score are ill-defined and being set to 0.0 in labels with no true samples. Use `zero_division` parameter to control this behavior.\n",
      "  _warn_prf(average, modifier, msg_start, len(result))\n"
     ]
    }
   ],
   "source": [
    "try_classifier(RandomForestClassifier(max_depth=7, min_samples_leaf=5, n_estimators=200, random_state=1), X_train_d2vdbow, X_test_d2vdbow)"
   ]
  },
  {
   "cell_type": "code",
   "execution_count": 104,
   "id": "cd23288f-ab81-4f69-b912-11c5c0107876",
   "metadata": {},
   "outputs": [
    {
     "name": "stdout",
     "output_type": "stream",
     "text": [
      "Mean accuracy: 0.5085\n",
      "TP: 1017, FN: 983\n",
      "FP: 0, TN: 0\n",
      "              precision    recall  f1-score   support\n",
      "\n",
      "       False       1.00      0.51      0.67      2000\n",
      "        True       0.00      0.00      0.00         0\n",
      "\n",
      "    accuracy                           0.51      2000\n",
      "   macro avg       0.50      0.25      0.34      2000\n",
      "weighted avg       1.00      0.51      0.67      2000\n",
      "\n"
     ]
    },
    {
     "name": "stderr",
     "output_type": "stream",
     "text": [
      "c:\\users\\yasht\\fakenews\\venv\\lib\\site-packages\\sklearn\\metrics\\_classification.py:1248: UndefinedMetricWarning: Recall and F-score are ill-defined and being set to 0.0 in labels with no true samples. Use `zero_division` parameter to control this behavior.\n",
      "  _warn_prf(average, modifier, msg_start, len(result))\n",
      "c:\\users\\yasht\\fakenews\\venv\\lib\\site-packages\\sklearn\\metrics\\_classification.py:1248: UndefinedMetricWarning: Recall and F-score are ill-defined and being set to 0.0 in labels with no true samples. Use `zero_division` parameter to control this behavior.\n",
      "  _warn_prf(average, modifier, msg_start, len(result))\n",
      "c:\\users\\yasht\\fakenews\\venv\\lib\\site-packages\\sklearn\\metrics\\_classification.py:1248: UndefinedMetricWarning: Recall and F-score are ill-defined and being set to 0.0 in labels with no true samples. Use `zero_division` parameter to control this behavior.\n",
      "  _warn_prf(average, modifier, msg_start, len(result))\n"
     ]
    }
   ],
   "source": [
    "try_classifier(RandomForestClassifier(max_depth=9, min_samples_leaf=5, n_estimators=200, random_state=1), X_train_d2vdbow, X_test_d2vdbow)"
   ]
  },
  {
   "cell_type": "code",
   "execution_count": 105,
   "id": "5fa9c889-830a-4045-b4ce-6210b0963d9f",
   "metadata": {},
   "outputs": [
    {
     "name": "stdout",
     "output_type": "stream",
     "text": [
      "Mean accuracy: 0.5085\n",
      "TP: 1017, FN: 983\n",
      "FP: 0, TN: 0\n",
      "              precision    recall  f1-score   support\n",
      "\n",
      "       False       1.00      0.51      0.67      2000\n",
      "        True       0.00      0.00      0.00         0\n",
      "\n",
      "    accuracy                           0.51      2000\n",
      "   macro avg       0.50      0.25      0.34      2000\n",
      "weighted avg       1.00      0.51      0.67      2000\n",
      "\n"
     ]
    },
    {
     "name": "stderr",
     "output_type": "stream",
     "text": [
      "c:\\users\\yasht\\fakenews\\venv\\lib\\site-packages\\sklearn\\metrics\\_classification.py:1248: UndefinedMetricWarning: Recall and F-score are ill-defined and being set to 0.0 in labels with no true samples. Use `zero_division` parameter to control this behavior.\n",
      "  _warn_prf(average, modifier, msg_start, len(result))\n",
      "c:\\users\\yasht\\fakenews\\venv\\lib\\site-packages\\sklearn\\metrics\\_classification.py:1248: UndefinedMetricWarning: Recall and F-score are ill-defined and being set to 0.0 in labels with no true samples. Use `zero_division` parameter to control this behavior.\n",
      "  _warn_prf(average, modifier, msg_start, len(result))\n",
      "c:\\users\\yasht\\fakenews\\venv\\lib\\site-packages\\sklearn\\metrics\\_classification.py:1248: UndefinedMetricWarning: Recall and F-score are ill-defined and being set to 0.0 in labels with no true samples. Use `zero_division` parameter to control this behavior.\n",
      "  _warn_prf(average, modifier, msg_start, len(result))\n"
     ]
    }
   ],
   "source": [
    "try_classifier(RandomForestClassifier(max_depth=15, min_samples_leaf=5, n_estimators=300, random_state=1), X_train_d2vdbow, X_test_d2vdbow)"
   ]
  },
  {
   "cell_type": "code",
   "execution_count": 106,
   "id": "010f4d49-ff33-4e7c-8f97-fe60c401630a",
   "metadata": {},
   "outputs": [
    {
     "name": "stdout",
     "output_type": "stream",
     "text": [
      "Mean accuracy: 0.509\n",
      "TP: 1016, FN: 981\n",
      "FP: 1, TN: 2\n",
      "              precision    recall  f1-score   support\n",
      "\n",
      "       False       1.00      0.51      0.67      1997\n",
      "        True       0.00      0.67      0.00         3\n",
      "\n",
      "    accuracy                           0.51      2000\n",
      "   macro avg       0.50      0.59      0.34      2000\n",
      "weighted avg       1.00      0.51      0.67      2000\n",
      "\n"
     ]
    }
   ],
   "source": [
    "try_classifier(RandomForestClassifier(max_depth=15, min_samples_leaf=10, n_estimators=300, random_state=2), X_train_d2vdbow, X_test_d2vdbow)"
   ]
  },
  {
   "cell_type": "code",
   "execution_count": 107,
   "id": "172945e2-21e9-4485-b67e-46e429ac24a8",
   "metadata": {},
   "outputs": [
    {
     "name": "stdout",
     "output_type": "stream",
     "text": [
      "Mean accuracy: 0.5075\n",
      "TP: 996, FN: 964\n",
      "FP: 21, TN: 19\n",
      "              precision    recall  f1-score   support\n",
      "\n",
      "       False       0.98      0.51      0.67      1960\n",
      "        True       0.02      0.47      0.04        40\n",
      "\n",
      "    accuracy                           0.51      2000\n",
      "   macro avg       0.50      0.49      0.35      2000\n",
      "weighted avg       0.96      0.51      0.66      2000\n",
      "\n"
     ]
    }
   ],
   "source": [
    "try_classifier(RandomForestClassifier(max_depth=15, min_samples_leaf=15, n_estimators=300, random_state=2), X_train_d2vdbow, X_test_d2vdbow)"
   ]
  },
  {
   "cell_type": "code",
   "execution_count": 108,
   "id": "20e4095d-dd19-4f68-b2a8-a913e832e7e8",
   "metadata": {},
   "outputs": [
    {
     "name": "stdout",
     "output_type": "stream",
     "text": [
      "Mean accuracy: 0.5085\n",
      "TP: 1017, FN: 983\n",
      "FP: 0, TN: 0\n",
      "              precision    recall  f1-score   support\n",
      "\n",
      "       False       1.00      0.51      0.67      2000\n",
      "        True       0.00      0.00      0.00         0\n",
      "\n",
      "    accuracy                           0.51      2000\n",
      "   macro avg       0.50      0.25      0.34      2000\n",
      "weighted avg       1.00      0.51      0.67      2000\n",
      "\n"
     ]
    },
    {
     "name": "stderr",
     "output_type": "stream",
     "text": [
      "c:\\users\\yasht\\fakenews\\venv\\lib\\site-packages\\sklearn\\metrics\\_classification.py:1248: UndefinedMetricWarning: Recall and F-score are ill-defined and being set to 0.0 in labels with no true samples. Use `zero_division` parameter to control this behavior.\n",
      "  _warn_prf(average, modifier, msg_start, len(result))\n",
      "c:\\users\\yasht\\fakenews\\venv\\lib\\site-packages\\sklearn\\metrics\\_classification.py:1248: UndefinedMetricWarning: Recall and F-score are ill-defined and being set to 0.0 in labels with no true samples. Use `zero_division` parameter to control this behavior.\n",
      "  _warn_prf(average, modifier, msg_start, len(result))\n",
      "c:\\users\\yasht\\fakenews\\venv\\lib\\site-packages\\sklearn\\metrics\\_classification.py:1248: UndefinedMetricWarning: Recall and F-score are ill-defined and being set to 0.0 in labels with no true samples. Use `zero_division` parameter to control this behavior.\n",
      "  _warn_prf(average, modifier, msg_start, len(result))\n"
     ]
    }
   ],
   "source": [
    "try_classifier(RandomForestClassifier(max_depth=16, n_estimators=400, random_state=2), X_train_d2vdbow, X_test_d2vdbow)"
   ]
  },
  {
   "cell_type": "code",
   "execution_count": 109,
   "id": "fe6dcba4-8d08-4728-89c5-ceb64ab77636",
   "metadata": {},
   "outputs": [
    {
     "name": "stdout",
     "output_type": "stream",
     "text": [
      "Mean accuracy: 0.5085\n",
      "TP: 1017, FN: 983\n",
      "FP: 0, TN: 0\n",
      "              precision    recall  f1-score   support\n",
      "\n",
      "       False       1.00      0.51      0.67      2000\n",
      "        True       0.00      0.00      0.00         0\n",
      "\n",
      "    accuracy                           0.51      2000\n",
      "   macro avg       0.50      0.25      0.34      2000\n",
      "weighted avg       1.00      0.51      0.67      2000\n",
      "\n"
     ]
    },
    {
     "name": "stderr",
     "output_type": "stream",
     "text": [
      "c:\\users\\yasht\\fakenews\\venv\\lib\\site-packages\\sklearn\\metrics\\_classification.py:1248: UndefinedMetricWarning: Recall and F-score are ill-defined and being set to 0.0 in labels with no true samples. Use `zero_division` parameter to control this behavior.\n",
      "  _warn_prf(average, modifier, msg_start, len(result))\n",
      "c:\\users\\yasht\\fakenews\\venv\\lib\\site-packages\\sklearn\\metrics\\_classification.py:1248: UndefinedMetricWarning: Recall and F-score are ill-defined and being set to 0.0 in labels with no true samples. Use `zero_division` parameter to control this behavior.\n",
      "  _warn_prf(average, modifier, msg_start, len(result))\n",
      "c:\\users\\yasht\\fakenews\\venv\\lib\\site-packages\\sklearn\\metrics\\_classification.py:1248: UndefinedMetricWarning: Recall and F-score are ill-defined and being set to 0.0 in labels with no true samples. Use `zero_division` parameter to control this behavior.\n",
      "  _warn_prf(average, modifier, msg_start, len(result))\n"
     ]
    }
   ],
   "source": [
    "try_classifier(RandomForestClassifier(max_depth=20, n_estimators=600, random_state=1), X_train_d2vdbow, X_test_d2vdbow)"
   ]
  },
  {
   "cell_type": "code",
   "execution_count": 110,
   "id": "040d2d87-a4db-4f8f-bd5d-1b2a5f54de37",
   "metadata": {},
   "outputs": [
    {
     "name": "stdout",
     "output_type": "stream",
     "text": [
      "Mean accuracy: 0.5085\n",
      "TP: 1017, FN: 983\n",
      "FP: 0, TN: 0\n",
      "              precision    recall  f1-score   support\n",
      "\n",
      "       False       1.00      0.51      0.67      2000\n",
      "        True       0.00      0.00      0.00         0\n",
      "\n",
      "    accuracy                           0.51      2000\n",
      "   macro avg       0.50      0.25      0.34      2000\n",
      "weighted avg       1.00      0.51      0.67      2000\n",
      "\n"
     ]
    },
    {
     "name": "stderr",
     "output_type": "stream",
     "text": [
      "c:\\users\\yasht\\fakenews\\venv\\lib\\site-packages\\sklearn\\metrics\\_classification.py:1248: UndefinedMetricWarning: Recall and F-score are ill-defined and being set to 0.0 in labels with no true samples. Use `zero_division` parameter to control this behavior.\n",
      "  _warn_prf(average, modifier, msg_start, len(result))\n",
      "c:\\users\\yasht\\fakenews\\venv\\lib\\site-packages\\sklearn\\metrics\\_classification.py:1248: UndefinedMetricWarning: Recall and F-score are ill-defined and being set to 0.0 in labels with no true samples. Use `zero_division` parameter to control this behavior.\n",
      "  _warn_prf(average, modifier, msg_start, len(result))\n",
      "c:\\users\\yasht\\fakenews\\venv\\lib\\site-packages\\sklearn\\metrics\\_classification.py:1248: UndefinedMetricWarning: Recall and F-score are ill-defined and being set to 0.0 in labels with no true samples. Use `zero_division` parameter to control this behavior.\n",
      "  _warn_prf(average, modifier, msg_start, len(result))\n"
     ]
    }
   ],
   "source": [
    "try_classifier(RandomForestClassifier(max_depth=20, n_estimators=800, random_state=1), X_train_d2vdbow, X_test_d2vdbow)"
   ]
  },
  {
   "cell_type": "markdown",
   "id": "d40b148b-8235-48b2-9e6e-1fa02f46f342",
   "metadata": {},
   "source": [
    "# SVM + tf-idf"
   ]
  },
  {
   "cell_type": "code",
   "execution_count": 94,
   "id": "9f46061c-1f57-4979-ad58-c23f020835ef",
   "metadata": {},
   "outputs": [
    {
     "name": "stdout",
     "output_type": "stream",
     "text": [
      "Mean accuracy: 0.8675\n",
      "TP: 855, FN: 103\n",
      "FP: 162, TN: 880\n",
      "              precision    recall  f1-score   support\n",
      "\n",
      "       False       0.84      0.89      0.87       958\n",
      "        True       0.90      0.84      0.87      1042\n",
      "\n",
      "    accuracy                           0.87      2000\n",
      "   macro avg       0.87      0.87      0.87      2000\n",
      "weighted avg       0.87      0.87      0.87      2000\n",
      "\n"
     ]
    }
   ],
   "source": [
    "try_classifier(SVC(kernel='linear', random_state=1), X_train_tfidf, X_test_tfidf)"
   ]
  },
  {
   "cell_type": "code",
   "execution_count": 95,
   "id": "23d219c0-4357-4ce9-ac25-44bc465046f0",
   "metadata": {},
   "outputs": [
    {
     "name": "stdout",
     "output_type": "stream",
     "text": [
      "Mean accuracy: 0.874\n",
      "TP: 851, FN: 86\n",
      "FP: 166, TN: 897\n",
      "              precision    recall  f1-score   support\n",
      "\n",
      "       False       0.84      0.91      0.87       937\n",
      "        True       0.91      0.84      0.88      1063\n",
      "\n",
      "    accuracy                           0.87      2000\n",
      "   macro avg       0.87      0.88      0.87      2000\n",
      "weighted avg       0.88      0.87      0.87      2000\n",
      "\n"
     ]
    }
   ],
   "source": [
    "try_classifier(SVC(kernel='rbf', random_state=1), X_train_tfidf, X_test_tfidf)"
   ]
  },
  {
   "cell_type": "code",
   "execution_count": 96,
   "id": "b8d85e78-643a-48ed-95b2-552c03bc349b",
   "metadata": {},
   "outputs": [
    {
     "name": "stdout",
     "output_type": "stream",
     "text": [
      "Mean accuracy: 0.8595\n",
      "TP: 831, FN: 95\n",
      "FP: 186, TN: 888\n",
      "              precision    recall  f1-score   support\n",
      "\n",
      "       False       0.82      0.90      0.86       926\n",
      "        True       0.90      0.83      0.86      1074\n",
      "\n",
      "    accuracy                           0.86      2000\n",
      "   macro avg       0.86      0.86      0.86      2000\n",
      "weighted avg       0.86      0.86      0.86      2000\n",
      "\n"
     ]
    }
   ],
   "source": [
    "try_classifier(SVC(kernel='poly', degree=2, random_state=1), X_train_tfidf, X_test_tfidf)"
   ]
  },
  {
   "cell_type": "code",
   "execution_count": 97,
   "id": "13394743-ffa2-4ff7-81ba-bf7cdedca439",
   "metadata": {},
   "outputs": [
    {
     "name": "stdout",
     "output_type": "stream",
     "text": [
      "Mean accuracy: 0.824\n",
      "TP: 833, FN: 168\n",
      "FP: 184, TN: 815\n",
      "              precision    recall  f1-score   support\n",
      "\n",
      "       False       0.82      0.83      0.83      1001\n",
      "        True       0.83      0.82      0.82       999\n",
      "\n",
      "    accuracy                           0.82      2000\n",
      "   macro avg       0.82      0.82      0.82      2000\n",
      "weighted avg       0.82      0.82      0.82      2000\n",
      "\n"
     ]
    }
   ],
   "source": [
    "try_classifier(SVC(kernel='poly', degree=3, random_state=1), X_train_tfidf, X_test_tfidf)"
   ]
  },
  {
   "cell_type": "code",
   "execution_count": 98,
   "id": "1ce56aec-dd04-43cd-b2e9-338ed652537b",
   "metadata": {},
   "outputs": [
    {
     "name": "stdout",
     "output_type": "stream",
     "text": [
      "Mean accuracy: 0.868\n",
      "TP: 854, FN: 101\n",
      "FP: 163, TN: 882\n",
      "              precision    recall  f1-score   support\n",
      "\n",
      "       False       0.84      0.89      0.87       955\n",
      "        True       0.90      0.84      0.87      1045\n",
      "\n",
      "    accuracy                           0.87      2000\n",
      "   macro avg       0.87      0.87      0.87      2000\n",
      "weighted avg       0.87      0.87      0.87      2000\n",
      "\n"
     ]
    }
   ],
   "source": [
    "try_classifier(SVC(kernel='sigmoid', random_state=1), X_train_tfidf, X_test_tfidf)"
   ]
  },
  {
   "cell_type": "code",
   "execution_count": 73,
   "id": "579b65ea-da69-45d6-acdd-d312c6c935ea",
   "metadata": {},
   "outputs": [
    {
     "name": "stderr",
     "output_type": "stream",
     "text": [
      "c:\\users\\yasht\\fakenews\\venv\\lib\\site-packages\\sklearn\\svm\\_base.py:255: ConvergenceWarning: Solver terminated early (max_iter=1000).  Consider pre-processing your data with StandardScaler or MinMaxScaler.\n",
      "  warnings.warn('Solver terminated early (max_iter=%i).'\n"
     ]
    },
    {
     "name": "stdout",
     "output_type": "stream",
     "text": [
      "Mean accuracy: 0.8405\n",
      "TP: 829, FN: 131\n",
      "FP: 188, TN: 852\n",
      "              precision    recall  f1-score   support\n",
      "\n",
      "       False       0.82      0.86      0.84       960\n",
      "        True       0.87      0.82      0.84      1040\n",
      "\n",
      "    accuracy                           0.84      2000\n",
      "   macro avg       0.84      0.84      0.84      2000\n",
      "weighted avg       0.84      0.84      0.84      2000\n",
      "\n"
     ]
    }
   ],
   "source": [
    "try_classifier(SVC(kernel='linear', max_iter=1000, random_state=1), X_train_tfidf, X_test_tfidf)"
   ]
  },
  {
   "cell_type": "code",
   "execution_count": 75,
   "id": "6d699104-b447-494f-93d1-7e61dd972fc0",
   "metadata": {},
   "outputs": [
    {
     "name": "stderr",
     "output_type": "stream",
     "text": [
      "c:\\users\\yasht\\fakenews\\venv\\lib\\site-packages\\sklearn\\svm\\_base.py:255: ConvergenceWarning: Solver terminated early (max_iter=1000).  Consider pre-processing your data with StandardScaler or MinMaxScaler.\n",
      "  warnings.warn('Solver terminated early (max_iter=%i).'\n"
     ]
    },
    {
     "name": "stdout",
     "output_type": "stream",
     "text": [
      "Mean accuracy: 0.84\n",
      "TP: 821, FN: 124\n",
      "FP: 196, TN: 859\n",
      "              precision    recall  f1-score   support\n",
      "\n",
      "       False       0.81      0.87      0.84       945\n",
      "        True       0.87      0.81      0.84      1055\n",
      "\n",
      "    accuracy                           0.84      2000\n",
      "   macro avg       0.84      0.84      0.84      2000\n",
      "weighted avg       0.84      0.84      0.84      2000\n",
      "\n"
     ]
    }
   ],
   "source": [
    "try_classifier(SVC(kernel='rbf', max_iter=1000, random_state=1), X_train_tfidf, X_test_tfidf)"
   ]
  },
  {
   "cell_type": "code",
   "execution_count": 76,
   "id": "bfca8944-2f9f-45d7-8d69-a660f1830fd1",
   "metadata": {},
   "outputs": [
    {
     "name": "stderr",
     "output_type": "stream",
     "text": [
      "c:\\users\\yasht\\fakenews\\venv\\lib\\site-packages\\sklearn\\svm\\_base.py:255: ConvergenceWarning: Solver terminated early (max_iter=1000).  Consider pre-processing your data with StandardScaler or MinMaxScaler.\n",
      "  warnings.warn('Solver terminated early (max_iter=%i).'\n"
     ]
    },
    {
     "name": "stdout",
     "output_type": "stream",
     "text": [
      "Mean accuracy: 0.8225\n",
      "TP: 809, FN: 147\n",
      "FP: 208, TN: 836\n",
      "              precision    recall  f1-score   support\n",
      "\n",
      "       False       0.80      0.85      0.82       956\n",
      "        True       0.85      0.80      0.82      1044\n",
      "\n",
      "    accuracy                           0.82      2000\n",
      "   macro avg       0.82      0.82      0.82      2000\n",
      "weighted avg       0.82      0.82      0.82      2000\n",
      "\n"
     ]
    }
   ],
   "source": [
    "try_classifier(SVC(kernel='poly', degree=2, max_iter=1000, random_state=1), X_train_tfidf, X_test_tfidf)"
   ]
  },
  {
   "cell_type": "code",
   "execution_count": 77,
   "id": "5468816d-6185-418b-b9e5-c77babf36f5d",
   "metadata": {},
   "outputs": [
    {
     "name": "stderr",
     "output_type": "stream",
     "text": [
      "c:\\users\\yasht\\fakenews\\venv\\lib\\site-packages\\sklearn\\svm\\_base.py:255: ConvergenceWarning: Solver terminated early (max_iter=1000).  Consider pre-processing your data with StandardScaler or MinMaxScaler.\n",
      "  warnings.warn('Solver terminated early (max_iter=%i).'\n"
     ]
    },
    {
     "name": "stdout",
     "output_type": "stream",
     "text": [
      "Mean accuracy: 0.7385\n",
      "TP: 601, FN: 107\n",
      "FP: 416, TN: 876\n",
      "              precision    recall  f1-score   support\n",
      "\n",
      "       False       0.59      0.85      0.70       708\n",
      "        True       0.89      0.68      0.77      1292\n",
      "\n",
      "    accuracy                           0.74      2000\n",
      "   macro avg       0.74      0.76      0.73      2000\n",
      "weighted avg       0.78      0.74      0.74      2000\n",
      "\n"
     ]
    }
   ],
   "source": [
    "try_classifier(SVC(kernel='poly', degree=3, max_iter=1000, random_state=1), X_train_tfidf, X_test_tfidf)"
   ]
  },
  {
   "cell_type": "code",
   "execution_count": 78,
   "id": "41e72aee-52dc-42c9-b2a4-acbaff71b25c",
   "metadata": {},
   "outputs": [
    {
     "name": "stderr",
     "output_type": "stream",
     "text": [
      "c:\\users\\yasht\\fakenews\\venv\\lib\\site-packages\\sklearn\\svm\\_base.py:255: ConvergenceWarning: Solver terminated early (max_iter=1000).  Consider pre-processing your data with StandardScaler or MinMaxScaler.\n",
      "  warnings.warn('Solver terminated early (max_iter=%i).'\n"
     ]
    },
    {
     "name": "stdout",
     "output_type": "stream",
     "text": [
      "Mean accuracy: 0.592\n",
      "TP: 283, FN: 82\n",
      "FP: 734, TN: 901\n",
      "              precision    recall  f1-score   support\n",
      "\n",
      "       False       0.28      0.78      0.41       365\n",
      "        True       0.92      0.55      0.69      1635\n",
      "\n",
      "    accuracy                           0.59      2000\n",
      "   macro avg       0.60      0.66      0.55      2000\n",
      "weighted avg       0.80      0.59      0.64      2000\n",
      "\n"
     ]
    }
   ],
   "source": [
    "try_classifier(SVC(kernel='poly', degree=4, max_iter=1000, random_state=1), X_train_tfidf, X_test_tfidf)"
   ]
  },
  {
   "cell_type": "code",
   "execution_count": 79,
   "id": "b28b19d1-cf49-4d7b-8450-4efb6213b8a2",
   "metadata": {},
   "outputs": [
    {
     "name": "stderr",
     "output_type": "stream",
     "text": [
      "c:\\users\\yasht\\fakenews\\venv\\lib\\site-packages\\sklearn\\svm\\_base.py:255: ConvergenceWarning: Solver terminated early (max_iter=1000).  Consider pre-processing your data with StandardScaler or MinMaxScaler.\n",
      "  warnings.warn('Solver terminated early (max_iter=%i).'\n"
     ]
    },
    {
     "name": "stdout",
     "output_type": "stream",
     "text": [
      "Mean accuracy: 0.8375\n",
      "TP: 848, FN: 156\n",
      "FP: 169, TN: 827\n",
      "              precision    recall  f1-score   support\n",
      "\n",
      "       False       0.83      0.84      0.84      1004\n",
      "        True       0.84      0.83      0.84       996\n",
      "\n",
      "    accuracy                           0.84      2000\n",
      "   macro avg       0.84      0.84      0.84      2000\n",
      "weighted avg       0.84      0.84      0.84      2000\n",
      "\n"
     ]
    }
   ],
   "source": [
    "try_classifier(SVC(kernel='sigmoid', max_iter=1000, random_state=1), X_train_tfidf, X_test_tfidf)"
   ]
  },
  {
   "cell_type": "markdown",
   "id": "8c0791f8-f42b-4261-9242-f9ba1c0df343",
   "metadata": {},
   "source": [
    "# SVM + Doc2Vec (DM)"
   ]
  },
  {
   "cell_type": "code",
   "execution_count": 127,
   "id": "8ebd8ad2-4a0b-4631-a098-ef7f5768d7c0",
   "metadata": {},
   "outputs": [
    {
     "name": "stdout",
     "output_type": "stream",
     "text": [
      "Mean accuracy: 0.5085\n",
      "TP: 1017, FN: 983\n",
      "FP: 0, TN: 0\n",
      "              precision    recall  f1-score   support\n",
      "\n",
      "       False       1.00      0.51      0.67      2000\n",
      "        True       0.00      0.00      0.00         0\n",
      "\n",
      "    accuracy                           0.51      2000\n",
      "   macro avg       0.50      0.25      0.34      2000\n",
      "weighted avg       1.00      0.51      0.67      2000\n",
      "\n"
     ]
    },
    {
     "name": "stderr",
     "output_type": "stream",
     "text": [
      "c:\\users\\yasht\\fakenews\\venv\\lib\\site-packages\\sklearn\\metrics\\_classification.py:1248: UndefinedMetricWarning: Recall and F-score are ill-defined and being set to 0.0 in labels with no true samples. Use `zero_division` parameter to control this behavior.\n",
      "  _warn_prf(average, modifier, msg_start, len(result))\n",
      "c:\\users\\yasht\\fakenews\\venv\\lib\\site-packages\\sklearn\\metrics\\_classification.py:1248: UndefinedMetricWarning: Recall and F-score are ill-defined and being set to 0.0 in labels with no true samples. Use `zero_division` parameter to control this behavior.\n",
      "  _warn_prf(average, modifier, msg_start, len(result))\n",
      "c:\\users\\yasht\\fakenews\\venv\\lib\\site-packages\\sklearn\\metrics\\_classification.py:1248: UndefinedMetricWarning: Recall and F-score are ill-defined and being set to 0.0 in labels with no true samples. Use `zero_division` parameter to control this behavior.\n",
      "  _warn_prf(average, modifier, msg_start, len(result))\n"
     ]
    }
   ],
   "source": [
    "try_classifier(SVC(kernel='linear', max_iter=-1, random_state=1), X_train_d2vdm, X_test_d2vdm)"
   ]
  },
  {
   "cell_type": "code",
   "execution_count": 128,
   "id": "af297dd7-9d3e-4fbc-a4de-8caf1d4a25f1",
   "metadata": {},
   "outputs": [
    {
     "name": "stdout",
     "output_type": "stream",
     "text": [
      "Mean accuracy: 0.5085\n",
      "TP: 1017, FN: 983\n",
      "FP: 0, TN: 0\n",
      "              precision    recall  f1-score   support\n",
      "\n",
      "       False       1.00      0.51      0.67      2000\n",
      "        True       0.00      0.00      0.00         0\n",
      "\n",
      "    accuracy                           0.51      2000\n",
      "   macro avg       0.50      0.25      0.34      2000\n",
      "weighted avg       1.00      0.51      0.67      2000\n",
      "\n"
     ]
    },
    {
     "name": "stderr",
     "output_type": "stream",
     "text": [
      "c:\\users\\yasht\\fakenews\\venv\\lib\\site-packages\\sklearn\\metrics\\_classification.py:1248: UndefinedMetricWarning: Recall and F-score are ill-defined and being set to 0.0 in labels with no true samples. Use `zero_division` parameter to control this behavior.\n",
      "  _warn_prf(average, modifier, msg_start, len(result))\n",
      "c:\\users\\yasht\\fakenews\\venv\\lib\\site-packages\\sklearn\\metrics\\_classification.py:1248: UndefinedMetricWarning: Recall and F-score are ill-defined and being set to 0.0 in labels with no true samples. Use `zero_division` parameter to control this behavior.\n",
      "  _warn_prf(average, modifier, msg_start, len(result))\n",
      "c:\\users\\yasht\\fakenews\\venv\\lib\\site-packages\\sklearn\\metrics\\_classification.py:1248: UndefinedMetricWarning: Recall and F-score are ill-defined and being set to 0.0 in labels with no true samples. Use `zero_division` parameter to control this behavior.\n",
      "  _warn_prf(average, modifier, msg_start, len(result))\n"
     ]
    }
   ],
   "source": [
    "try_classifier(SVC(kernel='rbf', max_iter=-1, random_state=1), X_train_d2vdm, X_test_d2vdm)"
   ]
  },
  {
   "cell_type": "code",
   "execution_count": 129,
   "id": "c59ca35f-90f2-4984-b91f-5b8d12028604",
   "metadata": {},
   "outputs": [
    {
     "name": "stdout",
     "output_type": "stream",
     "text": [
      "Mean accuracy: 0.5085\n",
      "TP: 1017, FN: 983\n",
      "FP: 0, TN: 0\n",
      "              precision    recall  f1-score   support\n",
      "\n",
      "       False       1.00      0.51      0.67      2000\n",
      "        True       0.00      0.00      0.00         0\n",
      "\n",
      "    accuracy                           0.51      2000\n",
      "   macro avg       0.50      0.25      0.34      2000\n",
      "weighted avg       1.00      0.51      0.67      2000\n",
      "\n"
     ]
    },
    {
     "name": "stderr",
     "output_type": "stream",
     "text": [
      "c:\\users\\yasht\\fakenews\\venv\\lib\\site-packages\\sklearn\\metrics\\_classification.py:1248: UndefinedMetricWarning: Recall and F-score are ill-defined and being set to 0.0 in labels with no true samples. Use `zero_division` parameter to control this behavior.\n",
      "  _warn_prf(average, modifier, msg_start, len(result))\n",
      "c:\\users\\yasht\\fakenews\\venv\\lib\\site-packages\\sklearn\\metrics\\_classification.py:1248: UndefinedMetricWarning: Recall and F-score are ill-defined and being set to 0.0 in labels with no true samples. Use `zero_division` parameter to control this behavior.\n",
      "  _warn_prf(average, modifier, msg_start, len(result))\n",
      "c:\\users\\yasht\\fakenews\\venv\\lib\\site-packages\\sklearn\\metrics\\_classification.py:1248: UndefinedMetricWarning: Recall and F-score are ill-defined and being set to 0.0 in labels with no true samples. Use `zero_division` parameter to control this behavior.\n",
      "  _warn_prf(average, modifier, msg_start, len(result))\n"
     ]
    }
   ],
   "source": [
    "try_classifier(SVC(kernel='poly', degree=2, max_iter=-1, random_state=1), X_train_d2vdm, X_test_d2vdm)"
   ]
  },
  {
   "cell_type": "code",
   "execution_count": 123,
   "id": "2ddd530d-566a-418d-8f7b-b58cad151255",
   "metadata": {},
   "outputs": [
    {
     "name": "stdout",
     "output_type": "stream",
     "text": [
      "Mean accuracy: 0.5085\n",
      "TP: 1017, FN: 983\n",
      "FP: 0, TN: 0\n",
      "              precision    recall  f1-score   support\n",
      "\n",
      "       False       1.00      0.51      0.67      2000\n",
      "        True       0.00      0.00      0.00         0\n",
      "\n",
      "    accuracy                           0.51      2000\n",
      "   macro avg       0.50      0.25      0.34      2000\n",
      "weighted avg       1.00      0.51      0.67      2000\n",
      "\n"
     ]
    },
    {
     "name": "stderr",
     "output_type": "stream",
     "text": [
      "c:\\users\\yasht\\fakenews\\venv\\lib\\site-packages\\sklearn\\metrics\\_classification.py:1248: UndefinedMetricWarning: Recall and F-score are ill-defined and being set to 0.0 in labels with no true samples. Use `zero_division` parameter to control this behavior.\n",
      "  _warn_prf(average, modifier, msg_start, len(result))\n",
      "c:\\users\\yasht\\fakenews\\venv\\lib\\site-packages\\sklearn\\metrics\\_classification.py:1248: UndefinedMetricWarning: Recall and F-score are ill-defined and being set to 0.0 in labels with no true samples. Use `zero_division` parameter to control this behavior.\n",
      "  _warn_prf(average, modifier, msg_start, len(result))\n",
      "c:\\users\\yasht\\fakenews\\venv\\lib\\site-packages\\sklearn\\metrics\\_classification.py:1248: UndefinedMetricWarning: Recall and F-score are ill-defined and being set to 0.0 in labels with no true samples. Use `zero_division` parameter to control this behavior.\n",
      "  _warn_prf(average, modifier, msg_start, len(result))\n"
     ]
    }
   ],
   "source": [
    "try_classifier(SVC(kernel='poly', degree=3, max_iter=-1, random_state=1), X_train_d2vdm, X_test_d2vdm)"
   ]
  },
  {
   "cell_type": "code",
   "execution_count": 122,
   "id": "8b05ff4f-bb58-49a4-924e-59631a9f08ed",
   "metadata": {},
   "outputs": [
    {
     "name": "stdout",
     "output_type": "stream",
     "text": [
      "Mean accuracy: 0.5085\n",
      "TP: 1017, FN: 983\n",
      "FP: 0, TN: 0\n",
      "              precision    recall  f1-score   support\n",
      "\n",
      "       False       1.00      0.51      0.67      2000\n",
      "        True       0.00      0.00      0.00         0\n",
      "\n",
      "    accuracy                           0.51      2000\n",
      "   macro avg       0.50      0.25      0.34      2000\n",
      "weighted avg       1.00      0.51      0.67      2000\n",
      "\n"
     ]
    },
    {
     "name": "stderr",
     "output_type": "stream",
     "text": [
      "c:\\users\\yasht\\fakenews\\venv\\lib\\site-packages\\sklearn\\metrics\\_classification.py:1248: UndefinedMetricWarning: Recall and F-score are ill-defined and being set to 0.0 in labels with no true samples. Use `zero_division` parameter to control this behavior.\n",
      "  _warn_prf(average, modifier, msg_start, len(result))\n",
      "c:\\users\\yasht\\fakenews\\venv\\lib\\site-packages\\sklearn\\metrics\\_classification.py:1248: UndefinedMetricWarning: Recall and F-score are ill-defined and being set to 0.0 in labels with no true samples. Use `zero_division` parameter to control this behavior.\n",
      "  _warn_prf(average, modifier, msg_start, len(result))\n",
      "c:\\users\\yasht\\fakenews\\venv\\lib\\site-packages\\sklearn\\metrics\\_classification.py:1248: UndefinedMetricWarning: Recall and F-score are ill-defined and being set to 0.0 in labels with no true samples. Use `zero_division` parameter to control this behavior.\n",
      "  _warn_prf(average, modifier, msg_start, len(result))\n"
     ]
    }
   ],
   "source": [
    "try_classifier(SVC(kernel='poly', degree=4, max_iter=-1, random_state=1), X_train_d2vdm, X_test_d2vdm)"
   ]
  },
  {
   "cell_type": "code",
   "execution_count": 121,
   "id": "e84a03f8-84e9-4be6-87fe-ed61bf75dc20",
   "metadata": {},
   "outputs": [
    {
     "name": "stdout",
     "output_type": "stream",
     "text": [
      "Mean accuracy: 0.5085\n",
      "TP: 1017, FN: 983\n",
      "FP: 0, TN: 0\n",
      "              precision    recall  f1-score   support\n",
      "\n",
      "       False       1.00      0.51      0.67      2000\n",
      "        True       0.00      0.00      0.00         0\n",
      "\n",
      "    accuracy                           0.51      2000\n",
      "   macro avg       0.50      0.25      0.34      2000\n",
      "weighted avg       1.00      0.51      0.67      2000\n",
      "\n"
     ]
    },
    {
     "name": "stderr",
     "output_type": "stream",
     "text": [
      "c:\\users\\yasht\\fakenews\\venv\\lib\\site-packages\\sklearn\\metrics\\_classification.py:1248: UndefinedMetricWarning: Recall and F-score are ill-defined and being set to 0.0 in labels with no true samples. Use `zero_division` parameter to control this behavior.\n",
      "  _warn_prf(average, modifier, msg_start, len(result))\n",
      "c:\\users\\yasht\\fakenews\\venv\\lib\\site-packages\\sklearn\\metrics\\_classification.py:1248: UndefinedMetricWarning: Recall and F-score are ill-defined and being set to 0.0 in labels with no true samples. Use `zero_division` parameter to control this behavior.\n",
      "  _warn_prf(average, modifier, msg_start, len(result))\n",
      "c:\\users\\yasht\\fakenews\\venv\\lib\\site-packages\\sklearn\\metrics\\_classification.py:1248: UndefinedMetricWarning: Recall and F-score are ill-defined and being set to 0.0 in labels with no true samples. Use `zero_division` parameter to control this behavior.\n",
      "  _warn_prf(average, modifier, msg_start, len(result))\n"
     ]
    }
   ],
   "source": [
    "try_classifier(SVC(kernel='sigmoid', max_iter=-1, random_state=1), X_train_d2vdm, X_test_d2vdm)"
   ]
  },
  {
   "cell_type": "markdown",
   "id": "b8af4d02-7778-4169-a055-5764cae2ad24",
   "metadata": {},
   "source": [
    "# SVM + Doc2Vec (DBOW)"
   ]
  },
  {
   "cell_type": "code",
   "execution_count": 130,
   "id": "44d5a790-f3ec-474e-abee-a43f2b34ee16",
   "metadata": {},
   "outputs": [
    {
     "name": "stdout",
     "output_type": "stream",
     "text": [
      "Mean accuracy: 0.5085\n",
      "TP: 1017, FN: 983\n",
      "FP: 0, TN: 0\n",
      "              precision    recall  f1-score   support\n",
      "\n",
      "       False       1.00      0.51      0.67      2000\n",
      "        True       0.00      0.00      0.00         0\n",
      "\n",
      "    accuracy                           0.51      2000\n",
      "   macro avg       0.50      0.25      0.34      2000\n",
      "weighted avg       1.00      0.51      0.67      2000\n",
      "\n"
     ]
    },
    {
     "name": "stderr",
     "output_type": "stream",
     "text": [
      "c:\\users\\yasht\\fakenews\\venv\\lib\\site-packages\\sklearn\\metrics\\_classification.py:1248: UndefinedMetricWarning: Recall and F-score are ill-defined and being set to 0.0 in labels with no true samples. Use `zero_division` parameter to control this behavior.\n",
      "  _warn_prf(average, modifier, msg_start, len(result))\n",
      "c:\\users\\yasht\\fakenews\\venv\\lib\\site-packages\\sklearn\\metrics\\_classification.py:1248: UndefinedMetricWarning: Recall and F-score are ill-defined and being set to 0.0 in labels with no true samples. Use `zero_division` parameter to control this behavior.\n",
      "  _warn_prf(average, modifier, msg_start, len(result))\n",
      "c:\\users\\yasht\\fakenews\\venv\\lib\\site-packages\\sklearn\\metrics\\_classification.py:1248: UndefinedMetricWarning: Recall and F-score are ill-defined and being set to 0.0 in labels with no true samples. Use `zero_division` parameter to control this behavior.\n",
      "  _warn_prf(average, modifier, msg_start, len(result))\n"
     ]
    }
   ],
   "source": [
    "try_classifier(SVC(kernel='linear', max_iter=-1, random_state=1), X_train_d2vdbow, X_test_d2vdbow)"
   ]
  },
  {
   "cell_type": "code",
   "execution_count": 131,
   "id": "d8d2f7de-cd27-45ed-a737-afc165e2d7ab",
   "metadata": {},
   "outputs": [
    {
     "name": "stdout",
     "output_type": "stream",
     "text": [
      "Mean accuracy: 0.5085\n",
      "TP: 1017, FN: 983\n",
      "FP: 0, TN: 0\n",
      "              precision    recall  f1-score   support\n",
      "\n",
      "       False       1.00      0.51      0.67      2000\n",
      "        True       0.00      0.00      0.00         0\n",
      "\n",
      "    accuracy                           0.51      2000\n",
      "   macro avg       0.50      0.25      0.34      2000\n",
      "weighted avg       1.00      0.51      0.67      2000\n",
      "\n"
     ]
    },
    {
     "name": "stderr",
     "output_type": "stream",
     "text": [
      "c:\\users\\yasht\\fakenews\\venv\\lib\\site-packages\\sklearn\\metrics\\_classification.py:1248: UndefinedMetricWarning: Recall and F-score are ill-defined and being set to 0.0 in labels with no true samples. Use `zero_division` parameter to control this behavior.\n",
      "  _warn_prf(average, modifier, msg_start, len(result))\n",
      "c:\\users\\yasht\\fakenews\\venv\\lib\\site-packages\\sklearn\\metrics\\_classification.py:1248: UndefinedMetricWarning: Recall and F-score are ill-defined and being set to 0.0 in labels with no true samples. Use `zero_division` parameter to control this behavior.\n",
      "  _warn_prf(average, modifier, msg_start, len(result))\n",
      "c:\\users\\yasht\\fakenews\\venv\\lib\\site-packages\\sklearn\\metrics\\_classification.py:1248: UndefinedMetricWarning: Recall and F-score are ill-defined and being set to 0.0 in labels with no true samples. Use `zero_division` parameter to control this behavior.\n",
      "  _warn_prf(average, modifier, msg_start, len(result))\n"
     ]
    }
   ],
   "source": [
    "try_classifier(SVC(kernel='rbf', max_iter=-1, random_state=1), X_train_d2vdbow, X_test_d2vdbow)"
   ]
  },
  {
   "cell_type": "code",
   "execution_count": 132,
   "id": "5d861aea-3d07-4547-8023-c0bac8a96a3b",
   "metadata": {},
   "outputs": [
    {
     "name": "stdout",
     "output_type": "stream",
     "text": [
      "Mean accuracy: 0.5085\n",
      "TP: 1017, FN: 983\n",
      "FP: 0, TN: 0\n",
      "              precision    recall  f1-score   support\n",
      "\n",
      "       False       1.00      0.51      0.67      2000\n",
      "        True       0.00      0.00      0.00         0\n",
      "\n",
      "    accuracy                           0.51      2000\n",
      "   macro avg       0.50      0.25      0.34      2000\n",
      "weighted avg       1.00      0.51      0.67      2000\n",
      "\n"
     ]
    },
    {
     "name": "stderr",
     "output_type": "stream",
     "text": [
      "c:\\users\\yasht\\fakenews\\venv\\lib\\site-packages\\sklearn\\metrics\\_classification.py:1248: UndefinedMetricWarning: Recall and F-score are ill-defined and being set to 0.0 in labels with no true samples. Use `zero_division` parameter to control this behavior.\n",
      "  _warn_prf(average, modifier, msg_start, len(result))\n",
      "c:\\users\\yasht\\fakenews\\venv\\lib\\site-packages\\sklearn\\metrics\\_classification.py:1248: UndefinedMetricWarning: Recall and F-score are ill-defined and being set to 0.0 in labels with no true samples. Use `zero_division` parameter to control this behavior.\n",
      "  _warn_prf(average, modifier, msg_start, len(result))\n",
      "c:\\users\\yasht\\fakenews\\venv\\lib\\site-packages\\sklearn\\metrics\\_classification.py:1248: UndefinedMetricWarning: Recall and F-score are ill-defined and being set to 0.0 in labels with no true samples. Use `zero_division` parameter to control this behavior.\n",
      "  _warn_prf(average, modifier, msg_start, len(result))\n"
     ]
    }
   ],
   "source": [
    "try_classifier(SVC(kernel='poly', degree=2, max_iter=-1, random_state=1), X_train_d2vdbow, X_test_d2vdbow)"
   ]
  },
  {
   "cell_type": "code",
   "execution_count": 133,
   "id": "62d03bc3-887f-4eab-8738-c14900321367",
   "metadata": {},
   "outputs": [
    {
     "name": "stdout",
     "output_type": "stream",
     "text": [
      "Mean accuracy: 0.5085\n",
      "TP: 1017, FN: 983\n",
      "FP: 0, TN: 0\n",
      "              precision    recall  f1-score   support\n",
      "\n",
      "       False       1.00      0.51      0.67      2000\n",
      "        True       0.00      0.00      0.00         0\n",
      "\n",
      "    accuracy                           0.51      2000\n",
      "   macro avg       0.50      0.25      0.34      2000\n",
      "weighted avg       1.00      0.51      0.67      2000\n",
      "\n"
     ]
    },
    {
     "name": "stderr",
     "output_type": "stream",
     "text": [
      "c:\\users\\yasht\\fakenews\\venv\\lib\\site-packages\\sklearn\\metrics\\_classification.py:1248: UndefinedMetricWarning: Recall and F-score are ill-defined and being set to 0.0 in labels with no true samples. Use `zero_division` parameter to control this behavior.\n",
      "  _warn_prf(average, modifier, msg_start, len(result))\n",
      "c:\\users\\yasht\\fakenews\\venv\\lib\\site-packages\\sklearn\\metrics\\_classification.py:1248: UndefinedMetricWarning: Recall and F-score are ill-defined and being set to 0.0 in labels with no true samples. Use `zero_division` parameter to control this behavior.\n",
      "  _warn_prf(average, modifier, msg_start, len(result))\n",
      "c:\\users\\yasht\\fakenews\\venv\\lib\\site-packages\\sklearn\\metrics\\_classification.py:1248: UndefinedMetricWarning: Recall and F-score are ill-defined and being set to 0.0 in labels with no true samples. Use `zero_division` parameter to control this behavior.\n",
      "  _warn_prf(average, modifier, msg_start, len(result))\n"
     ]
    }
   ],
   "source": [
    "try_classifier(SVC(kernel='poly', degree=3, max_iter=-1, random_state=1), X_train_d2vdbow, X_test_d2vdbow)"
   ]
  },
  {
   "cell_type": "code",
   "execution_count": 134,
   "id": "b643e80e-29cd-427c-931f-779986a1e3ba",
   "metadata": {},
   "outputs": [
    {
     "name": "stdout",
     "output_type": "stream",
     "text": [
      "Mean accuracy: 0.5085\n",
      "TP: 1017, FN: 983\n",
      "FP: 0, TN: 0\n",
      "              precision    recall  f1-score   support\n",
      "\n",
      "       False       1.00      0.51      0.67      2000\n",
      "        True       0.00      0.00      0.00         0\n",
      "\n",
      "    accuracy                           0.51      2000\n",
      "   macro avg       0.50      0.25      0.34      2000\n",
      "weighted avg       1.00      0.51      0.67      2000\n",
      "\n"
     ]
    },
    {
     "name": "stderr",
     "output_type": "stream",
     "text": [
      "c:\\users\\yasht\\fakenews\\venv\\lib\\site-packages\\sklearn\\metrics\\_classification.py:1248: UndefinedMetricWarning: Recall and F-score are ill-defined and being set to 0.0 in labels with no true samples. Use `zero_division` parameter to control this behavior.\n",
      "  _warn_prf(average, modifier, msg_start, len(result))\n",
      "c:\\users\\yasht\\fakenews\\venv\\lib\\site-packages\\sklearn\\metrics\\_classification.py:1248: UndefinedMetricWarning: Recall and F-score are ill-defined and being set to 0.0 in labels with no true samples. Use `zero_division` parameter to control this behavior.\n",
      "  _warn_prf(average, modifier, msg_start, len(result))\n",
      "c:\\users\\yasht\\fakenews\\venv\\lib\\site-packages\\sklearn\\metrics\\_classification.py:1248: UndefinedMetricWarning: Recall and F-score are ill-defined and being set to 0.0 in labels with no true samples. Use `zero_division` parameter to control this behavior.\n",
      "  _warn_prf(average, modifier, msg_start, len(result))\n"
     ]
    }
   ],
   "source": [
    "try_classifier(SVC(kernel='poly', degree=4, max_iter=-1, random_state=1), X_train_d2vdbow, X_test_d2vdbow)"
   ]
  },
  {
   "cell_type": "code",
   "execution_count": 135,
   "id": "b2f8fe38-0dce-4658-b276-197d21279818",
   "metadata": {},
   "outputs": [
    {
     "name": "stdout",
     "output_type": "stream",
     "text": [
      "Mean accuracy: 0.5085\n",
      "TP: 1017, FN: 983\n",
      "FP: 0, TN: 0\n",
      "              precision    recall  f1-score   support\n",
      "\n",
      "       False       1.00      0.51      0.67      2000\n",
      "        True       0.00      0.00      0.00         0\n",
      "\n",
      "    accuracy                           0.51      2000\n",
      "   macro avg       0.50      0.25      0.34      2000\n",
      "weighted avg       1.00      0.51      0.67      2000\n",
      "\n"
     ]
    },
    {
     "name": "stderr",
     "output_type": "stream",
     "text": [
      "c:\\users\\yasht\\fakenews\\venv\\lib\\site-packages\\sklearn\\metrics\\_classification.py:1248: UndefinedMetricWarning: Recall and F-score are ill-defined and being set to 0.0 in labels with no true samples. Use `zero_division` parameter to control this behavior.\n",
      "  _warn_prf(average, modifier, msg_start, len(result))\n",
      "c:\\users\\yasht\\fakenews\\venv\\lib\\site-packages\\sklearn\\metrics\\_classification.py:1248: UndefinedMetricWarning: Recall and F-score are ill-defined and being set to 0.0 in labels with no true samples. Use `zero_division` parameter to control this behavior.\n",
      "  _warn_prf(average, modifier, msg_start, len(result))\n",
      "c:\\users\\yasht\\fakenews\\venv\\lib\\site-packages\\sklearn\\metrics\\_classification.py:1248: UndefinedMetricWarning: Recall and F-score are ill-defined and being set to 0.0 in labels with no true samples. Use `zero_division` parameter to control this behavior.\n",
      "  _warn_prf(average, modifier, msg_start, len(result))\n"
     ]
    }
   ],
   "source": [
    "try_classifier(SVC(kernel='sigmoid', max_iter=-1, random_state=1), X_train_d2vdbow, X_test_d2vdbow)"
   ]
  },
  {
   "cell_type": "markdown",
   "id": "08a40a66-05ac-4598-b66a-82fd51bf4f1e",
   "metadata": {},
   "source": [
    "# Extra Trees + tf-idf"
   ]
  },
  {
   "cell_type": "code",
   "execution_count": 80,
   "id": "93ccbd7f-53ce-4506-9467-cdf8bb2e85bb",
   "metadata": {},
   "outputs": [],
   "source": [
    "from sklearn.ensemble import ExtraTreesClassifier"
   ]
  },
  {
   "cell_type": "code",
   "execution_count": 81,
   "id": "89aa9ffd-38d3-4cd3-ae31-a7eb7b4414a5",
   "metadata": {},
   "outputs": [
    {
     "name": "stdout",
     "output_type": "stream",
     "text": [
      "Mean accuracy: 0.7625\n",
      "TP: 636, FN: 94\n",
      "FP: 381, TN: 889\n",
      "              precision    recall  f1-score   support\n",
      "\n",
      "       False       0.63      0.87      0.73       730\n",
      "        True       0.90      0.70      0.79      1270\n",
      "\n",
      "    accuracy                           0.76      2000\n",
      "   macro avg       0.76      0.79      0.76      2000\n",
      "weighted avg       0.80      0.76      0.77      2000\n",
      "\n"
     ]
    }
   ],
   "source": [
    "try_classifier(ExtraTreesClassifier(max_depth=5, n_estimators=100, random_state=1), X_train_tfidf, X_test_tfidf)"
   ]
  },
  {
   "cell_type": "code",
   "execution_count": 82,
   "id": "c221ef02-37fd-40fe-9e7d-037167bb7058",
   "metadata": {},
   "outputs": [
    {
     "name": "stdout",
     "output_type": "stream",
     "text": [
      "Mean accuracy: 0.8035\n",
      "TP: 720, FN: 96\n",
      "FP: 297, TN: 887\n",
      "              precision    recall  f1-score   support\n",
      "\n",
      "       False       0.71      0.88      0.79       816\n",
      "        True       0.90      0.75      0.82      1184\n",
      "\n",
      "    accuracy                           0.80      2000\n",
      "   macro avg       0.81      0.82      0.80      2000\n",
      "weighted avg       0.82      0.80      0.81      2000\n",
      "\n"
     ]
    }
   ],
   "source": [
    "try_classifier(ExtraTreesClassifier(max_depth=10, n_estimators=100, random_state=1), X_train_tfidf, X_test_tfidf)"
   ]
  },
  {
   "cell_type": "code",
   "execution_count": 83,
   "id": "0c2daf97-bc6c-4f43-a6c2-56244ecfc0af",
   "metadata": {},
   "outputs": [
    {
     "name": "stdout",
     "output_type": "stream",
     "text": [
      "Mean accuracy: 0.8095\n",
      "TP: 752, FN: 116\n",
      "FP: 265, TN: 867\n",
      "              precision    recall  f1-score   support\n",
      "\n",
      "       False       0.74      0.87      0.80       868\n",
      "        True       0.88      0.77      0.82      1132\n",
      "\n",
      "    accuracy                           0.81      2000\n",
      "   macro avg       0.81      0.82      0.81      2000\n",
      "weighted avg       0.82      0.81      0.81      2000\n",
      "\n"
     ]
    }
   ],
   "source": [
    "try_classifier(ExtraTreesClassifier(max_depth=15, n_estimators=100, random_state=1), X_train_tfidf, X_test_tfidf)"
   ]
  },
  {
   "cell_type": "code",
   "execution_count": 84,
   "id": "e0a036ac-a3e8-4ea5-8c28-34f83ec53119",
   "metadata": {},
   "outputs": [
    {
     "name": "stdout",
     "output_type": "stream",
     "text": [
      "Mean accuracy: 0.7865\n",
      "TP: 670, FN: 80\n",
      "FP: 347, TN: 903\n",
      "              precision    recall  f1-score   support\n",
      "\n",
      "       False       0.66      0.89      0.76       750\n",
      "        True       0.92      0.72      0.81      1250\n",
      "\n",
      "    accuracy                           0.79      2000\n",
      "   macro avg       0.79      0.81      0.78      2000\n",
      "weighted avg       0.82      0.79      0.79      2000\n",
      "\n"
     ]
    }
   ],
   "source": [
    "try_classifier(ExtraTreesClassifier(max_depth=5, n_estimators=200, random_state=1), X_train_tfidf, X_test_tfidf)"
   ]
  },
  {
   "cell_type": "code",
   "execution_count": 85,
   "id": "59d052d8-0478-413c-9464-2878ab213fb7",
   "metadata": {},
   "outputs": [
    {
     "name": "stdout",
     "output_type": "stream",
     "text": [
      "Mean accuracy: 0.814\n",
      "TP: 708, FN: 63\n",
      "FP: 309, TN: 920\n",
      "              precision    recall  f1-score   support\n",
      "\n",
      "       False       0.70      0.92      0.79       771\n",
      "        True       0.94      0.75      0.83      1229\n",
      "\n",
      "    accuracy                           0.81      2000\n",
      "   macro avg       0.82      0.83      0.81      2000\n",
      "weighted avg       0.84      0.81      0.82      2000\n",
      "\n"
     ]
    }
   ],
   "source": [
    "try_classifier(ExtraTreesClassifier(max_depth=5, n_estimators=500, random_state=1), X_train_tfidf, X_test_tfidf)"
   ]
  },
  {
   "cell_type": "code",
   "execution_count": 86,
   "id": "03677dd7-e0d7-46a7-b0f5-f0bdd399cc43",
   "metadata": {},
   "outputs": [
    {
     "name": "stdout",
     "output_type": "stream",
     "text": [
      "Mean accuracy: 0.8195\n",
      "TP: 737, FN: 81\n",
      "FP: 280, TN: 902\n",
      "              precision    recall  f1-score   support\n",
      "\n",
      "       False       0.72      0.90      0.80       818\n",
      "        True       0.92      0.76      0.83      1182\n",
      "\n",
      "    accuracy                           0.82      2000\n",
      "   macro avg       0.82      0.83      0.82      2000\n",
      "weighted avg       0.84      0.82      0.82      2000\n",
      "\n"
     ]
    }
   ],
   "source": [
    "try_classifier(ExtraTreesClassifier(max_depth=10, n_estimators=200, random_state=1), X_train_tfidf, X_test_tfidf)"
   ]
  },
  {
   "cell_type": "code",
   "execution_count": 87,
   "id": "61045b7c-8f87-4d17-8fdf-8eba7729feae",
   "metadata": {},
   "outputs": [
    {
     "name": "stdout",
     "output_type": "stream",
     "text": [
      "Mean accuracy: 0.833\n",
      "TP: 772, FN: 89\n",
      "FP: 245, TN: 894\n",
      "              precision    recall  f1-score   support\n",
      "\n",
      "       False       0.76      0.90      0.82       861\n",
      "        True       0.91      0.78      0.84      1139\n",
      "\n",
      "    accuracy                           0.83      2000\n",
      "   macro avg       0.83      0.84      0.83      2000\n",
      "weighted avg       0.84      0.83      0.83      2000\n",
      "\n"
     ]
    }
   ],
   "source": [
    "try_classifier(ExtraTreesClassifier(max_depth=15, n_estimators=400, random_state=1), X_train_tfidf, X_test_tfidf)"
   ]
  },
  {
   "cell_type": "code",
   "execution_count": 88,
   "id": "92883c5a-ad3a-4c1e-957d-d33820c28c1c",
   "metadata": {},
   "outputs": [
    {
     "name": "stdout",
     "output_type": "stream",
     "text": [
      "Mean accuracy: 0.8345\n",
      "TP: 767, FN: 81\n",
      "FP: 250, TN: 902\n",
      "              precision    recall  f1-score   support\n",
      "\n",
      "       False       0.75      0.90      0.82       848\n",
      "        True       0.92      0.78      0.84      1152\n",
      "\n",
      "    accuracy                           0.83      2000\n",
      "   macro avg       0.84      0.84      0.83      2000\n",
      "weighted avg       0.85      0.83      0.84      2000\n",
      "\n"
     ]
    }
   ],
   "source": [
    "try_classifier(ExtraTreesClassifier(max_depth=15, n_estimators=500, random_state=1), X_train_tfidf, X_test_tfidf)"
   ]
  },
  {
   "cell_type": "code",
   "execution_count": 89,
   "id": "3ce3b95f-a744-45d6-8c63-f8ad04476fa7",
   "metadata": {},
   "outputs": [
    {
     "name": "stdout",
     "output_type": "stream",
     "text": [
      "Mean accuracy: 0.844\n",
      "TP: 801, FN: 96\n",
      "FP: 216, TN: 887\n",
      "              precision    recall  f1-score   support\n",
      "\n",
      "       False       0.79      0.89      0.84       897\n",
      "        True       0.90      0.80      0.85      1103\n",
      "\n",
      "    accuracy                           0.84      2000\n",
      "   macro avg       0.84      0.85      0.84      2000\n",
      "weighted avg       0.85      0.84      0.84      2000\n",
      "\n"
     ]
    }
   ],
   "source": [
    "try_classifier(ExtraTreesClassifier(max_depth=20, n_estimators=800, random_state=1), X_train_tfidf, X_test_tfidf)"
   ]
  },
  {
   "cell_type": "code",
   "execution_count": 90,
   "id": "b929e878-cc82-404e-902f-267b37721c3c",
   "metadata": {},
   "outputs": [
    {
     "name": "stdout",
     "output_type": "stream",
     "text": [
      "Mean accuracy: 0.8475\n",
      "TP: 808, FN: 96\n",
      "FP: 209, TN: 887\n",
      "              precision    recall  f1-score   support\n",
      "\n",
      "       False       0.79      0.89      0.84       904\n",
      "        True       0.90      0.81      0.85      1096\n",
      "\n",
      "    accuracy                           0.85      2000\n",
      "   macro avg       0.85      0.85      0.85      2000\n",
      "weighted avg       0.85      0.85      0.85      2000\n",
      "\n"
     ]
    }
   ],
   "source": [
    "try_classifier(ExtraTreesClassifier(max_depth=25, n_estimators=1000, random_state=1), X_train_tfidf, X_test_tfidf)"
   ]
  },
  {
   "cell_type": "code",
   "execution_count": 91,
   "id": "7c46dc51-9f1c-463a-a275-b6a2a779ec49",
   "metadata": {},
   "outputs": [
    {
     "name": "stdout",
     "output_type": "stream",
     "text": [
      "Mean accuracy: 0.8465\n",
      "TP: 808, FN: 98\n",
      "FP: 209, TN: 885\n",
      "              precision    recall  f1-score   support\n",
      "\n",
      "       False       0.79      0.89      0.84       906\n",
      "        True       0.90      0.81      0.85      1094\n",
      "\n",
      "    accuracy                           0.85      2000\n",
      "   macro avg       0.85      0.85      0.85      2000\n",
      "weighted avg       0.85      0.85      0.85      2000\n",
      "\n"
     ]
    }
   ],
   "source": [
    "try_classifier(ExtraTreesClassifier(max_depth=30, n_estimators=1500, random_state=1), X_train_tfidf, X_test_tfidf)"
   ]
  },
  {
   "cell_type": "code",
   "execution_count": 92,
   "id": "47eb9de0-2dae-451d-91f4-4327ec598c50",
   "metadata": {},
   "outputs": [
    {
     "data": {
      "text/plain": [
       "{'LogisticRegression()': (0.508,\n",
       "  array([[1013,  980],\n",
       "         [   4,    3]], dtype=int64)),\n",
       " 'RandomForestClassifier(max_depth=2, random_state=1)': (0.4915,\n",
       "  array([[   0,    0],\n",
       "         [1017,  983]], dtype=int64)),\n",
       " 'RandomForestClassifier(max_depth=3, random_state=1)': (0.503,\n",
       "  array([[942, 919],\n",
       "         [ 75,  64]], dtype=int64)),\n",
       " 'RandomForestClassifier(max_depth=5, random_state=1)': (0.5085,\n",
       "  array([[1017,  983],\n",
       "         [   0,    0]], dtype=int64)),\n",
       " 'RandomForestClassifier(max_depth=5, min_samples_leaf=5, random_state=1)': (0.4915,\n",
       "  array([[   0,    0],\n",
       "         [1017,  983]], dtype=int64)),\n",
       " 'RandomForestClassifier(max_depth=7, min_samples_leaf=5, n_estimators=200,\\n                       random_state=1)': (0.514,\n",
       "  array([[543, 498],\n",
       "         [474, 485]], dtype=int64)),\n",
       " 'RandomForestClassifier(max_depth=9, min_samples_leaf=5, n_estimators=200,\\n                       random_state=1)': (0.4915,\n",
       "  array([[   0,    0],\n",
       "         [1017,  983]], dtype=int64)),\n",
       " 'RandomForestClassifier(max_depth=15, min_samples_leaf=5, n_estimators=300,\\n                       random_state=1)': (0.5085,\n",
       "  array([[1017,  983],\n",
       "         [   0,    0]], dtype=int64)),\n",
       " 'RandomForestClassifier(max_depth=15, min_samples_leaf=10, n_estimators=300,\\n                       random_state=2)': (0.508,\n",
       "  array([[1016,  983],\n",
       "         [   1,    0]], dtype=int64)),\n",
       " 'RandomForestClassifier(max_depth=15, min_samples_leaf=15, n_estimators=300,\\n                       random_state=2)': (0.4915,\n",
       "  array([[   0,    0],\n",
       "         [1017,  983]], dtype=int64)),\n",
       " 'RandomForestClassifier(max_depth=16, n_estimators=400, random_state=2)': (0.508,\n",
       "  array([[1006,  973],\n",
       "         [  11,   10]], dtype=int64)),\n",
       " 'RandomForestClassifier(max_depth=20, n_estimators=600, random_state=1)': (0.4915,\n",
       "  array([[   0,    0],\n",
       "         [1017,  983]], dtype=int64)),\n",
       " 'RandomForestClassifier(max_depth=20, n_estimators=800, random_state=1)': (0.4915,\n",
       "  array([[   0,    0],\n",
       "         [1017,  983]], dtype=int64)),\n",
       " \"SVC(kernel='linear', max_iter=1000, random_state=1)\": (0.8405,\n",
       "  array([[829, 131],\n",
       "         [188, 852]], dtype=int64)),\n",
       " 'SVC(max_iter=1000, random_state=1)': (0.84,\n",
       "  array([[821, 124],\n",
       "         [196, 859]], dtype=int64)),\n",
       " \"SVC(degree=2, kernel='poly', max_iter=1000, random_state=1)\": (0.8225,\n",
       "  array([[809, 147],\n",
       "         [208, 836]], dtype=int64)),\n",
       " \"SVC(kernel='poly', max_iter=1000, random_state=1)\": (0.7385,\n",
       "  array([[601, 107],\n",
       "         [416, 876]], dtype=int64)),\n",
       " \"SVC(degree=4, kernel='poly', max_iter=1000, random_state=1)\": (0.592,\n",
       "  array([[283,  82],\n",
       "         [734, 901]], dtype=int64)),\n",
       " \"SVC(kernel='sigmoid', max_iter=1000, random_state=1)\": (0.8375,\n",
       "  array([[848, 156],\n",
       "         [169, 827]], dtype=int64)),\n",
       " 'ExtraTreesClassifier(max_depth=5, random_state=1)': (0.7625,\n",
       "  array([[636,  94],\n",
       "         [381, 889]], dtype=int64)),\n",
       " 'ExtraTreesClassifier(max_depth=10, random_state=1)': (0.8035,\n",
       "  array([[720,  96],\n",
       "         [297, 887]], dtype=int64)),\n",
       " 'ExtraTreesClassifier(max_depth=15, random_state=1)': (0.8095,\n",
       "  array([[752, 116],\n",
       "         [265, 867]], dtype=int64)),\n",
       " 'ExtraTreesClassifier(max_depth=5, n_estimators=200, random_state=1)': (0.7865,\n",
       "  array([[670,  80],\n",
       "         [347, 903]], dtype=int64)),\n",
       " 'ExtraTreesClassifier(max_depth=5, n_estimators=500, random_state=1)': (0.814,\n",
       "  array([[708,  63],\n",
       "         [309, 920]], dtype=int64)),\n",
       " 'ExtraTreesClassifier(max_depth=10, n_estimators=200, random_state=1)': (0.8195,\n",
       "  array([[737,  81],\n",
       "         [280, 902]], dtype=int64)),\n",
       " 'ExtraTreesClassifier(max_depth=15, n_estimators=400, random_state=1)': (0.833,\n",
       "  array([[772,  89],\n",
       "         [245, 894]], dtype=int64)),\n",
       " 'ExtraTreesClassifier(max_depth=15, n_estimators=500, random_state=1)': (0.8345,\n",
       "  array([[767,  81],\n",
       "         [250, 902]], dtype=int64)),\n",
       " 'ExtraTreesClassifier(max_depth=20, n_estimators=800, random_state=1)': (0.844,\n",
       "  array([[801,  96],\n",
       "         [216, 887]], dtype=int64)),\n",
       " 'ExtraTreesClassifier(max_depth=25, n_estimators=1000, random_state=1)': (0.8475,\n",
       "  array([[808,  96],\n",
       "         [209, 887]], dtype=int64)),\n",
       " 'ExtraTreesClassifier(max_depth=30, n_estimators=1500, random_state=1)': (0.8465,\n",
       "  array([[808,  98],\n",
       "         [209, 885]], dtype=int64))}"
      ]
     },
     "execution_count": 92,
     "metadata": {},
     "output_type": "execute_result"
    }
   ],
   "source": [
    "classifier_results"
   ]
  },
  {
   "cell_type": "code",
   "execution_count": null,
   "id": "102b4b53-8443-4c65-b679-b28658ac12cb",
   "metadata": {},
   "outputs": [],
   "source": []
  }
 ],
 "metadata": {
  "kernelspec": {
   "display_name": "Python 3 (ipykernel)",
   "language": "python",
   "name": "python3"
  },
  "language_info": {
   "codemirror_mode": {
    "name": "ipython",
    "version": 3
   },
   "file_extension": ".py",
   "mimetype": "text/x-python",
   "name": "python",
   "nbconvert_exporter": "python",
   "pygments_lexer": "ipython3",
   "version": "3.9.1"
  }
 },
 "nbformat": 4,
 "nbformat_minor": 5
}
